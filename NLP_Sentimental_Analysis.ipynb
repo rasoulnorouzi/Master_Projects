{
  "nbformat": 4,
  "nbformat_minor": 0,
  "metadata": {
    "colab": {
      "name": "NLPPractice.ipynb",
      "provenance": []
    },
    "kernelspec": {
      "name": "python3",
      "display_name": "Python 3"
    },
    "accelerator": "TPU"
  },
  "cells": [
    {
      "cell_type": "markdown",
      "metadata": {
        "id": "N0e_HBHiQUrl"
      },
      "source": [
        "## **Natural Language Processing**"
      ]
    },
    {
      "cell_type": "markdown",
      "metadata": {
        "id": "7taejy33QeWK"
      },
      "source": [
        "Natural Language Processing - Tokenization (NLP Zero to Hero, part 1)"
      ]
    },
    {
      "cell_type": "code",
      "metadata": {
        "id": "B1ZONZv4QleF",
        "colab": {
          "base_uri": "https://localhost:8080/",
          "height": 34
        },
        "outputId": "73dae38f-0cff-45d9-c2f4-fcef67430131"
      },
      "source": [
        "from tensorflow.keras.preprocessing.text import Tokenizer\n",
        "\n",
        "sentences = [\n",
        "    'i love my dog',\n",
        "    'I, love my cat',\n",
        "    'You love my dog!'\n",
        "]\n",
        "\n",
        "tokenizer = Tokenizer(num_words = 100)\n",
        "tokenizer.fit_on_texts(sentences)\n",
        "word_index = tokenizer.word_index\n",
        "print(word_index)"
      ],
      "execution_count": null,
      "outputs": [
        {
          "output_type": "stream",
          "text": [
            "{'love': 1, 'my': 2, 'i': 3, 'dog': 4, 'cat': 5, 'you': 6}\n"
          ],
          "name": "stdout"
        }
      ]
    },
    {
      "cell_type": "code",
      "metadata": {
        "id": "NHkLrDV-RUXy",
        "colab": {
          "base_uri": "https://localhost:8080/",
          "height": 34
        },
        "outputId": "c055ec0a-ba58-4b95-cff3-cb68f2665bcb"
      },
      "source": [
        "import tensorflow as tf\n",
        "text='includes basic punctuation, tabs, and newlines.'\n",
        "tf.keras.preprocessing.text.text_to_word_sequence(\n",
        "    text, filters='!\"#$%&()*+,-./:;<=>?@[\\\\]^_`{|}~\\t\\n', lower=True, split=' '\n",
        ")"
      ],
      "execution_count": null,
      "outputs": [
        {
          "output_type": "execute_result",
          "data": {
            "text/plain": [
              "['includes', 'basic', 'punctuation', 'tabs', 'and', 'newlines']"
            ]
          },
          "metadata": {
            "tags": []
          },
          "execution_count": 10
        }
      ]
    },
    {
      "cell_type": "markdown",
      "metadata": {
        "id": "ecTTcZzmQpKr"
      },
      "source": [
        "**Sequencing - Turning sentence into data (NLP Zero to Hero, part 2)**"
      ]
    },
    {
      "cell_type": "code",
      "metadata": {
        "id": "jfTK2vKoUn1E",
        "colab": {
          "base_uri": "https://localhost:8080/",
          "height": 289
        },
        "outputId": "3215e439-b519-4a0d-8a5e-5379dd70c06e"
      },
      "source": [
        "import tensorflow as tf\n",
        "from tensorflow import keras\n",
        "\n",
        "\n",
        "from tensorflow.keras.preprocessing.text import Tokenizer\n",
        "from tensorflow.keras.preprocessing.sequence import pad_sequences\n",
        "\n",
        "sentences = [\n",
        "    'I love my dog',\n",
        "    'I love my cat',\n",
        "    'You love my dog!',\n",
        "    'Do you think my dog is amazing?'\n",
        "]\n",
        "# '<OOV>' اگه واژه ای جدید بیاد و بخوای با مدل قبلی تبدیلش کنی به سیکوئنس، باید تو تنظیمات این \n",
        "#رو اظافه کنی تا خودش اتومات عدد گذاری کنی واسه واژه های جدید\n",
        "\n",
        "tokenizer = Tokenizer(num_words = 100, oov_token=\"<OOV>\")\n",
        "tokenizer.fit_on_texts(sentences)\n",
        "word_index = tokenizer.word_index\n",
        "\n",
        "sequences = tokenizer.texts_to_sequences(sentences)\n",
        "\n",
        "\n",
        "#یکسان سازی می کنه طول جمله ها رو با هم، بر اساس بزرگترین جمله تنظیم می کنه\n",
        "padded = pad_sequences(sequences, maxlen=5)\n",
        "print(\"\\nWord Index = \" , word_index)\n",
        "print(\"\\nSequences = \" , sequences)\n",
        "print(\"\\nPadded Sequences:\")\n",
        "print(padded)\n",
        "\n",
        "\n",
        "# Try with words that the tokenizer wasn't fit to\n",
        "test_data = [\n",
        "    'i really love my dog',\n",
        "    'my dog loves my manatee'\n",
        "]\n",
        " \n",
        "test_seq = tokenizer.texts_to_sequences(test_data)\n",
        "print(\"\\nTest Sequence = \", test_seq)\n",
        "\n",
        "padded = pad_sequences(test_seq, maxlen=10)\n",
        "print(\"\\nPadded Test Sequence: \")\n",
        "print(padded)"
      ],
      "execution_count": null,
      "outputs": [
        {
          "output_type": "stream",
          "text": [
            "\n",
            "Word Index =  {'<OOV>': 1, 'my': 2, 'love': 3, 'dog': 4, 'i': 5, 'you': 6, 'cat': 7, 'do': 8, 'think': 9, 'is': 10, 'amazing': 11}\n",
            "\n",
            "Sequences =  [[5, 3, 2, 4], [5, 3, 2, 7], [6, 3, 2, 4], [8, 6, 9, 2, 4, 10, 11]]\n",
            "\n",
            "Padded Sequences:\n",
            "[[ 0  5  3  2  4]\n",
            " [ 0  5  3  2  7]\n",
            " [ 0  6  3  2  4]\n",
            " [ 9  2  4 10 11]]\n",
            "\n",
            "Test Sequence =  [[5, 1, 3, 2, 4], [2, 4, 1, 2, 1]]\n",
            "\n",
            "Padded Test Sequence: \n",
            "[[0 0 0 0 0 5 1 3 2 4]\n",
            " [0 0 0 0 0 2 4 1 2 1]]\n"
          ],
          "name": "stdout"
        }
      ]
    },
    {
      "cell_type": "markdown",
      "metadata": {
        "id": "BZjbeztMQpPG"
      },
      "source": [
        "**Training a model to recognize sentiment in text (NLP Zero to Hero, part 3)**\n"
      ]
    },
    {
      "cell_type": "code",
      "metadata": {
        "id": "RqR1drW6SR2M",
        "colab": {
          "base_uri": "https://localhost:8080/",
          "height": 63
        },
        "outputId": "ea6ca4bb-663c-4a57-e193-932aa1ee06c5"
      },
      "source": [
        "import json\n",
        "import tensorflow as tf\n",
        "\n",
        "from tensorflow.keras.preprocessing.text import Tokenizer\n",
        "from tensorflow.keras.preprocessing.sequence import pad_sequences"
      ],
      "execution_count": null,
      "outputs": [
        {
          "output_type": "display_data",
          "data": {
            "text/html": [
              "<p style=\"color: red;\">\n",
              "The default version of TensorFlow in Colab will soon switch to TensorFlow 2.x.<br>\n",
              "We recommend you <a href=\"https://www.tensorflow.org/guide/migrate\" target=\"_blank\">upgrade</a> now \n",
              "or ensure your notebook will continue to use TensorFlow 1.x via the <code>%tensorflow_version 1.x</code> magic:\n",
              "<a href=\"https://colab.research.google.com/notebooks/tensorflow_version.ipynb\" target=\"_blank\">more info</a>.</p>\n"
            ],
            "text/plain": [
              "<IPython.core.display.HTML object>"
            ]
          },
          "metadata": {
            "tags": []
          }
        }
      ]
    },
    {
      "cell_type": "code",
      "metadata": {
        "id": "tibJLOs3SgpB"
      },
      "source": [
        "vocab_size = 10000\n",
        "embedding_dim = 16\n",
        "max_length = 100\n",
        "trunc_type='post'\n",
        "padding_type='post'\n",
        "oov_tok = \"<OOV>\"\n",
        "training_size = 20000"
      ],
      "execution_count": null,
      "outputs": []
    },
    {
      "cell_type": "code",
      "metadata": {
        "id": "2YzpvyS8Sjng",
        "colab": {
          "base_uri": "https://localhost:8080/",
          "height": 204
        },
        "outputId": "70a8ed0d-8e95-4563-9c72-9b9146e5c102"
      },
      "source": [
        "!wget --no-check-certificate \\\n",
        "    https://storage.googleapis.com/laurencemoroney-blog.appspot.com/sarcasm.json \\\n",
        "    -O /tmp/sarcasm.json"
      ],
      "execution_count": null,
      "outputs": [
        {
          "output_type": "stream",
          "text": [
            "--2020-03-04 16:06:53--  https://storage.googleapis.com/laurencemoroney-blog.appspot.com/sarcasm.json\n",
            "Resolving storage.googleapis.com (storage.googleapis.com)... 172.217.212.128, 2607:f8b0:4001:c03::80\n",
            "Connecting to storage.googleapis.com (storage.googleapis.com)|172.217.212.128|:443... connected.\n",
            "HTTP request sent, awaiting response... 200 OK\n",
            "Length: 5643545 (5.4M) [application/json]\n",
            "Saving to: ‘/tmp/sarcasm.json’\n",
            "\n",
            "\r/tmp/sarcasm.json     0%[                    ]       0  --.-KB/s               \r/tmp/sarcasm.json   100%[===================>]   5.38M  --.-KB/s    in 0.07s   \n",
            "\n",
            "2020-03-04 16:06:53 (80.0 MB/s) - ‘/tmp/sarcasm.json’ saved [5643545/5643545]\n",
            "\n"
          ],
          "name": "stdout"
        }
      ]
    },
    {
      "cell_type": "code",
      "metadata": {
        "id": "2ot5TBbSSlY8"
      },
      "source": [
        "with open(\"/tmp/sarcasm.json\", 'r') as f:\n",
        "    datastore = json.load(f)\n",
        "\n",
        "sentences = []\n",
        "labels = []\n",
        "\n",
        "for item in datastore:\n",
        "    sentences.append(item['headline'])\n",
        "    labels.append(item['is_sarcastic'])"
      ],
      "execution_count": null,
      "outputs": []
    },
    {
      "cell_type": "code",
      "metadata": {
        "id": "UMJWLtHUSnl_"
      },
      "source": [
        "training_sentences = sentences[0:training_size]\n",
        "testing_sentences = sentences[training_size:]\n",
        "training_labels = labels[0:training_size]\n",
        "testing_labels = labels[training_size:]"
      ],
      "execution_count": null,
      "outputs": []
    },
    {
      "cell_type": "code",
      "metadata": {
        "id": "1-Ye3rjESqVw"
      },
      "source": [
        "tokenizer = Tokenizer(num_words=vocab_size, oov_token=oov_tok)\n",
        "tokenizer.fit_on_texts(training_sentences)\n",
        "\n",
        "word_index = tokenizer.word_index\n",
        "\n",
        "training_sequences = tokenizer.texts_to_sequences(training_sentences)\n",
        "training_padded = pad_sequences(training_sequences, maxlen=max_length, padding=padding_type, truncating=trunc_type)\n",
        "\n",
        "testing_sequences = tokenizer.texts_to_sequences(testing_sentences)\n",
        "testing_padded = pad_sequences(testing_sequences, maxlen=max_length, padding=padding_type, truncating=trunc_type)"
      ],
      "execution_count": null,
      "outputs": []
    },
    {
      "cell_type": "code",
      "metadata": {
        "id": "Z7WaT0Z7Ssoo",
        "colab": {
          "base_uri": "https://localhost:8080/",
          "height": 190
        },
        "outputId": "738c5405-f009-4508-9e97-c287d6a2f0cf"
      },
      "source": [
        "model = tf.keras.Sequential([\n",
        "    tf.keras.layers.Embedding(vocab_size, embedding_dim, input_length=max_length),\n",
        "    tf.keras.layers.GlobalAveragePooling1D(),\n",
        "    tf.keras.layers.Dense(24, activation='relu'),\n",
        "    tf.keras.layers.Dense(1, activation='sigmoid')\n",
        "])\n",
        "model.compile(loss='binary_crossentropy',optimizer='adam',metrics=['accuracy'])"
      ],
      "execution_count": null,
      "outputs": [
        {
          "output_type": "stream",
          "text": [
            "WARNING:tensorflow:From /usr/local/lib/python3.6/dist-packages/tensorflow_core/python/keras/initializers.py:119: calling RandomUniform.__init__ (from tensorflow.python.ops.init_ops) with dtype is deprecated and will be removed in a future version.\n",
            "Instructions for updating:\n",
            "Call initializer instance with the dtype argument instead of passing it to the constructor\n",
            "WARNING:tensorflow:From /usr/local/lib/python3.6/dist-packages/tensorflow_core/python/ops/resource_variable_ops.py:1630: calling BaseResourceVariable.__init__ (from tensorflow.python.ops.resource_variable_ops) with constraint is deprecated and will be removed in a future version.\n",
            "Instructions for updating:\n",
            "If using Keras pass *_constraint arguments to layers.\n",
            "WARNING:tensorflow:From /usr/local/lib/python3.6/dist-packages/tensorflow_core/python/ops/nn_impl.py:183: where (from tensorflow.python.ops.array_ops) is deprecated and will be removed in a future version.\n",
            "Instructions for updating:\n",
            "Use tf.where in 2.0, which has the same broadcast rule as np.where\n"
          ],
          "name": "stdout"
        }
      ]
    },
    {
      "cell_type": "code",
      "metadata": {
        "id": "rbDQpapuSvyh",
        "colab": {
          "base_uri": "https://localhost:8080/",
          "height": 289
        },
        "outputId": "4abb0537-25ef-4e92-d764-7373f2cef56e"
      },
      "source": [
        "model.summary()"
      ],
      "execution_count": null,
      "outputs": [
        {
          "output_type": "stream",
          "text": [
            "Model: \"sequential\"\n",
            "_________________________________________________________________\n",
            "Layer (type)                 Output Shape              Param #   \n",
            "=================================================================\n",
            "embedding (Embedding)        (None, 100, 16)           160000    \n",
            "_________________________________________________________________\n",
            "global_average_pooling1d (Gl (None, 16)                0         \n",
            "_________________________________________________________________\n",
            "dense (Dense)                (None, 24)                408       \n",
            "_________________________________________________________________\n",
            "dense_1 (Dense)              (None, 1)                 25        \n",
            "=================================================================\n",
            "Total params: 160,433\n",
            "Trainable params: 160,433\n",
            "Non-trainable params: 0\n",
            "_________________________________________________________________\n"
          ],
          "name": "stdout"
        }
      ]
    },
    {
      "cell_type": "code",
      "metadata": {
        "id": "J4jbhbjtSx7q",
        "colab": {
          "base_uri": "https://localhost:8080/",
          "height": 1000
        },
        "outputId": "8a98549c-fae5-4dfa-b66f-7656934fa08d"
      },
      "source": [
        "num_epochs = 30\n",
        "history = model.fit(training_padded, training_labels, epochs=num_epochs, validation_data=(testing_padded, testing_labels), verbose=2)"
      ],
      "execution_count": null,
      "outputs": [
        {
          "output_type": "stream",
          "text": [
            "Train on 20000 samples, validate on 6709 samples\n",
            "Epoch 1/30\n",
            "20000/20000 - 2s - loss: 0.6619 - acc: 0.5920 - val_loss: 0.5733 - val_acc: 0.7517\n",
            "Epoch 2/30\n",
            "20000/20000 - 2s - loss: 0.4328 - acc: 0.8293 - val_loss: 0.3929 - val_acc: 0.8319\n",
            "Epoch 3/30\n",
            "20000/20000 - 2s - loss: 0.3111 - acc: 0.8784 - val_loss: 0.3578 - val_acc: 0.8483\n",
            "Epoch 4/30\n",
            "20000/20000 - 2s - loss: 0.2581 - acc: 0.9010 - val_loss: 0.3458 - val_acc: 0.8548\n",
            "Epoch 5/30\n",
            "20000/20000 - 2s - loss: 0.2224 - acc: 0.9140 - val_loss: 0.3467 - val_acc: 0.8527\n",
            "Epoch 6/30\n",
            "20000/20000 - 2s - loss: 0.1955 - acc: 0.9251 - val_loss: 0.3560 - val_acc: 0.8524\n",
            "Epoch 7/30\n",
            "20000/20000 - 2s - loss: 0.1725 - acc: 0.9354 - val_loss: 0.3687 - val_acc: 0.8554\n",
            "Epoch 8/30\n",
            "20000/20000 - 2s - loss: 0.1535 - acc: 0.9440 - val_loss: 0.3824 - val_acc: 0.8542\n",
            "Epoch 9/30\n",
            "20000/20000 - 2s - loss: 0.1378 - acc: 0.9507 - val_loss: 0.4009 - val_acc: 0.8523\n",
            "Epoch 10/30\n",
            "20000/20000 - 2s - loss: 0.1251 - acc: 0.9550 - val_loss: 0.4281 - val_acc: 0.8459\n",
            "Epoch 11/30\n",
            "20000/20000 - 2s - loss: 0.1136 - acc: 0.9598 - val_loss: 0.4507 - val_acc: 0.8439\n",
            "Epoch 12/30\n",
            "20000/20000 - 2s - loss: 0.1031 - acc: 0.9650 - val_loss: 0.4913 - val_acc: 0.8372\n",
            "Epoch 13/30\n",
            "20000/20000 - 2s - loss: 0.0953 - acc: 0.9672 - val_loss: 0.5183 - val_acc: 0.8362\n",
            "Epoch 14/30\n",
            "20000/20000 - 2s - loss: 0.0857 - acc: 0.9729 - val_loss: 0.5343 - val_acc: 0.8378\n",
            "Epoch 15/30\n",
            "20000/20000 - 2s - loss: 0.0792 - acc: 0.9734 - val_loss: 0.5556 - val_acc: 0.8405\n",
            "Epoch 16/30\n",
            "20000/20000 - 2s - loss: 0.0718 - acc: 0.9777 - val_loss: 0.5912 - val_acc: 0.8341\n",
            "Epoch 17/30\n",
            "20000/20000 - 2s - loss: 0.0659 - acc: 0.9793 - val_loss: 0.6226 - val_acc: 0.8311\n",
            "Epoch 18/30\n",
            "20000/20000 - 2s - loss: 0.0607 - acc: 0.9808 - val_loss: 0.6620 - val_acc: 0.8310\n",
            "Epoch 19/30\n",
            "20000/20000 - 2s - loss: 0.0562 - acc: 0.9825 - val_loss: 0.6956 - val_acc: 0.8284\n",
            "Epoch 20/30\n",
            "20000/20000 - 2s - loss: 0.0521 - acc: 0.9846 - val_loss: 0.7467 - val_acc: 0.8271\n",
            "Epoch 21/30\n",
            "20000/20000 - 2s - loss: 0.0473 - acc: 0.9866 - val_loss: 0.7519 - val_acc: 0.8271\n",
            "Epoch 22/30\n",
            "20000/20000 - 2s - loss: 0.0453 - acc: 0.9865 - val_loss: 0.8025 - val_acc: 0.8231\n",
            "Epoch 23/30\n",
            "20000/20000 - 2s - loss: 0.0403 - acc: 0.9877 - val_loss: 0.8879 - val_acc: 0.8188\n",
            "Epoch 24/30\n",
            "20000/20000 - 2s - loss: 0.0373 - acc: 0.9889 - val_loss: 0.8625 - val_acc: 0.8204\n",
            "Epoch 25/30\n",
            "20000/20000 - 2s - loss: 0.0345 - acc: 0.9897 - val_loss: 0.9030 - val_acc: 0.8183\n",
            "Epoch 26/30\n",
            "20000/20000 - 2s - loss: 0.0324 - acc: 0.9903 - val_loss: 0.9353 - val_acc: 0.8144\n",
            "Epoch 27/30\n",
            "20000/20000 - 2s - loss: 0.0328 - acc: 0.9902 - val_loss: 1.0739 - val_acc: 0.8140\n",
            "Epoch 28/30\n",
            "20000/20000 - 2s - loss: 0.0280 - acc: 0.9920 - val_loss: 1.0381 - val_acc: 0.8141\n",
            "Epoch 29/30\n",
            "20000/20000 - 2s - loss: 0.0256 - acc: 0.9931 - val_loss: 1.0499 - val_acc: 0.8147\n",
            "Epoch 30/30\n",
            "20000/20000 - 2s - loss: 0.0233 - acc: 0.9934 - val_loss: 1.0717 - val_acc: 0.8126\n"
          ],
          "name": "stdout"
        }
      ]
    },
    {
      "cell_type": "code",
      "metadata": {
        "id": "HEX7XguqSzz8",
        "colab": {
          "base_uri": "https://localhost:8080/",
          "height": 541
        },
        "outputId": "3cfe924e-a154-4856-ac30-558b18769987"
      },
      "source": [
        "import matplotlib.pyplot as plt\n",
        "\n",
        "\n",
        "def plot_graphs(history, string):\n",
        "  plt.plot(history.history[string])\n",
        "  plt.plot(history.history['val_'+string])\n",
        "  plt.xlabel(\"Epochs\")\n",
        "  plt.ylabel(string)\n",
        "  plt.legend([string, 'val_'+string])\n",
        "  plt.show()\n",
        "  \n",
        "plot_graphs(history, \"acc\")\n",
        "plot_graphs(history, \"loss\")"
      ],
      "execution_count": null,
      "outputs": [
        {
          "output_type": "display_data",
          "data": {
            "image/png": "[encoded data removed]",
            "text/plain": [
              "<Figure size 432x288 with 1 Axes>"
            ]
          },
          "metadata": {
            "tags": []
          }
        },
        {
          "output_type": "display_data",
          "data": {
            "image/png": "[encoded data removed]",
            "text/plain": [
              "<Figure size 432x288 with 1 Axes>"
            ]
          },
          "metadata": {
            "tags": []
          }
        }
      ]
    },
    {
      "cell_type": "code",
      "metadata": {
        "id": "JG77xARlS1j5",
        "colab": {
          "base_uri": "https://localhost:8080/",
          "height": 88
        },
        "outputId": "89a69701-4fa2-4347-db91-51df47d3b503"
      },
      "source": [
        "reverse_word_index = dict([(value, key) for (key, value) in word_index.items()])\n",
        "\n",
        "def decode_sentence(text):\n",
        "    return ' '.join([reverse_word_index.get(i, '?') for i in text])\n",
        "\n",
        "print(decode_sentence(training_padded[0]))\n",
        "print(training_sentences[2])\n",
        "print(labels[2])"
      ],
      "execution_count": null,
      "outputs": [
        {
          "output_type": "stream",
          "text": [
            "former <OOV> store clerk sues over secret 'black <OOV> for minority shoppers ? ? ? ? ? ? ? ? ? ? ? ? ? ? ? ? ? ? ? ? ? ? ? ? ? ? ? ? ? ? ? ? ? ? ? ? ? ? ? ? ? ? ? ? ? ? ? ? ? ? ? ? ? ? ? ? ? ? ? ? ? ? ? ? ? ? ? ? ? ? ? ? ? ? ? ? ? ? ? ? ? ? ? ? ? ? ? ?\n",
            "mom starting to fear son's web series closest thing she will have to grandchild\n",
            "1\n"
          ],
          "name": "stdout"
        }
      ]
    },
    {
      "cell_type": "code",
      "metadata": {
        "id": "alEevvH3S3Xn",
        "colab": {
          "base_uri": "https://localhost:8080/",
          "height": 34
        },
        "outputId": "4ec3b830-1fde-4825-f4fe-7358ed420d45"
      },
      "source": [
        "e = model.layers[0]\n",
        "weights = e.get_weights()[0]\n",
        "print(weights.shape) # shape: (vocab_size, embedding_dim)"
      ],
      "execution_count": null,
      "outputs": [
        {
          "output_type": "stream",
          "text": [
            "(10000, 16)\n"
          ],
          "name": "stdout"
        }
      ]
    },
    {
      "cell_type": "code",
      "metadata": {
        "id": "t7tOmLYOS5JC"
      },
      "source": [
        "import io\n",
        "\n",
        "out_v = io.open('vecs.tsv', 'w', encoding='utf-8')\n",
        "out_m = io.open('meta.tsv', 'w', encoding='utf-8')\n",
        "for word_num in range(1, vocab_size):\n",
        "  word = reverse_word_index[word_num]\n",
        "  embeddings = weights[word_num]\n",
        "  out_m.write(word + \"\\n\")\n",
        "  out_v.write('\\t'.join([str(x) for x in embeddings]) + \"\\n\")\n",
        "out_v.close()\n",
        "out_m.close()"
      ],
      "execution_count": null,
      "outputs": []
    },
    {
      "cell_type": "code",
      "metadata": {
        "id": "Noj_QruPS7SD"
      },
      "source": [
        "try:\n",
        "  from google.colab import files\n",
        "except ImportError:\n",
        "  pass\n",
        "else:\n",
        "  files.download('vecs.tsv')\n",
        "  files.download('meta.tsv')"
      ],
      "execution_count": null,
      "outputs": []
    },
    {
      "cell_type": "code",
      "metadata": {
        "id": "RdQ4s3mdS9bf",
        "colab": {
          "base_uri": "https://localhost:8080/",
          "height": 51
        },
        "outputId": "3e9e0f7a-180d-4e49-b738-ee04705a9f28"
      },
      "source": [
        "sentence = [\"granny starting to fear spiders in the garden might be real\", \"game of thrones season finale showing this sunday night\"]\n",
        "sequences = tokenizer.texts_to_sequences(sentence)\n",
        "padded = pad_sequences(sequences, maxlen=max_length, padding=padding_type, truncating=trunc_type)\n",
        "print(model.predict(padded))"
      ],
      "execution_count": null,
      "outputs": [
        {
          "output_type": "stream",
          "text": [
            "[[9.642914e-01]\n",
            " [2.282693e-05]]\n"
          ],
          "name": "stdout"
        }
      ]
    }
  ]
}