{
  "nbformat": 4,
  "nbformat_minor": 0,
  "metadata": {
    "colab": {
      "name": "GIST.ipynb",
      "provenance": [],
      "collapsed_sections": [],
      "toc_visible": true
    },
    "kernelspec": {
      "name": "python3",
      "display_name": "Python 3"
    },
    "accelerator": "TPU"
  },
  "cells": [
    {
      "cell_type": "markdown",
      "metadata": {
        "id": "6HXfhsZb41Mq"
      },
      "source": [
        "**merging dataset**"
      ]
    },
    {
      "cell_type": "code",
      "metadata": {
        "id": "GgLQpHsjYclp"
      },
      "source": [
        "dataset2008=pd.read_excel('/content/2008.xlsx')\n",
        "dataset2009=pd.read_excel('/content/2009.xlsx')\n",
        "dataset2010=pd.read_excel('/content/2010.xlsx')\n",
        "dataset2011=pd.read_excel('/content/2011.xlsx')\n",
        "dataset2012=pd.read_excel('/content/2012.xlsx')\n",
        "dataset2013=pd.read_excel('/content/2013.xlsx')\n",
        "dataset2014=pd.read_excel('/content/2014.xlsx')\n",
        "dataset2015=pd.read_excel('/content/2015.xlsx')\n",
        "dataset2016=pd.read_excel('/content/2016.xlsx')\n",
        "dataset2017=pd.read_excel('/content/2017.xlsx')\n",
        "dataset2018=pd.read_excel('/content/2018.xlsx')\n",
        "dataset2019=pd.read_excel('/content/2019.xlsx')\n"
      ],
      "execution_count": null,
      "outputs": []
    },
    {
      "cell_type": "code",
      "metadata": {
        "id": "iPRUX2OGb2fG"
      },
      "source": [
        "frames = [dataset2008,dataset2009, dataset2010,dataset2011,dataset2012,dataset2013,dataset2014,dataset2015,dataset2016,\n",
        "         dataset2017,dataset2018,dataset2019]\n",
        "result = pd.concat(frames,ignore_index=True)\n",
        "result.head()"
      ],
      "execution_count": null,
      "outputs": []
    },
    {
      "cell_type": "code",
      "metadata": {
        "id": "UKL6GumWcaqi"
      },
      "source": [
        "print(result.shape)"
      ],
      "execution_count": null,
      "outputs": []
    },
    {
      "cell_type": "markdown",
      "metadata": {
        "id": "4WPpkeBaQSr0"
      },
      "source": [
        "<h1>Start</h1>"
      ]
    },
    {
      "cell_type": "code",
      "metadata": {
        "id": "3i_jmQ-ZRwm9"
      },
      "source": [
        "import pandas as pd\n",
        "import numpy as np\n",
        "import re "
      ],
      "execution_count": null,
      "outputs": []
    },
    {
      "cell_type": "code",
      "metadata": {
        "id": "H7c1pkns4cvn",
        "colab": {
          "base_uri": "https://localhost:8080/",
          "height": 204
        },
        "outputId": "271daf19-74e2-4ef4-b60b-fc12ac8accef"
      },
      "source": [
        "dataset=pd.read_excel('/content/dataset_gis.xlsx')\n",
        "data=dataset[['Abstract','Year Published','Keywords']].copy()\n",
        "data.head()"
      ],
      "execution_count": null,
      "outputs": [
        {
          "output_type": "execute_result",
          "data": {
            "text/html": [
              "<div>\n",
              "<style scoped>\n",
              "    .dataframe tbody tr th:only-of-type {\n",
              "        vertical-align: middle;\n",
              "    }\n",
              "\n",
              "    .dataframe tbody tr th {\n",
              "        vertical-align: top;\n",
              "    }\n",
              "\n",
              "    .dataframe thead th {\n",
              "        text-align: right;\n",
              "    }\n",
              "</style>\n",
              "<table border=\"1\" class=\"dataframe\">\n",
              "  <thead>\n",
              "    <tr style=\"text-align: right;\">\n",
              "      <th></th>\n",
              "      <th>Abstract</th>\n",
              "      <th>Year Published</th>\n",
              "      <th>Keywords</th>\n",
              "    </tr>\n",
              "  </thead>\n",
              "  <tbody>\n",
              "    <tr>\n",
              "      <th>0</th>\n",
              "      <td>Despite a heightened focus on sustainable tran...</td>\n",
              "      <td>2008</td>\n",
              "      <td>Sweden, sugar beet transport, proximity analys...</td>\n",
              "    </tr>\n",
              "    <tr>\n",
              "      <th>1</th>\n",
              "      <td>Confined poultry (broiler) production in Alaba...</td>\n",
              "      <td>2008</td>\n",
              "      <td>Broiler litter, Poultry litter, Decision suppo...</td>\n",
              "    </tr>\n",
              "    <tr>\n",
              "      <th>2</th>\n",
              "      <td>Extraction of short-wood from harvesting opera...</td>\n",
              "      <td>2008</td>\n",
              "      <td>Russia, logging, cut-to-length, logistics, del...</td>\n",
              "    </tr>\n",
              "    <tr>\n",
              "      <th>3</th>\n",
              "      <td>TRANSASIST is an intelligent system for the ma...</td>\n",
              "      <td>2008</td>\n",
              "      <td>Intelligent management system, urban transport...</td>\n",
              "    </tr>\n",
              "    <tr>\n",
              "      <th>4</th>\n",
              "      <td>Hazardous materials routing constitutes a crit...</td>\n",
              "      <td>2008</td>\n",
              "      <td>Decision support systems, Bi-objective routing...</td>\n",
              "    </tr>\n",
              "  </tbody>\n",
              "</table>\n",
              "</div>"
            ],
            "text/plain": [
              "                                            Abstract  ...                                           Keywords\n",
              "0  Despite a heightened focus on sustainable tran...  ...  Sweden, sugar beet transport, proximity analys...\n",
              "1  Confined poultry (broiler) production in Alaba...  ...  Broiler litter, Poultry litter, Decision suppo...\n",
              "2  Extraction of short-wood from harvesting opera...  ...  Russia, logging, cut-to-length, logistics, del...\n",
              "3  TRANSASIST is an intelligent system for the ma...  ...  Intelligent management system, urban transport...\n",
              "4  Hazardous materials routing constitutes a crit...  ...  Decision support systems, Bi-objective routing...\n",
              "\n",
              "[5 rows x 3 columns]"
            ]
          },
          "metadata": {
            "tags": []
          },
          "execution_count": 151
        }
      ]
    },
    {
      "cell_type": "code",
      "metadata": {
        "id": "ZDPK-tRCfooR",
        "colab": {
          "base_uri": "https://localhost:8080/",
          "height": 527
        },
        "outputId": "31cf2c43-a560-4ac7-90bb-bb62df344725"
      },
      "source": [
        "dataset.head()"
      ],
      "execution_count": null,
      "outputs": [
        {
          "output_type": "execute_result",
          "data": {
            "text/html": [
              "<div>\n",
              "<style scoped>\n",
              "    .dataframe tbody tr th:only-of-type {\n",
              "        vertical-align: middle;\n",
              "    }\n",
              "\n",
              "    .dataframe tbody tr th {\n",
              "        vertical-align: top;\n",
              "    }\n",
              "\n",
              "    .dataframe thead th {\n",
              "        text-align: right;\n",
              "    }\n",
              "</style>\n",
              "<table border=\"1\" class=\"dataframe\">\n",
              "  <thead>\n",
              "    <tr style=\"text-align: right;\">\n",
              "      <th></th>\n",
              "      <th>Unnamed: 0</th>\n",
              "      <th>Authors</th>\n",
              "      <th>Title</th>\n",
              "      <th>Keywords</th>\n",
              "      <th>Publication Name</th>\n",
              "      <th>Year Published</th>\n",
              "      <th>Abstract</th>\n",
              "    </tr>\n",
              "  </thead>\n",
              "  <tbody>\n",
              "    <tr>\n",
              "      <th>0</th>\n",
              "      <td>0</td>\n",
              "      <td>Ness, Barry; Brogaard, Sara</td>\n",
              "      <td>GIS proximity analysis and environmental asses...</td>\n",
              "      <td>Sweden, sugar beet transport, proximity analys...</td>\n",
              "      <td>AREA</td>\n",
              "      <td>2008</td>\n",
              "      <td>Despite a heightened focus on sustainable tran...</td>\n",
              "    </tr>\n",
              "    <tr>\n",
              "      <th>1</th>\n",
              "      <td>1</td>\n",
              "      <td>Kang, M. S.; Srivastava, P.; Tyson, T.; Fulton...</td>\n",
              "      <td>A comprehensive GIS-based poultry litter manag...</td>\n",
              "      <td>Broiler litter, Poultry litter, Decision suppo...</td>\n",
              "      <td>COMPUTERS AND ELECTRONICS IN AGRICULTURE</td>\n",
              "      <td>2008</td>\n",
              "      <td>Confined poultry (broiler) production in Alaba...</td>\n",
              "    </tr>\n",
              "    <tr>\n",
              "      <th>2</th>\n",
              "      <td>2</td>\n",
              "      <td>Gerasimov, Yuri; Sokolov, Anton; Karjalainen, ...</td>\n",
              "      <td>GIS-Based Decision Support Program for Plannin...</td>\n",
              "      <td>Russia, logging, cut-to-length, logistics, del...</td>\n",
              "      <td>CROATIAN JOURNAL OF FOREST ENGINEERING</td>\n",
              "      <td>2008</td>\n",
              "      <td>Extraction of short-wood from harvesting opera...</td>\n",
              "    </tr>\n",
              "    <tr>\n",
              "      <th>3</th>\n",
              "      <td>3</td>\n",
              "      <td>Hrin, Gabriela Rodica; Anghel, Lucian Emanuel;...</td>\n",
              "      <td>Solutions for Finding the Optimum Route betwee...</td>\n",
              "      <td>Intelligent management system, urban transport...</td>\n",
              "      <td>STUDIES IN INFORMATICS AND CONTROL</td>\n",
              "      <td>2008</td>\n",
              "      <td>TRANSASIST is an intelligent system for the ma...</td>\n",
              "    </tr>\n",
              "    <tr>\n",
              "      <th>4</th>\n",
              "      <td>4</td>\n",
              "      <td>Zografos, Konstantinos G.; Androutsopoulos, Ko...</td>\n",
              "      <td>A decision support system for integrated hazar...</td>\n",
              "      <td>Decision support systems, Bi-objective routing...</td>\n",
              "      <td>TRANSPORTATION RESEARCH PART C-EMERGING TECHNO...</td>\n",
              "      <td>2008</td>\n",
              "      <td>Hazardous materials routing constitutes a crit...</td>\n",
              "    </tr>\n",
              "  </tbody>\n",
              "</table>\n",
              "</div>"
            ],
            "text/plain": [
              "   Unnamed: 0  ...                                           Abstract\n",
              "0           0  ...  Despite a heightened focus on sustainable tran...\n",
              "1           1  ...  Confined poultry (broiler) production in Alaba...\n",
              "2           2  ...  Extraction of short-wood from harvesting opera...\n",
              "3           3  ...  TRANSASIST is an intelligent system for the ma...\n",
              "4           4  ...  Hazardous materials routing constitutes a crit...\n",
              "\n",
              "[5 rows x 7 columns]"
            ]
          },
          "metadata": {
            "tags": []
          },
          "execution_count": 152
        }
      ]
    },
    {
      "cell_type": "code",
      "metadata": {
        "id": "mVXv8ORloIFq",
        "colab": {
          "base_uri": "https://localhost:8080/",
          "height": 204
        },
        "outputId": "194fa91a-d76b-4c34-a6be-2a0f9c3ceb62"
      },
      "source": [
        "subset=pd.read_excel('/content/Subset 2.xlsx')\n",
        "subset.head()"
      ],
      "execution_count": null,
      "outputs": [
        {
          "output_type": "execute_result",
          "data": {
            "text/html": [
              "<div>\n",
              "<style scoped>\n",
              "    .dataframe tbody tr th:only-of-type {\n",
              "        vertical-align: middle;\n",
              "    }\n",
              "\n",
              "    .dataframe tbody tr th {\n",
              "        vertical-align: top;\n",
              "    }\n",
              "\n",
              "    .dataframe thead th {\n",
              "        text-align: right;\n",
              "    }\n",
              "</style>\n",
              "<table border=\"1\" class=\"dataframe\">\n",
              "  <thead>\n",
              "    <tr style=\"text-align: right;\">\n",
              "      <th></th>\n",
              "      <th>second</th>\n",
              "      <th>main</th>\n",
              "    </tr>\n",
              "  </thead>\n",
              "  <tbody>\n",
              "    <tr>\n",
              "      <th>0</th>\n",
              "      <td>gis</td>\n",
              "      <td>geographical information system</td>\n",
              "    </tr>\n",
              "    <tr>\n",
              "      <th>1</th>\n",
              "      <td>geographic information system</td>\n",
              "      <td>geographical information system</td>\n",
              "    </tr>\n",
              "    <tr>\n",
              "      <th>2</th>\n",
              "      <td>geographical information systems</td>\n",
              "      <td>geographical information system</td>\n",
              "    </tr>\n",
              "    <tr>\n",
              "      <th>3</th>\n",
              "      <td>geospatial information system</td>\n",
              "      <td>geographical information system</td>\n",
              "    </tr>\n",
              "    <tr>\n",
              "      <th>4</th>\n",
              "      <td>geographic information systems</td>\n",
              "      <td>geographical information system</td>\n",
              "    </tr>\n",
              "  </tbody>\n",
              "</table>\n",
              "</div>"
            ],
            "text/plain": [
              "                             second                             main\n",
              "0                               gis  geographical information system\n",
              "1     geographic information system  geographical information system\n",
              "2  geographical information systems  geographical information system\n",
              "3     geospatial information system  geographical information system\n",
              "4    geographic information systems  geographical information system"
            ]
          },
          "metadata": {
            "tags": []
          },
          "execution_count": 153
        }
      ]
    },
    {
      "cell_type": "code",
      "metadata": {
        "id": "8nOFLg5moR-y"
      },
      "source": [
        "def lowalpha(text):\n",
        "    return text.lower()\n",
        "\n",
        "second=subset['second'].map(lowalpha)\n",
        "main=subset['main'].map(lowalpha)"
      ],
      "execution_count": null,
      "outputs": []
    },
    {
      "cell_type": "code",
      "metadata": {
        "id": "wXYaOg4OoSTQ"
      },
      "source": [
        "text_dic={}\n",
        "zip_list=zip(second,main)\n",
        "for word in zip_list:\n",
        "    text_dic[word[0]]=word[1]"
      ],
      "execution_count": null,
      "outputs": []
    },
    {
      "cell_type": "code",
      "metadata": {
        "id": "e3Fm-tg1oSjF"
      },
      "source": [
        "\n",
        "def remove_p(text):\n",
        "    return re.sub(r\"\\(.*?\\)\",'',text)\n",
        "\n",
        "def only_text(text):\n",
        "    return re.sub(r\"[^A-Za-z \\s]\",'',text)\n",
        "\n",
        "def tex_to_main(text):\n",
        "    for e in list(text_dic.keys()):\n",
        "        if e in text:\n",
        "            text=text.replace(e,text_dic[e])\n",
        "    return text\n",
        "\n",
        "\n",
        "data['Abstract']=data['Abstract'].map(lowalpha)\n",
        "#data['Abstract']=data['Abstract'].map(tex_to_main)\n",
        "data['Abstract']=data['Abstract'].map(remove_p)\n",
        "#data['Abstract']=data['Abstract'].map(only_text)"
      ],
      "execution_count": null,
      "outputs": []
    },
    {
      "cell_type": "code",
      "metadata": {
        "id": "mCqXpyhooTPa"
      },
      "source": [
        ""
      ],
      "execution_count": null,
      "outputs": []
    },
    {
      "cell_type": "code",
      "metadata": {
        "id": "I8BOpDcqoTe5"
      },
      "source": [
        ""
      ],
      "execution_count": null,
      "outputs": []
    },
    {
      "cell_type": "markdown",
      "metadata": {
        "id": "nrYUz4s46xg9"
      },
      "source": [
        "importing tools!"
      ]
    },
    {
      "cell_type": "code",
      "metadata": {
        "id": "kQVz4bA_6PJy",
        "colab": {
          "base_uri": "https://localhost:8080/",
          "height": 153
        },
        "outputId": "d4491a25-5b66-4778-c5e9-a5e26c2382a4"
      },
      "source": [
        "import nltk\n",
        "from nltk.tokenize import word_tokenize\n",
        "nltk.download('punkt')\n",
        "nltk.download('stopwords')\n",
        "nltk.download('averaged_perceptron_tagger')\n",
        "from nltk.corpus import stopwords\n",
        "import re\n",
        "from nltk.stem import PorterStemmer"
      ],
      "execution_count": null,
      "outputs": [
        {
          "output_type": "stream",
          "text": [
            "[nltk_data] Downloading package punkt to /root/nltk_data...\n",
            "[nltk_data]   Package punkt is already up-to-date!\n",
            "[nltk_data] Downloading package stopwords to /root/nltk_data...\n",
            "[nltk_data]   Package stopwords is already up-to-date!\n",
            "[nltk_data] Downloading package averaged_perceptron_tagger to\n",
            "[nltk_data]     /root/nltk_data...\n",
            "[nltk_data]   Package averaged_perceptron_tagger is already up-to-\n",
            "[nltk_data]       date!\n"
          ],
          "name": "stdout"
        }
      ]
    },
    {
      "cell_type": "markdown",
      "metadata": {
        "id": "HuCpZzr06062"
      },
      "source": [
        "Defrining our special stopwords"
      ]
    },
    {
      "cell_type": "code",
      "metadata": {
        "id": "tNvbOgpN6z9O",
        "colab": {
          "base_uri": "https://localhost:8080/",
          "height": 71
        },
        "outputId": "d4cbc47f-ed23-4f5f-a179-4df65661b7bc"
      },
      "source": [
        "f=open(\"/content/stopwords_plus.txt\", \"r\").read()\n",
        "s_stopwords = word_tokenize(f)[1:]\n",
        "\n",
        "print(s_stopwords)\n",
        "stopwords=stopwords.words('english')\n",
        "print(stopwords)"
      ],
      "execution_count": null,
      "outputs": [
        {
          "output_type": "stream",
          "text": [
            "['absence', 'access', 'account', 'actions', 'activities', 'activity', 'addition', 'adds', 'advantages', 'advance', 'advanced', 'database', 'applications', 'advances', 'advantage', 'advice', 'agreement', 'aim', 'alternative', 'alternatives', 'analysis', 'analyst', 'analysts', 'analyzing', 'applicability', 'application', 'applications', 'approach', 'approaches', 'appropriate', 'level', 'appropriate', 'representations', 'arbitrary', 'number', 'area', 'areas', 'article', 'aspect', 'aspects', 'association', 'attempts', 'attempt', 'attention', 'attribute', 'values', 'attributes', 'authors', 'availability', 'available', 'data', 'base', 'management', 'system', 'basic', 'concepts', 'basic', 'idea', 'basis', 'body', 'briefly', 'broad', 'range', 'bulk', 'burden', 'candidate', 'capabilities', 'case', 'cases', 'cause', 'causes', 'challenge', 'challenging', 'issue', 'challenging', 'problem', 'challenging', 'task', 'chances', 'changes', 'characteristic', 'characteristics', 'characterization', 'circumstances', 'class', 'classes', 'collection', 'combination', 'combines', 'common', 'framework', 'comparison', 'comparisons', 'competing', 'algorithms', 'component', 'comprehensive', 'set', 'comprehensive', 'way', 'computers', 'concept', 'concerns', 'concise', 'conclusion', 'conclusions', 'condition', 'conditions', 'connection', 'consequences', 'consideration', 'consistent', 'development', 'constants', 'constraints', 'construction', 'constructors', 'constructs', 'containing', 'information', 'content', 'contents', 'context', 'contrast', 'contribution', 'contributions', 'conventional', 'systems', 'couple', 'coupling', 'creation', 'criteria', 'critical', 'issue', 'current', 'research', 'current', 'state', 'data', 'data-', 'data', 'content', 'data', 'element', 'data', 'elements', 'data', 'items', 'data', 'model', 'data', 'modeling', 'data', 'models', 'data', 'objects', 'data', 'set', 'data', 'sets', 'data', 'source', 'data', 'types', 'data', 'values', 'database', 'database', 'context', 'database', 'system', 'database', 'systems', 'databases', 'dataset', 'datasets', 'date', 'deadlines', 'deals', 'defaults', 'definition', 'definitions', 'degree', 'degrees', 'demand', 'demo', 'description', 'descriptions', 'design', 'detailed', 'comparison', 'developer', 'developers', 'development', 'device', 'difference', 'differences', 'different', 'algorithms', 'different', 'applications', 'different', 'approach', 'different', 'approaches', 'different', 'areas', 'different', 'classes', 'different', 'constraints', 'different', 'domains', 'different', 'formats', 'different', 'forms', 'different', 'kinds', 'different', 'levels', 'different', 'methods', 'different', 'operations', 'different', 'parties', 'different', 'properties', 'different', 'roles', 'different', 'sites', 'different', 'solutions', 'different', 'sources', 'different', 'types', 'different', 'users', 'different', 'views', 'different', 'ways', 'different', 'words', 'difficulties', 'difficulty', 'dimension', 'direction', 'disadvantages', 'discipline', 'discrepancies', 'discussion', 'distinct', 'values', 'distinction', 'distinguish', 'document', 'documents', 'documents', 'content', 'domain', 'duplicates', 'dynamic', 'early', 'stages', 'ease', 'effect', 'effective', 'manner', 'effective', 'solutions', 'effective', 'way', 'effects', 'efficient', 'algorithm', 'efficient', 'algorithms', 'efficient', 'variables', 'effort', 'efforts', 'emphasis', 'end', 'engineering', 'enhanced', 'version', 'equivalence', 'essence', 'essential', 'concepts', 'essential', 'properties', 'establishment', 'estimates', 'event', 'events', 'example', 'examples', 'existence', 'existing', 'approaches', 'existing', 'indexes', 'existing', 'ones', 'existing', 'proposals', 'existing', 'standards', 'existing', 'systems', 'existing', 'techniques', 'existing', 'work', 'experience', 'experiences', 'experiment', 'experiments', 'exploitation', 'expression', 'expressions', 'expressiveness', 'extended', 'views', 'extension', 'extensions', 'extensive', 'experiments', 'extent', 'facilities', 'facility', 'fact', 'factor', 'facts', 'families', 'family', 'faster', 'feature', 'field', 'fields', 'file', 'final', 'result', 'findings', 'first', 'first', 'algorithm', 'first', 'experiences', 'first', 'focus', 'first', 'phase', 'first', 'stage', 'first', 'time', 'first-order', 'flow', 'focus', 'form', 'format', 'formats', 'forms', 'formula', 'formulas', 'foundation', 'fragments', 'frequencies', 'frequency', 'function', 'functionality', 'functions', 'future', 'research', 'future', 'work', 'gaining', 'importance', 'gap', 'general', 'framework', 'general', 'knowledge', 'general', 'patterns', 'generality', 'generation', 'generic', 'framework', 'generic', 'models', 'goal', 'goals', 'great', 'deal', 'group', 'groups', 'hand', 'handling', 'high', 'degree', 'high', 'level', 'huge', 'amounts', 'hundreds', 'ibm', 'ideas', 'iii', 'illustration', 'impact', 'implementations', 'implications', 'importance', 'important', 'characteristic', 'important', 'class', 'important', 'feature', 'important', 'issue', 'important', 'problem', 'important', 'role', 'important', 'step', 'improvements', 'increase', 'increasing', 'number', 'increasing', 'popularity', 'individuals', 'influence', 'information', 'information', 'modelling', 'information', 'system', 'information', 'systems', 'input', 'inputs', 'insight', 'instance', 'instances', 'integrated', 'solution', 'integrated', 'view', 'integrated', 'way', 'intention', 'interesting', 'approach', 'interesting', 'extensions', 'interesting', 'patterns', 'interesting', 'properties', 'intermediate', 'files', 'internet', 'introduction', 'introductory', 'paper', 'intuitive', 'way', 'issue', 'issues', 'items', 'key', 'factor', 'key', 'feature', 'key', 'idea', 'key', 'issues', 'key', 'role', 'keys', 'kinds', 'knowledge', 'lack', 'language', 'languages', 'large', 'amounts', 'large', 'class', 'large', 'number', 'large', 'size', 'large', 'variety', 'large', 'volumes', 'level', 'levels', 'limitation', 'links', 'list', 'lists', 'literature', 'locations', 'lot', 'magnitude', 'main', 'advantage', 'main', 'characteristics', 'main', 'contribution', 'main', 'features', 'main', 'focus', 'main', 'goal', 'main', 'reasons', 'main', 'result', 'major', 'problem', 'major', 'problems', 'major', 'purposes', 'majority', 'man', 'management', 'manipulation', 'manipulations', 'matter', 'maximum', 'meaningful', 'way', 'meanings', 'means', 'mechanisms', 'median', 'messages', 'method', 'methodologies', 'methodology', 'methods', 'micro', 'mini', 'minimum', 'minimum', 'number', 'minimum', 'set', 'mixture', 'modeling', 'models', 'modules', 'moment', 'mosts', 'cases', 'motivation', 'multiple', 'levels', 'natural', 'natural', 'view', 'natural', 'way', 'nature', 'necessary', 'condition', 'necessity', 'needs', 'new', 'new', 'algorithm', 'new', 'algorithms', 'new', 'approach', 'new', 'class', 'new', 'concept', 'new', 'concepts', 'new', 'form', 'new', 'framework', 'new', 'generation', 'new', 'information', 'new', 'method', 'new', 'model', 'new', 'notion', 'new', 'operator', 'new', 'paradigm', 'new', 'relations', 'new', 'type', 'new', 'types', 'new', 'version', 'node', 'nodes', 'notion', 'notions', 'novel', 'novel', 'algorithm', 'novel', 'approach', 'novel', 'aspect', 'novel', 'framework', 'novel', 'indices', 'number', 'numbers', 'object', 'object', 'types', 'objective', 'objects', 'observations', 'obvious', 'lack', 'ones', 'operation', 'operations', 'operator', 'operators', 'opportunity', 'optimal', 'solution', 'option', 'optional', 'properties', 'order', 'orders', 'original', 'data', 'original', 'document', 'outline', 'output', 'output', 'data', 'overview', 'page', 'pages', 'pair', 'paper', 'paper', 'deals', 'paper', 'focus', 'paper', 'reports', 'papers', 'paradigm', 'paradigms', 'parallel', 'partial', 'value', 'partial', 'values', 'participants', 'parties', 'parts', 'pass', 'passes', 'past', 'past', 'cases', 'past', 'few', 'years', 'people', 'persons', 'pertinent', 'information', 'phase', 'phases', 'physical', 'design', 'plan', 'plans', 'point', 'points', 'popularity', 'possibility', 'possible', 'extensions', 'possible', 'kinds', 'possible', 'solutions', 'possible', 'values', 'potential', 'practical', 'applications', 'practical', 'issues', 'practical', 'point', 'practical', 'relevance', 'practice', 'practitioners', 'present', 'present', 'paper', 'presentation', 'prespective', 'previous', 'algorithms', 'previous', 'approaches', 'previous', 'efforts', 'previous', 'work', 'primary', 'goal', 'primary', 'objective', 'primitives', 'priority', 'problem', 'problems', 'procedure', 'procedures', 'process', 'processes', 'processing', 'product', 'production', 'products', 'program', 'programs', 'progress', 'project', 'projects', 'promising', 'approach', 'properties', 'property', 'proposals', 'proposed', 'approach', 'prototype', 'provision', 'publication', 'purpose', 'quality', 'quest', 'range', 'ranges', 'rapid', 'growth', 'rate', 'ratio', 'read', 'real', 'data', 'real', 'example', 'real', 'world', 'reality', 'realization', 'realm', 'real-world', 'reasons', 'recent', 'advances', 'recent', 'developments', 'recent', 'literature', 'recent', 'years', 'recognition', 'records', 'references', 'refining', 'reflection', 'regard', 'relation', 'relations', 'relationships', 'relevant', 'data', 'relevant', 'documents', 'relevant', 'information', 'replication', 'report', 'reports', 'representation', 'representations', 'request', 'requests', 'research', 'researchers', 'respect', 'rest', 'result', 'result', 'quality', 'returns', 'review', 'rich', 'set', 'rich', 'variety', 'right', 'rise', 'role', 'rows', 'rule', 'scope', 'second', 'second', 'phase', 'section', 'semantic', 'sense', 'sentence', 'sentences', 'separation', 'sequences', 'series', 'service', 'services', 'set', 'sets', 'sharing', 'shortcomings', 'shows', 'significance', 'significant', 'benefits', 'significant', 'improvement', 'significant', 'problem', 'similarities', 'similarity', 'simple', 'indication', 'simplicity', 'single', 'framework', 'site', 'sites', 'situation', 'situations', 'size', 'sizes', 'sketch', 'small', 'fraction', 'small', 'number', 'small', 'set', 'software', 'products', 'software', 'programs', 'software', 'system', 'software', 'systems', 'software', 'tool', 'solution', 'solutions', 'solving', 'methods', 'solving', 'problems', 'sort', 'sound', 'soundness', 'source', 'sources', 'space', 'special', 'case', 'special', 'issue', 'specific', 'domain', 'stage', 'stages', 'standard', 'standards', 'starting', 'point', 'state', 'states', 'status', 'step', 'steps', 'story', 'strengths', 'strong', 'indicator', 'structure', 'studies', 'style', 'subject', 'subset', 'subsets', 'subtypes', 'success', 'successful', 'approach', 'sufficient', 'condition', 'suggestions', 'suitable', 'manipulation', 'sum', 'support', 'survey', 'system', 'systematic', 'way', 'systems', 'systems', 'development', 'table', 'tables', 'taking', 'advantage', 'tasks', 'technique', 'techniques', 'technologies', 'technology', 'template', 'temporary', 'files', 'term', 'terms', 'test', 'tests', 'text', 'thanks', 'things', 'third', 'time', 'times', 'today', 'topic', '-tree', '-trees', 'trial', 'turn', 'type', 'types', 'underlying', 'concepts', 'underlying', 'data', 'underlying', 'sources', 'understanding', 'uniform', 'way', 'unique', 'aspect', 'units', 'university', 'updates', 'useful', 'information', 'useful', 'tool', 'usefulness', 'user', 'user', 'work', 'uses', 'value', 'values', 'variables', 'variance', 'variant', 'variations', 'various', 'applications', 'various', 'aspects', 'various', 'domains', 'various', 'kinds', 'various', 'models', 'various', 'types', 'variety', 'varying', 'degrees', 'version', 'versions', 'viability', 'vice', 'view', 'views', 'volume', 'way', 'ways', 'we', 'web', 'data', 'wide', 'availability', 'wide', 'range', 'wide', 'variety', 'words', 'work', 'world', 'worst', 'case', 'years', 'elsevier', 'ltd', 'all', 'rights', 'reserved', 'b.v.', 'study']\n",
            "['i', 'me', 'my', 'myself', 'we', 'our', 'ours', 'ourselves', 'you', \"you're\", \"you've\", \"you'll\", \"you'd\", 'your', 'yours', 'yourself', 'yourselves', 'he', 'him', 'his', 'himself', 'she', \"she's\", 'her', 'hers', 'herself', 'it', \"it's\", 'its', 'itself', 'they', 'them', 'their', 'theirs', 'themselves', 'what', 'which', 'who', 'whom', 'this', 'that', \"that'll\", 'these', 'those', 'am', 'is', 'are', 'was', 'were', 'be', 'been', 'being', 'have', 'has', 'had', 'having', 'do', 'does', 'did', 'doing', 'a', 'an', 'the', 'and', 'but', 'if', 'or', 'because', 'as', 'until', 'while', 'of', 'at', 'by', 'for', 'with', 'about', 'against', 'between', 'into', 'through', 'during', 'before', 'after', 'above', 'below', 'to', 'from', 'up', 'down', 'in', 'out', 'on', 'off', 'over', 'under', 'again', 'further', 'then', 'once', 'here', 'there', 'when', 'where', 'why', 'how', 'all', 'any', 'both', 'each', 'few', 'more', 'most', 'other', 'some', 'such', 'no', 'nor', 'not', 'only', 'own', 'same', 'so', 'than', 'too', 'very', 's', 't', 'can', 'will', 'just', 'don', \"don't\", 'should', \"should've\", 'now', 'd', 'll', 'm', 'o', 're', 've', 'y', 'ain', 'aren', \"aren't\", 'couldn', \"couldn't\", 'didn', \"didn't\", 'doesn', \"doesn't\", 'hadn', \"hadn't\", 'hasn', \"hasn't\", 'haven', \"haven't\", 'isn', \"isn't\", 'ma', 'mightn', \"mightn't\", 'mustn', \"mustn't\", 'needn', \"needn't\", 'shan', \"shan't\", 'shouldn', \"shouldn't\", 'wasn', \"wasn't\", 'weren', \"weren't\", 'won', \"won't\", 'wouldn', \"wouldn't\"]\n"
          ],
          "name": "stdout"
        }
      ]
    },
    {
      "cell_type": "code",
      "metadata": {
        "id": "hdTxpCaK8cgU",
        "colab": {
          "base_uri": "https://localhost:8080/",
          "height": 34
        },
        "outputId": "af6f2581-377c-4247-8b22-8bfcb4cb4af7"
      },
      "source": [
        "#gis_stopwords=['transport','decision','travel', 'distanc','region','neighborhood','neighborhood','power','traffic','road'\n",
        "              ,'gis','vehicl','land','network']"
      ],
      "execution_count": null,
      "outputs": [
        {
          "output_type": "execute_result",
          "data": {
            "text/plain": [
              "\"'gis','vehicl','land','network']\""
            ]
          },
          "metadata": {
            "tags": []
          },
          "execution_count": 159
        }
      ]
    },
    {
      "cell_type": "markdown",
      "metadata": {
        "id": "K7PtltrV5tqE"
      },
      "source": [
        "preprocessing: lower text, tokenizing, keeping only nouns, removing any other charcter and numbers, removing stop words and words with len <3, creating a list of preprocessed documents!"
      ]
    },
    {
      "cell_type": "code",
      "metadata": {
        "id": "YuhzKoA898u4"
      },
      "source": [
        "stemmer= PorterStemmer()\n",
        "sstopwords=list([stemmer.stem(e) for e in s_stopwords])"
      ],
      "execution_count": null,
      "outputs": []
    },
    {
      "cell_type": "code",
      "metadata": {
        "id": "R1ZE2N3S5gsG"
      },
      "source": [
        "docs=[]\n",
        "for e in data['Abstract']:\n",
        "    text=e.lower()\n",
        "    atext=re.sub('[^a-zA-Z]+', ' ', text)\n",
        "    tokens = nltk.word_tokenize(atext)\n",
        "    tags = nltk.pos_tag(tokens)\n",
        "    nouns = [word for word,pos in tags if (pos == 'NN' or pos == 'NNP' or pos == 'NNS' or pos == 'NNPS')]\n",
        "    stem=[stemmer.stem(e) for e in nouns]\n",
        "    rtext=[e for e in stem if e not in s_stopwords+stopwords+sstopwords and len(e)>=3]\n",
        "    docs.append(' '.join(rtext))"
      ],
      "execution_count": null,
      "outputs": []
    },
    {
      "cell_type": "code",
      "metadata": {
        "id": "nnv0o_Ea76p7",
        "colab": {
          "base_uri": "https://localhost:8080/",
          "height": 54
        },
        "outputId": "f4c9c968-43a0-4fcb-dc8e-43dca48967c6"
      },
      "source": [
        "docs[1]"
      ],
      "execution_count": null,
      "outputs": [
        {
          "output_type": "execute_result",
          "data": {
            "text/plain": [
              "'poultri ton litter poultri plateau region alabama region land litter buildup phosphoru soil runoff pathogen land belt region alabama suffer economi soil fertil poultri litter alabama litter plateau region region south util belt region henc wast strategi farm litter util alabama poultri litter decis farm poultri litter plateau belt region alabama pldss transport poultri litter arcobject network arcgi pldss poultri litter transport litter deficit pldss produc cost poultri litter alabama'"
            ]
          },
          "metadata": {
            "tags": []
          },
          "execution_count": 162
        }
      ]
    },
    {
      "cell_type": "code",
      "metadata": {
        "id": "9EMxtlzttZGl",
        "colab": {
          "base_uri": "https://localhost:8080/",
          "height": 54
        },
        "outputId": "cadee021-6cc4-4b06-89c2-6e0e1bd6c8dd"
      },
      "source": [
        "data['Abstract'][1]"
      ],
      "execution_count": null,
      "outputs": [
        {
          "output_type": "execute_result",
          "data": {
            "text/plain": [
              "\"confined poultry  production in alabama results in about 1.8 million tons of litter annually. because poultry production mainly occurs in the appalachian plateau region of north alabama, this region suffers from excessive land application of litter, resulting in buildup of phosphorus  in soils and runoff of pathogens and p from land-applied areas. conversely, the black belt region of south-central alabama suffers from depressed agricultural economy because of poor soil fertility. in order to achieve optimal poultry litter management in alabama, litter produced in the concentrated production areas within the appalachian plateau region must be optimally distributed in this region or transported south for utilization in the black belt region. hence, a comprehensive system to provide improved waste management strategies  for sustainable on- and off-farm litter utilization in alabama is needed. the primary focus of this study was to develop a comprehensive, geographic information system -integrated poultry litter decision support system  for on- and off-farm management of poultry litter in the appalachian plateau and black belt regions of alabama. the pldss is a user-friendly, comprehensive system that supports nutrient management planning, transportation analysis, and data management for poultry litter management using arcobjects, visual basic for applications , and network analyst in arcgis. important functional components and analytical capability of arcgis 9.1 were implemented in several sets of customized tools. because the pldss allows efficient development of nutrient management plan, it can help to reduce over-application of poultry litter. also, through pldss' transportation analysis, the litter can be optimally transported to nutrient deficit areas. therefore, the pldss will help poultry producers with optimal, cost-effective and environmentally sound poultry litter management in alabama.  2008 elsevier b.v. all rights reserved.\""
            ]
          },
          "metadata": {
            "tags": []
          },
          "execution_count": 163
        }
      ]
    },
    {
      "cell_type": "markdown",
      "metadata": {
        "id": "me86Y9pmIbi0"
      },
      "source": [
        "**Visualizing word freq**"
      ]
    },
    {
      "cell_type": "code",
      "metadata": {
        "id": "DvNao1kQHkpC",
        "colab": {
          "base_uri": "https://localhost:8080/",
          "height": 54
        },
        "outputId": "e1aa8710-ad0e-45e3-e444-ac61df0f70e8"
      },
      "source": [
        "'''\n",
        "from yellowbrick.text import FreqDistVisualizer\n",
        "from sklearn.feature_extraction.text import CountVectorizer\n",
        "from matplotlib.pyplot import figure\n",
        "figure(num=None, figsize=(20, 40), dpi=80, facecolor='w', edgecolor='k')\n",
        "vectorizer = CountVectorizer()\n",
        "doc       = vectorizer.fit_transform(docs)\n",
        "features   = vectorizer.get_feature_names()\n",
        "\n",
        "visualizer = FreqDistVisualizer(features=features)\n",
        "visualizer.fit(doc)\n",
        "visualizer.poof()\n",
        "'''"
      ],
      "execution_count": null,
      "outputs": [
        {
          "output_type": "execute_result",
          "data": {
            "text/plain": [
              "\"\\nfrom yellowbrick.text import FreqDistVisualizer\\nfrom sklearn.feature_extraction.text import CountVectorizer\\nfrom matplotlib.pyplot import figure\\nfigure(num=None, figsize=(20, 40), dpi=80, facecolor='w', edgecolor='k')\\nvectorizer = CountVectorizer()\\ndoc       = vectorizer.fit_transform(docs)\\nfeatures   = vectorizer.get_feature_names()\\n\\nvisualizer = FreqDistVisualizer(features=features)\\nvisualizer.fit(doc)\\nvisualizer.poof()\\n\""
            ]
          },
          "metadata": {
            "tags": []
          },
          "execution_count": 164
        }
      ]
    },
    {
      "cell_type": "markdown",
      "metadata": {
        "id": "4bdZBsZ2IgzY"
      },
      "source": [
        "applying TFID and BOW"
      ]
    },
    {
      "cell_type": "code",
      "metadata": {
        "id": "efh4g1R4HmXm",
        "colab": {
          "base_uri": "https://localhost:8080/",
          "height": 51
        },
        "outputId": "0e4dd0d3-54d1-4792-fb80-eb44a6323a9e"
      },
      "source": [
        "from sklearn.feature_extraction.text import TfidfVectorizer\n",
        "\n",
        "vectorizertf = TfidfVectorizer(analyzer='word',       \n",
        "                             min_df=5,\n",
        "                             max_features=50000,             # max number of uniq words\n",
        "                            )\n",
        "data_vectorizedtf = vectorizertf.fit_transform(docs)\n",
        "data_vectorizedtf"
      ],
      "execution_count": null,
      "outputs": [
        {
          "output_type": "execute_result",
          "data": {
            "text/plain": [
              "<1125x929 sparse matrix of type '<class 'numpy.float64'>'\n",
              "\twith 21769 stored elements in Compressed Sparse Row format>"
            ]
          },
          "metadata": {
            "tags": []
          },
          "execution_count": 165
        }
      ]
    },
    {
      "cell_type": "code",
      "metadata": {
        "id": "iwn8OxIfIxgA",
        "colab": {
          "base_uri": "https://localhost:8080/",
          "height": 253
        },
        "outputId": "5688a052-b68b-49b8-f137-a62ec900f7cb"
      },
      "source": [
        "tfidf = pd.DataFrame(data_vectorizedtf.toarray(),columns=vectorizertf.get_feature_names())\n",
        "tfidf.head()"
      ],
      "execution_count": null,
      "outputs": [
        {
          "output_type": "execute_result",
          "data": {
            "text/html": [
              "<div>\n",
              "<style scoped>\n",
              "    .dataframe tbody tr th:only-of-type {\n",
              "        vertical-align: middle;\n",
              "    }\n",
              "\n",
              "    .dataframe tbody tr th {\n",
              "        vertical-align: top;\n",
              "    }\n",
              "\n",
              "    .dataframe thead th {\n",
              "        text-align: right;\n",
              "    }\n",
              "</style>\n",
              "<table border=\"1\" class=\"dataframe\">\n",
              "  <thead>\n",
              "    <tr style=\"text-align: right;\">\n",
              "      <th></th>\n",
              "      <th>abil</th>\n",
              "      <th>abm</th>\n",
              "      <th>abstract</th>\n",
              "      <th>acceler</th>\n",
              "      <th>acceleromet</th>\n",
              "      <th>accept</th>\n",
              "      <th>accid</th>\n",
              "      <th>accord</th>\n",
              "      <th>accur</th>\n",
              "      <th>accuraci</th>\n",
              "      <th>achiev</th>\n",
              "      <th>acquisit</th>\n",
              "      <th>act</th>\n",
              "      <th>actor</th>\n",
              "      <th>adapt</th>\n",
              "      <th>address</th>\n",
              "      <th>adjust</th>\n",
              "      <th>administr</th>\n",
              "      <th>adolesc</th>\n",
              "      <th>adopt</th>\n",
              "      <th>adult</th>\n",
              "      <th>aesthet</th>\n",
              "      <th>age</th>\n",
              "      <th>agenc</th>\n",
              "      <th>agent</th>\n",
              "      <th>agglomer</th>\n",
              "      <th>aggreg</th>\n",
              "      <th>agricultur</th>\n",
              "      <th>ahp</th>\n",
              "      <th>aid</th>\n",
              "      <th>air</th>\n",
              "      <th>aircraft</th>\n",
              "      <th>airport</th>\n",
              "      <th>align</th>\n",
              "      <th>alloc</th>\n",
              "      <th>amen</th>\n",
              "      <th>america</th>\n",
              "      <th>analys</th>\n",
              "      <th>analyt</th>\n",
              "      <th>anim</th>\n",
              "      <th>...</th>\n",
              "      <th>veget</th>\n",
              "      <th>vehicl</th>\n",
              "      <th>veloc</th>\n",
              "      <th>versu</th>\n",
              "      <th>vicin</th>\n",
              "      <th>viewpoint</th>\n",
              "      <th>villag</th>\n",
              "      <th>visibl</th>\n",
              "      <th>visit</th>\n",
              "      <th>visitor</th>\n",
              "      <th>visual</th>\n",
              "      <th>vrp</th>\n",
              "      <th>vulner</th>\n",
              "      <th>walk</th>\n",
              "      <th>walkabl</th>\n",
              "      <th>ward</th>\n",
              "      <th>washington</th>\n",
              "      <th>wast</th>\n",
              "      <th>water</th>\n",
              "      <th>waterway</th>\n",
              "      <th>weather</th>\n",
              "      <th>week</th>\n",
              "      <th>weight</th>\n",
              "      <th>welfar</th>\n",
              "      <th>well</th>\n",
              "      <th>west</th>\n",
              "      <th>wherea</th>\n",
              "      <th>whole</th>\n",
              "      <th>width</th>\n",
              "      <th>window</th>\n",
              "      <th>winter</th>\n",
              "      <th>women</th>\n",
              "      <th>wood</th>\n",
              "      <th>worker</th>\n",
              "      <th>workflow</th>\n",
              "      <th>workplac</th>\n",
              "      <th>yield</th>\n",
              "      <th>york</th>\n",
              "      <th>zealand</th>\n",
              "      <th>zone</th>\n",
              "    </tr>\n",
              "  </thead>\n",
              "  <tbody>\n",
              "    <tr>\n",
              "      <th>0</th>\n",
              "      <td>0.0</td>\n",
              "      <td>0.0</td>\n",
              "      <td>0.0</td>\n",
              "      <td>0.0</td>\n",
              "      <td>0.0</td>\n",
              "      <td>0.0</td>\n",
              "      <td>0.000000</td>\n",
              "      <td>0.0</td>\n",
              "      <td>0.0</td>\n",
              "      <td>0.0</td>\n",
              "      <td>0.0</td>\n",
              "      <td>0.000000</td>\n",
              "      <td>0.0</td>\n",
              "      <td>0.0</td>\n",
              "      <td>0.0</td>\n",
              "      <td>0.0</td>\n",
              "      <td>0.0</td>\n",
              "      <td>0.0</td>\n",
              "      <td>0.0</td>\n",
              "      <td>0.0</td>\n",
              "      <td>0.0</td>\n",
              "      <td>0.0</td>\n",
              "      <td>0.0</td>\n",
              "      <td>0.0</td>\n",
              "      <td>0.0</td>\n",
              "      <td>0.0</td>\n",
              "      <td>0.0</td>\n",
              "      <td>0.0</td>\n",
              "      <td>0.0</td>\n",
              "      <td>0.0</td>\n",
              "      <td>0.332134</td>\n",
              "      <td>0.0</td>\n",
              "      <td>0.0</td>\n",
              "      <td>0.0</td>\n",
              "      <td>0.0</td>\n",
              "      <td>0.0</td>\n",
              "      <td>0.0</td>\n",
              "      <td>0.0</td>\n",
              "      <td>0.0</td>\n",
              "      <td>0.0</td>\n",
              "      <td>...</td>\n",
              "      <td>0.0</td>\n",
              "      <td>0.217494</td>\n",
              "      <td>0.0</td>\n",
              "      <td>0.0</td>\n",
              "      <td>0.0</td>\n",
              "      <td>0.0</td>\n",
              "      <td>0.0</td>\n",
              "      <td>0.0</td>\n",
              "      <td>0.0</td>\n",
              "      <td>0.0</td>\n",
              "      <td>0.0</td>\n",
              "      <td>0.0</td>\n",
              "      <td>0.0</td>\n",
              "      <td>0.0</td>\n",
              "      <td>0.0</td>\n",
              "      <td>0.0</td>\n",
              "      <td>0.0</td>\n",
              "      <td>0.000000</td>\n",
              "      <td>0.0</td>\n",
              "      <td>0.0</td>\n",
              "      <td>0.0</td>\n",
              "      <td>0.0</td>\n",
              "      <td>0.0</td>\n",
              "      <td>0.0</td>\n",
              "      <td>0.0</td>\n",
              "      <td>0.0</td>\n",
              "      <td>0.0</td>\n",
              "      <td>0.0</td>\n",
              "      <td>0.0</td>\n",
              "      <td>0.0</td>\n",
              "      <td>0.0</td>\n",
              "      <td>0.0</td>\n",
              "      <td>0.000000</td>\n",
              "      <td>0.0</td>\n",
              "      <td>0.0</td>\n",
              "      <td>0.0</td>\n",
              "      <td>0.0</td>\n",
              "      <td>0.0</td>\n",
              "      <td>0.0</td>\n",
              "      <td>0.0</td>\n",
              "    </tr>\n",
              "    <tr>\n",
              "      <th>1</th>\n",
              "      <td>0.0</td>\n",
              "      <td>0.0</td>\n",
              "      <td>0.0</td>\n",
              "      <td>0.0</td>\n",
              "      <td>0.0</td>\n",
              "      <td>0.0</td>\n",
              "      <td>0.000000</td>\n",
              "      <td>0.0</td>\n",
              "      <td>0.0</td>\n",
              "      <td>0.0</td>\n",
              "      <td>0.0</td>\n",
              "      <td>0.000000</td>\n",
              "      <td>0.0</td>\n",
              "      <td>0.0</td>\n",
              "      <td>0.0</td>\n",
              "      <td>0.0</td>\n",
              "      <td>0.0</td>\n",
              "      <td>0.0</td>\n",
              "      <td>0.0</td>\n",
              "      <td>0.0</td>\n",
              "      <td>0.0</td>\n",
              "      <td>0.0</td>\n",
              "      <td>0.0</td>\n",
              "      <td>0.0</td>\n",
              "      <td>0.0</td>\n",
              "      <td>0.0</td>\n",
              "      <td>0.0</td>\n",
              "      <td>0.0</td>\n",
              "      <td>0.0</td>\n",
              "      <td>0.0</td>\n",
              "      <td>0.000000</td>\n",
              "      <td>0.0</td>\n",
              "      <td>0.0</td>\n",
              "      <td>0.0</td>\n",
              "      <td>0.0</td>\n",
              "      <td>0.0</td>\n",
              "      <td>0.0</td>\n",
              "      <td>0.0</td>\n",
              "      <td>0.0</td>\n",
              "      <td>0.0</td>\n",
              "      <td>...</td>\n",
              "      <td>0.0</td>\n",
              "      <td>0.000000</td>\n",
              "      <td>0.0</td>\n",
              "      <td>0.0</td>\n",
              "      <td>0.0</td>\n",
              "      <td>0.0</td>\n",
              "      <td>0.0</td>\n",
              "      <td>0.0</td>\n",
              "      <td>0.0</td>\n",
              "      <td>0.0</td>\n",
              "      <td>0.0</td>\n",
              "      <td>0.0</td>\n",
              "      <td>0.0</td>\n",
              "      <td>0.0</td>\n",
              "      <td>0.0</td>\n",
              "      <td>0.0</td>\n",
              "      <td>0.0</td>\n",
              "      <td>0.125713</td>\n",
              "      <td>0.0</td>\n",
              "      <td>0.0</td>\n",
              "      <td>0.0</td>\n",
              "      <td>0.0</td>\n",
              "      <td>0.0</td>\n",
              "      <td>0.0</td>\n",
              "      <td>0.0</td>\n",
              "      <td>0.0</td>\n",
              "      <td>0.0</td>\n",
              "      <td>0.0</td>\n",
              "      <td>0.0</td>\n",
              "      <td>0.0</td>\n",
              "      <td>0.0</td>\n",
              "      <td>0.0</td>\n",
              "      <td>0.000000</td>\n",
              "      <td>0.0</td>\n",
              "      <td>0.0</td>\n",
              "      <td>0.0</td>\n",
              "      <td>0.0</td>\n",
              "      <td>0.0</td>\n",
              "      <td>0.0</td>\n",
              "      <td>0.0</td>\n",
              "    </tr>\n",
              "    <tr>\n",
              "      <th>2</th>\n",
              "      <td>0.0</td>\n",
              "      <td>0.0</td>\n",
              "      <td>0.0</td>\n",
              "      <td>0.0</td>\n",
              "      <td>0.0</td>\n",
              "      <td>0.0</td>\n",
              "      <td>0.000000</td>\n",
              "      <td>0.0</td>\n",
              "      <td>0.0</td>\n",
              "      <td>0.0</td>\n",
              "      <td>0.0</td>\n",
              "      <td>0.000000</td>\n",
              "      <td>0.0</td>\n",
              "      <td>0.0</td>\n",
              "      <td>0.0</td>\n",
              "      <td>0.0</td>\n",
              "      <td>0.0</td>\n",
              "      <td>0.0</td>\n",
              "      <td>0.0</td>\n",
              "      <td>0.0</td>\n",
              "      <td>0.0</td>\n",
              "      <td>0.0</td>\n",
              "      <td>0.0</td>\n",
              "      <td>0.0</td>\n",
              "      <td>0.0</td>\n",
              "      <td>0.0</td>\n",
              "      <td>0.0</td>\n",
              "      <td>0.0</td>\n",
              "      <td>0.0</td>\n",
              "      <td>0.0</td>\n",
              "      <td>0.000000</td>\n",
              "      <td>0.0</td>\n",
              "      <td>0.0</td>\n",
              "      <td>0.0</td>\n",
              "      <td>0.0</td>\n",
              "      <td>0.0</td>\n",
              "      <td>0.0</td>\n",
              "      <td>0.0</td>\n",
              "      <td>0.0</td>\n",
              "      <td>0.0</td>\n",
              "      <td>...</td>\n",
              "      <td>0.0</td>\n",
              "      <td>0.000000</td>\n",
              "      <td>0.0</td>\n",
              "      <td>0.0</td>\n",
              "      <td>0.0</td>\n",
              "      <td>0.0</td>\n",
              "      <td>0.0</td>\n",
              "      <td>0.0</td>\n",
              "      <td>0.0</td>\n",
              "      <td>0.0</td>\n",
              "      <td>0.0</td>\n",
              "      <td>0.0</td>\n",
              "      <td>0.0</td>\n",
              "      <td>0.0</td>\n",
              "      <td>0.0</td>\n",
              "      <td>0.0</td>\n",
              "      <td>0.0</td>\n",
              "      <td>0.000000</td>\n",
              "      <td>0.0</td>\n",
              "      <td>0.0</td>\n",
              "      <td>0.0</td>\n",
              "      <td>0.0</td>\n",
              "      <td>0.0</td>\n",
              "      <td>0.0</td>\n",
              "      <td>0.0</td>\n",
              "      <td>0.0</td>\n",
              "      <td>0.0</td>\n",
              "      <td>0.0</td>\n",
              "      <td>0.0</td>\n",
              "      <td>0.0</td>\n",
              "      <td>0.0</td>\n",
              "      <td>0.0</td>\n",
              "      <td>0.795386</td>\n",
              "      <td>0.0</td>\n",
              "      <td>0.0</td>\n",
              "      <td>0.0</td>\n",
              "      <td>0.0</td>\n",
              "      <td>0.0</td>\n",
              "      <td>0.0</td>\n",
              "      <td>0.0</td>\n",
              "    </tr>\n",
              "    <tr>\n",
              "      <th>3</th>\n",
              "      <td>0.0</td>\n",
              "      <td>0.0</td>\n",
              "      <td>0.0</td>\n",
              "      <td>0.0</td>\n",
              "      <td>0.0</td>\n",
              "      <td>0.0</td>\n",
              "      <td>0.000000</td>\n",
              "      <td>0.0</td>\n",
              "      <td>0.0</td>\n",
              "      <td>0.0</td>\n",
              "      <td>0.0</td>\n",
              "      <td>0.327082</td>\n",
              "      <td>0.0</td>\n",
              "      <td>0.0</td>\n",
              "      <td>0.0</td>\n",
              "      <td>0.0</td>\n",
              "      <td>0.0</td>\n",
              "      <td>0.0</td>\n",
              "      <td>0.0</td>\n",
              "      <td>0.0</td>\n",
              "      <td>0.0</td>\n",
              "      <td>0.0</td>\n",
              "      <td>0.0</td>\n",
              "      <td>0.0</td>\n",
              "      <td>0.0</td>\n",
              "      <td>0.0</td>\n",
              "      <td>0.0</td>\n",
              "      <td>0.0</td>\n",
              "      <td>0.0</td>\n",
              "      <td>0.0</td>\n",
              "      <td>0.000000</td>\n",
              "      <td>0.0</td>\n",
              "      <td>0.0</td>\n",
              "      <td>0.0</td>\n",
              "      <td>0.0</td>\n",
              "      <td>0.0</td>\n",
              "      <td>0.0</td>\n",
              "      <td>0.0</td>\n",
              "      <td>0.0</td>\n",
              "      <td>0.0</td>\n",
              "      <td>...</td>\n",
              "      <td>0.0</td>\n",
              "      <td>0.000000</td>\n",
              "      <td>0.0</td>\n",
              "      <td>0.0</td>\n",
              "      <td>0.0</td>\n",
              "      <td>0.0</td>\n",
              "      <td>0.0</td>\n",
              "      <td>0.0</td>\n",
              "      <td>0.0</td>\n",
              "      <td>0.0</td>\n",
              "      <td>0.0</td>\n",
              "      <td>0.0</td>\n",
              "      <td>0.0</td>\n",
              "      <td>0.0</td>\n",
              "      <td>0.0</td>\n",
              "      <td>0.0</td>\n",
              "      <td>0.0</td>\n",
              "      <td>0.000000</td>\n",
              "      <td>0.0</td>\n",
              "      <td>0.0</td>\n",
              "      <td>0.0</td>\n",
              "      <td>0.0</td>\n",
              "      <td>0.0</td>\n",
              "      <td>0.0</td>\n",
              "      <td>0.0</td>\n",
              "      <td>0.0</td>\n",
              "      <td>0.0</td>\n",
              "      <td>0.0</td>\n",
              "      <td>0.0</td>\n",
              "      <td>0.0</td>\n",
              "      <td>0.0</td>\n",
              "      <td>0.0</td>\n",
              "      <td>0.000000</td>\n",
              "      <td>0.0</td>\n",
              "      <td>0.0</td>\n",
              "      <td>0.0</td>\n",
              "      <td>0.0</td>\n",
              "      <td>0.0</td>\n",
              "      <td>0.0</td>\n",
              "      <td>0.0</td>\n",
              "    </tr>\n",
              "    <tr>\n",
              "      <th>4</th>\n",
              "      <td>0.0</td>\n",
              "      <td>0.0</td>\n",
              "      <td>0.0</td>\n",
              "      <td>0.0</td>\n",
              "      <td>0.0</td>\n",
              "      <td>0.0</td>\n",
              "      <td>0.082111</td>\n",
              "      <td>0.0</td>\n",
              "      <td>0.0</td>\n",
              "      <td>0.0</td>\n",
              "      <td>0.0</td>\n",
              "      <td>0.000000</td>\n",
              "      <td>0.0</td>\n",
              "      <td>0.0</td>\n",
              "      <td>0.0</td>\n",
              "      <td>0.0</td>\n",
              "      <td>0.0</td>\n",
              "      <td>0.0</td>\n",
              "      <td>0.0</td>\n",
              "      <td>0.0</td>\n",
              "      <td>0.0</td>\n",
              "      <td>0.0</td>\n",
              "      <td>0.0</td>\n",
              "      <td>0.0</td>\n",
              "      <td>0.0</td>\n",
              "      <td>0.0</td>\n",
              "      <td>0.0</td>\n",
              "      <td>0.0</td>\n",
              "      <td>0.0</td>\n",
              "      <td>0.0</td>\n",
              "      <td>0.000000</td>\n",
              "      <td>0.0</td>\n",
              "      <td>0.0</td>\n",
              "      <td>0.0</td>\n",
              "      <td>0.0</td>\n",
              "      <td>0.0</td>\n",
              "      <td>0.0</td>\n",
              "      <td>0.0</td>\n",
              "      <td>0.0</td>\n",
              "      <td>0.0</td>\n",
              "      <td>...</td>\n",
              "      <td>0.0</td>\n",
              "      <td>0.000000</td>\n",
              "      <td>0.0</td>\n",
              "      <td>0.0</td>\n",
              "      <td>0.0</td>\n",
              "      <td>0.0</td>\n",
              "      <td>0.0</td>\n",
              "      <td>0.0</td>\n",
              "      <td>0.0</td>\n",
              "      <td>0.0</td>\n",
              "      <td>0.0</td>\n",
              "      <td>0.0</td>\n",
              "      <td>0.0</td>\n",
              "      <td>0.0</td>\n",
              "      <td>0.0</td>\n",
              "      <td>0.0</td>\n",
              "      <td>0.0</td>\n",
              "      <td>0.000000</td>\n",
              "      <td>0.0</td>\n",
              "      <td>0.0</td>\n",
              "      <td>0.0</td>\n",
              "      <td>0.0</td>\n",
              "      <td>0.0</td>\n",
              "      <td>0.0</td>\n",
              "      <td>0.0</td>\n",
              "      <td>0.0</td>\n",
              "      <td>0.0</td>\n",
              "      <td>0.0</td>\n",
              "      <td>0.0</td>\n",
              "      <td>0.0</td>\n",
              "      <td>0.0</td>\n",
              "      <td>0.0</td>\n",
              "      <td>0.000000</td>\n",
              "      <td>0.0</td>\n",
              "      <td>0.0</td>\n",
              "      <td>0.0</td>\n",
              "      <td>0.0</td>\n",
              "      <td>0.0</td>\n",
              "      <td>0.0</td>\n",
              "      <td>0.0</td>\n",
              "    </tr>\n",
              "  </tbody>\n",
              "</table>\n",
              "<p>5 rows × 929 columns</p>\n",
              "</div>"
            ],
            "text/plain": [
              "   abil  abm  abstract  acceler  ...  yield  york  zealand  zone\n",
              "0   0.0  0.0       0.0      0.0  ...    0.0   0.0      0.0   0.0\n",
              "1   0.0  0.0       0.0      0.0  ...    0.0   0.0      0.0   0.0\n",
              "2   0.0  0.0       0.0      0.0  ...    0.0   0.0      0.0   0.0\n",
              "3   0.0  0.0       0.0      0.0  ...    0.0   0.0      0.0   0.0\n",
              "4   0.0  0.0       0.0      0.0  ...    0.0   0.0      0.0   0.0\n",
              "\n",
              "[5 rows x 929 columns]"
            ]
          },
          "metadata": {
            "tags": []
          },
          "execution_count": 166
        }
      ]
    },
    {
      "cell_type": "code",
      "metadata": {
        "id": "SBK42Pk-I3ga",
        "colab": {
          "base_uri": "https://localhost:8080/",
          "height": 376
        },
        "outputId": "d88ac329-3e18-46a7-a5a0-2ee120ae701d"
      },
      "source": [
        "from sklearn.cluster import KMeans\n",
        "from yellowbrick.cluster import KElbowVisualizer\n",
        "\n",
        "# Instantiate the clustering model and visualizer\n",
        "model = KMeans()\n",
        "visualizer = KElbowVisualizer(model, k=(4,10))\n",
        "\n",
        "visualizer.fit(tfidf)    # Fit the data to the visualizer\n",
        "visualizer.poof()    # Draw/show/poof the data"
      ],
      "execution_count": null,
      "outputs": [
        {
          "output_type": "display_data",
          "data": {
            "image/png": "[encoded data removed]",
            "text/plain": [
              "<Figure size 576x396 with 2 Axes>"
            ]
          },
          "metadata": {
            "tags": []
          }
        }
      ]
    },
    {
      "cell_type": "markdown",
      "metadata": {
        "id": "d7BtIpzb3ZUT"
      },
      "source": [
        "dimentionality reduction"
      ]
    },
    {
      "cell_type": "code",
      "metadata": {
        "id": "2XMbJosYJXxQ"
      },
      "source": [
        "from sklearn.decomposition import TruncatedSVD\n",
        "import matplotlib.pyplot as plt"
      ],
      "execution_count": null,
      "outputs": []
    },
    {
      "cell_type": "code",
      "metadata": {
        "id": "sye9Ftjt3Yp0"
      },
      "source": [
        "svd = TruncatedSVD(900).fit(tfidf)"
      ],
      "execution_count": null,
      "outputs": []
    },
    {
      "cell_type": "code",
      "metadata": {
        "id": "AvYYCjc538Hf",
        "colab": {
          "base_uri": "https://localhost:8080/",
          "height": 606
        },
        "outputId": "77f0efc7-54be-4ea4-c93a-1a9929f43942"
      },
      "source": [
        "plt.figure(figsize=(15,10))\n",
        "plt.plot(np.cumsum(svd.explained_variance_ratio_))\n",
        "plt.xlabel('number of components')\n",
        "plt.ylabel('cumulative explained variance')\n",
        "plt.yticks(np.arange(0, 1.1, step=0.1))\n",
        "plt.show()"
      ],
      "execution_count": null,
      "outputs": [
        {
          "output_type": "display_data",
          "data": {
            "image/png": "[encoded data removed]",
            "text/plain": [
              "<Figure size 1080x720 with 1 Axes>"
            ]
          },
          "metadata": {
            "tags": []
          }
        }
      ]
    },
    {
      "cell_type": "code",
      "metadata": {
        "id": "sl-qocLbLSpg",
        "colab": {
          "base_uri": "https://localhost:8080/",
          "height": 34
        },
        "outputId": "36ad7948-4b99-4ead-8a7d-6906b1aaa7d2"
      },
      "source": [
        "singular_cumsum=np.cumsum(svd.explained_variance_ratio_)\n",
        "singular_cumsum[400]"
      ],
      "execution_count": null,
      "outputs": [
        {
          "output_type": "execute_result",
          "data": {
            "text/plain": [
              "0.8165963734357168"
            ]
          },
          "metadata": {
            "tags": []
          },
          "execution_count": 51
        }
      ]
    },
    {
      "cell_type": "markdown",
      "metadata": {
        "id": "ysXeEFOdLwg1"
      },
      "source": [
        "<h3>creating a new dataframed based on extracted components</h3>\n",
        "by 400 component we can explaine 90% of our data variance"
      ]
    },
    {
      "cell_type": "code",
      "metadata": {
        "id": "W97OYlKxR7Uj",
        "colab": {
          "base_uri": "https://localhost:8080/",
          "height": 204
        },
        "outputId": "953a3f29-07f7-4b71-b141-11c92ced4ca4"
      },
      "source": [
        "svd = TruncatedSVD(2).fit(tfidf)\n",
        "X_2d=svd.fit_transform(tfidf)\n",
        "svd_df=pd.DataFrame(X_2d,columns=['pc1','pc2'])\n",
        "svd_df.head()"
      ],
      "execution_count": null,
      "outputs": [
        {
          "output_type": "execute_result",
          "data": {
            "text/html": [
              "<div>\n",
              "<style scoped>\n",
              "    .dataframe tbody tr th:only-of-type {\n",
              "        vertical-align: middle;\n",
              "    }\n",
              "\n",
              "    .dataframe tbody tr th {\n",
              "        vertical-align: top;\n",
              "    }\n",
              "\n",
              "    .dataframe thead th {\n",
              "        text-align: right;\n",
              "    }\n",
              "</style>\n",
              "<table border=\"1\" class=\"dataframe\">\n",
              "  <thead>\n",
              "    <tr style=\"text-align: right;\">\n",
              "      <th></th>\n",
              "      <th>pc1</th>\n",
              "      <th>pc2</th>\n",
              "    </tr>\n",
              "  </thead>\n",
              "  <tbody>\n",
              "    <tr>\n",
              "      <th>0</th>\n",
              "      <td>0.252665</td>\n",
              "      <td>0.072379</td>\n",
              "    </tr>\n",
              "    <tr>\n",
              "      <th>1</th>\n",
              "      <td>0.198345</td>\n",
              "      <td>0.115437</td>\n",
              "    </tr>\n",
              "    <tr>\n",
              "      <th>2</th>\n",
              "      <td>0.144038</td>\n",
              "      <td>0.036498</td>\n",
              "    </tr>\n",
              "    <tr>\n",
              "      <th>3</th>\n",
              "      <td>0.313013</td>\n",
              "      <td>-0.005429</td>\n",
              "    </tr>\n",
              "    <tr>\n",
              "      <th>4</th>\n",
              "      <td>0.174860</td>\n",
              "      <td>0.023408</td>\n",
              "    </tr>\n",
              "  </tbody>\n",
              "</table>\n",
              "</div>"
            ],
            "text/plain": [
              "        pc1       pc2\n",
              "0  0.252665  0.072379\n",
              "1  0.198345  0.115437\n",
              "2  0.144038  0.036498\n",
              "3  0.313013 -0.005429\n",
              "4  0.174860  0.023408"
            ]
          },
          "metadata": {
            "tags": []
          },
          "execution_count": 167
        }
      ]
    },
    {
      "cell_type": "code",
      "metadata": {
        "id": "HLTSbBxyUjoU",
        "colab": {
          "base_uri": "https://localhost:8080/",
          "height": 204
        },
        "outputId": "6d496941-5eed-4892-fbaa-165e043b2871"
      },
      "source": [
        "svd_df['year']=data['Year Published']\n",
        "svd_df.head()"
      ],
      "execution_count": null,
      "outputs": [
        {
          "output_type": "execute_result",
          "data": {
            "text/html": [
              "<div>\n",
              "<style scoped>\n",
              "    .dataframe tbody tr th:only-of-type {\n",
              "        vertical-align: middle;\n",
              "    }\n",
              "\n",
              "    .dataframe tbody tr th {\n",
              "        vertical-align: top;\n",
              "    }\n",
              "\n",
              "    .dataframe thead th {\n",
              "        text-align: right;\n",
              "    }\n",
              "</style>\n",
              "<table border=\"1\" class=\"dataframe\">\n",
              "  <thead>\n",
              "    <tr style=\"text-align: right;\">\n",
              "      <th></th>\n",
              "      <th>pc1</th>\n",
              "      <th>pc2</th>\n",
              "      <th>year</th>\n",
              "    </tr>\n",
              "  </thead>\n",
              "  <tbody>\n",
              "    <tr>\n",
              "      <th>0</th>\n",
              "      <td>0.252665</td>\n",
              "      <td>0.072379</td>\n",
              "      <td>2008</td>\n",
              "    </tr>\n",
              "    <tr>\n",
              "      <th>1</th>\n",
              "      <td>0.198345</td>\n",
              "      <td>0.115437</td>\n",
              "      <td>2008</td>\n",
              "    </tr>\n",
              "    <tr>\n",
              "      <th>2</th>\n",
              "      <td>0.144038</td>\n",
              "      <td>0.036498</td>\n",
              "      <td>2008</td>\n",
              "    </tr>\n",
              "    <tr>\n",
              "      <th>3</th>\n",
              "      <td>0.313013</td>\n",
              "      <td>-0.005429</td>\n",
              "      <td>2008</td>\n",
              "    </tr>\n",
              "    <tr>\n",
              "      <th>4</th>\n",
              "      <td>0.174860</td>\n",
              "      <td>0.023408</td>\n",
              "      <td>2008</td>\n",
              "    </tr>\n",
              "  </tbody>\n",
              "</table>\n",
              "</div>"
            ],
            "text/plain": [
              "        pc1       pc2  year\n",
              "0  0.252665  0.072379  2008\n",
              "1  0.198345  0.115437  2008\n",
              "2  0.144038  0.036498  2008\n",
              "3  0.313013 -0.005429  2008\n",
              "4  0.174860  0.023408  2008"
            ]
          },
          "metadata": {
            "tags": []
          },
          "execution_count": 168
        }
      ]
    },
    {
      "cell_type": "code",
      "metadata": {
        "id": "G6fYUPRxTLpn",
        "colab": {
          "base_uri": "https://localhost:8080/",
          "height": 365
        },
        "outputId": "0634cf30-9b3e-4237-f664-ea67b0498667"
      },
      "source": [
        "import seaborn as sns\n",
        "sns.lmplot('pc1','pc2',svd_df,hue='year',fit_reg=False);"
      ],
      "execution_count": null,
      "outputs": [
        {
          "output_type": "display_data",
          "data": {
            "image/png": "[encoded data removed]",
            "text/plain": [
              "<Figure size 418.5x360 with 1 Axes>"
            ]
          },
          "metadata": {
            "tags": []
          }
        }
      ]
    },
    {
      "cell_type": "code",
      "metadata": {
        "id": "2Q4iYsujTupy"
      },
      "source": [
        "from sklearn.cluster import KMeans\n",
        "kmeans = KMeans(n_clusters=2, random_state=0).fit(svd_df[['pc1','pc2']])"
      ],
      "execution_count": null,
      "outputs": []
    },
    {
      "cell_type": "code",
      "metadata": {
        "id": "WuchYBkCVbnO"
      },
      "source": [
        "labels=kmeans.predict(svd_df[['pc1','pc2']])"
      ],
      "execution_count": null,
      "outputs": []
    },
    {
      "cell_type": "code",
      "metadata": {
        "id": "pKJqnPAWWHGa"
      },
      "source": [
        "svd_df['cluster']=labels"
      ],
      "execution_count": null,
      "outputs": []
    },
    {
      "cell_type": "code",
      "metadata": {
        "id": "3b-csCG-WInm",
        "colab": {
          "base_uri": "https://localhost:8080/",
          "height": 365
        },
        "outputId": "34d85968-b23a-4633-9051-c1d9e5cbf9d3"
      },
      "source": [
        "sns.lmplot('pc1','pc2',svd_df,hue='cluster',fit_reg=False,palette=\"Set1\",scatter_kws={'alpha':0.3});"
      ],
      "execution_count": null,
      "outputs": [
        {
          "output_type": "display_data",
          "data": {
            "image/png": "[encoded data removed]",
            "text/plain": [
              "<Figure size 401.625x360 with 1 Axes>"
            ]
          },
          "metadata": {
            "tags": []
          }
        }
      ]
    },
    {
      "cell_type": "code",
      "metadata": {
        "id": "dK8XQJ50ezHa",
        "colab": {
          "base_uri": "https://localhost:8080/",
          "height": 68
        },
        "outputId": "8db0448b-e802-414e-a375-3aa6a076f5ac"
      },
      "source": [
        "svd_df['cluster'].value_counts()"
      ],
      "execution_count": null,
      "outputs": [
        {
          "output_type": "execute_result",
          "data": {
            "text/plain": [
              "1    1076\n",
              "0      49\n",
              "Name: cluster, dtype: int64"
            ]
          },
          "metadata": {
            "tags": []
          },
          "execution_count": 174
        }
      ]
    },
    {
      "cell_type": "code",
      "metadata": {
        "id": "Eqz4GyGP_ajv"
      },
      "source": [
        "tfidf['label']=labels"
      ],
      "execution_count": null,
      "outputs": []
    },
    {
      "cell_type": "code",
      "metadata": {
        "id": "l_M1QA_T_daI",
        "colab": {
          "base_uri": "https://localhost:8080/",
          "height": 884
        },
        "outputId": "1c2c14a9-7d1b-4208-e6e5-5458873afa26"
      },
      "source": [
        "fr_key0=tfidf.loc[tfidf['label'] == 0].sum()\n",
        "fr_key0.sort_values(ascending=False)[0:50]"
      ],
      "execution_count": null,
      "outputs": [
        {
          "output_type": "execute_result",
          "data": {
            "text/plain": [
              "wast          29.892050\n",
              "cost           5.609492\n",
              "rout           5.214187\n",
              "dispos         4.489465\n",
              "vehicl         3.519465\n",
              "transport      3.180287\n",
              "citi           2.703550\n",
              "treatment      2.557045\n",
              "landfil        2.229462\n",
              "scenario       2.201494\n",
              "transfer       2.078817\n",
              "fuel           2.059295\n",
              "center         1.827400\n",
              "msw            1.729979\n",
              "reduct         1.591090\n",
              "save           1.559902\n",
              "decis          1.537053\n",
              "consumpt       1.470634\n",
              "station        1.433781\n",
              "bin            1.391546\n",
              "emiss          1.362811\n",
              "paramet        1.287146\n",
              "plant          1.269881\n",
              "municip        1.264478\n",
              "distanc        1.259070\n",
              "popul          1.210880\n",
              "capac          1.171957\n",
              "capit          1.169957\n",
              "inciner        1.162012\n",
              "countri        1.151935\n",
              "resourc        1.073188\n",
              "select         0.985785\n",
              "recycl         0.957707\n",
              "segreg         0.952163\n",
              "strategi       0.925718\n",
              "map            0.898513\n",
              "sensit         0.895875\n",
              "expenditur     0.881621\n",
              "truck          0.869667\n",
              "ward           0.811349\n",
              "region         0.808603\n",
              "ton            0.780894\n",
              "optimis        0.769533\n",
              "path           0.751980\n",
              "district       0.736407\n",
              "day            0.730202\n",
              "land           0.700158\n",
              "mainten        0.685879\n",
              "risk           0.683079\n",
              "environ        0.679793\n",
              "dtype: float64"
            ]
          },
          "metadata": {
            "tags": []
          },
          "execution_count": 176
        }
      ]
    },
    {
      "cell_type": "code",
      "metadata": {
        "id": "YbY_MSbq_hOS",
        "colab": {
          "base_uri": "https://localhost:8080/",
          "height": 867
        },
        "outputId": "8dfe4a56-463b-4782-f119-6250888dac3b"
      },
      "source": [
        "fr_key1=tfidf.loc[tfidf['label'] == 1].sum()\n",
        "fr_key1.sort_values(ascending=False)[1:50]"
      ],
      "execution_count": null,
      "outputs": [
        {
          "output_type": "execute_result",
          "data": {
            "text/plain": [
              "transport        81.057024\n",
              "road             62.364732\n",
              "network          60.871828\n",
              "traffic          43.322660\n",
              "travel           38.617294\n",
              "citi             37.174360\n",
              "vehicl           35.036028\n",
              "rout             34.974939\n",
              "transit          31.961342\n",
              "land             30.675167\n",
              "environ          29.216418\n",
              "measur           28.828267\n",
              "cost             27.644076\n",
              "popul            27.098617\n",
              "distanc          25.944966\n",
              "decis            24.669362\n",
              "infrastructur    23.360575\n",
              "mode             23.099398\n",
              "station          22.337522\n",
              "map              21.599205\n",
              "risk             21.420949\n",
              "health           20.747032\n",
              "emiss            20.144522\n",
              "region           19.517012\n",
              "school           19.366243\n",
              "densiti          19.197706\n",
              "trip             19.010956\n",
              "mobil            18.475221\n",
              "nois             18.232297\n",
              "scenario         18.194317\n",
              "accid            17.885894\n",
              "neighborhood     17.518326\n",
              "distribut        17.281500\n",
              "safeti           17.185434\n",
              "crash            17.091230\n",
              "street           16.820941\n",
              "path             16.498886\n",
              "walkabl          15.907291\n",
              "destin           15.634167\n",
              "perform          15.556104\n",
              "bicycl           14.832428\n",
              "cycl             14.664957\n",
              "evalu            14.554722\n",
              "commun           14.373775\n",
              "car              14.200234\n",
              "polici           14.077253\n",
              "pollut           13.538716\n",
              "highway          13.496935\n",
              "speed            13.471046\n",
              "dtype: float64"
            ]
          },
          "metadata": {
            "tags": []
          },
          "execution_count": 177
        }
      ]
    },
    {
      "cell_type": "code",
      "metadata": {
        "id": "GKpeJRNV86Q5",
        "colab": {
          "base_uri": "https://localhost:8080/",
          "height": 51
        },
        "outputId": "05715b75-6894-49d2-cc18-169c12d956fd"
      },
      "source": [
        "from nltk.stem import WordNetLemmatizer\n",
        "nltk.download('wordnet')\n",
        "lemmatizer = WordNetLemmatizer() "
      ],
      "execution_count": null,
      "outputs": [
        {
          "output_type": "stream",
          "text": [
            "[nltk_data] Downloading package wordnet to /root/nltk_data...\n",
            "[nltk_data]   Unzipping corpora/wordnet.zip.\n"
          ],
          "name": "stdout"
        }
      ]
    },
    {
      "cell_type": "markdown",
      "metadata": {
        "id": "TkQpZ4_-P_uT"
      },
      "source": [
        "\n",
        "\n",
        "\n",
        "## lemmatizer version\n",
        "\n",
        "\n"
      ]
    },
    {
      "cell_type": "code",
      "metadata": {
        "id": "lx-_nWgUFa-o"
      },
      "source": [
        "docs=[]\n",
        "for e in data['Abstract']:\n",
        "    text=e.lower()\n",
        "    atext=re.sub('[^a-zA-Z]+', ' ', text)\n",
        "    tokens = nltk.word_tokenize(atext)\n",
        "    tags = nltk.pos_tag(tokens)\n",
        "    nouns = [word for word,pos in tags if (pos == 'NN' or pos == 'NNP' or pos == 'NNS' or pos == 'NNPS')]\n",
        "    stem=[lemmatizer.lemmatize(e) for e in nouns]\n",
        "    rtext=[e for e in stem if e not in s_stopwords+stopwords+sstopwords and len(e)>=3]\n",
        "    docs.append(' '.join(rtext))"
      ],
      "execution_count": null,
      "outputs": []
    },
    {
      "cell_type": "code",
      "metadata": {
        "id": "eLbWW2EVOCm8",
        "colab": {
          "base_uri": "https://localhost:8080/",
          "height": 51
        },
        "outputId": "b41d64f5-e1c7-442e-b97c-bb2fdfcfc8d9"
      },
      "source": [
        "from sklearn.feature_extraction.text import TfidfVectorizer\n",
        "\n",
        "vectorizertf = TfidfVectorizer(analyzer='word',       \n",
        "                             min_df=5,\n",
        "                             max_features=50000,             # max number of uniq words\n",
        "                            )\n",
        "data_vectorizedtf = vectorizertf.fit_transform(docs)\n",
        "data_vectorizedtf"
      ],
      "execution_count": null,
      "outputs": [
        {
          "output_type": "execute_result",
          "data": {
            "text/plain": [
              "<1125x997 sparse matrix of type '<class 'numpy.float64'>'\n",
              "\twith 24032 stored elements in Compressed Sparse Row format>"
            ]
          },
          "metadata": {
            "tags": []
          },
          "execution_count": 180
        }
      ]
    },
    {
      "cell_type": "code",
      "metadata": {
        "id": "-l-xUaGnOG0K",
        "colab": {
          "base_uri": "https://localhost:8080/",
          "height": 253
        },
        "outputId": "bb3b0516-0e9f-4137-b65c-363995341472"
      },
      "source": [
        "tfidf = pd.DataFrame(data_vectorizedtf.toarray(),columns=vectorizertf.get_feature_names())\n",
        "tfidf.head()"
      ],
      "execution_count": null,
      "outputs": [
        {
          "output_type": "execute_result",
          "data": {
            "text/html": [
              "<div>\n",
              "<style scoped>\n",
              "    .dataframe tbody tr th:only-of-type {\n",
              "        vertical-align: middle;\n",
              "    }\n",
              "\n",
              "    .dataframe tbody tr th {\n",
              "        vertical-align: top;\n",
              "    }\n",
              "\n",
              "    .dataframe thead th {\n",
              "        text-align: right;\n",
              "    }\n",
              "</style>\n",
              "<table border=\"1\" class=\"dataframe\">\n",
              "  <thead>\n",
              "    <tr style=\"text-align: right;\">\n",
              "      <th></th>\n",
              "      <th>ability</th>\n",
              "      <th>abm</th>\n",
              "      <th>abstract</th>\n",
              "      <th>acceleration</th>\n",
              "      <th>accelerometer</th>\n",
              "      <th>acceptance</th>\n",
              "      <th>accessibility</th>\n",
              "      <th>accident</th>\n",
              "      <th>accordance</th>\n",
              "      <th>accuracy</th>\n",
              "      <th>accurate</th>\n",
              "      <th>acquisition</th>\n",
              "      <th>act</th>\n",
              "      <th>actor</th>\n",
              "      <th>adaptation</th>\n",
              "      <th>address</th>\n",
              "      <th>adjustment</th>\n",
              "      <th>administration</th>\n",
              "      <th>adolescent</th>\n",
              "      <th>adoption</th>\n",
              "      <th>adult</th>\n",
              "      <th>advancement</th>\n",
              "      <th>aesthetic</th>\n",
              "      <th>age</th>\n",
              "      <th>agency</th>\n",
              "      <th>agent</th>\n",
              "      <th>agglomeration</th>\n",
              "      <th>aggregate</th>\n",
              "      <th>aggregation</th>\n",
              "      <th>agriculture</th>\n",
              "      <th>ahp</th>\n",
              "      <th>aid</th>\n",
              "      <th>air</th>\n",
              "      <th>aircraft</th>\n",
              "      <th>airport</th>\n",
              "      <th>alignment</th>\n",
              "      <th>allocation</th>\n",
              "      <th>amenity</th>\n",
              "      <th>america</th>\n",
              "      <th>analytics</th>\n",
              "      <th>...</th>\n",
              "      <th>vegetation</th>\n",
              "      <th>vehicle</th>\n",
              "      <th>velocity</th>\n",
              "      <th>versus</th>\n",
              "      <th>vicinity</th>\n",
              "      <th>viewpoint</th>\n",
              "      <th>village</th>\n",
              "      <th>visibility</th>\n",
              "      <th>visitor</th>\n",
              "      <th>visualization</th>\n",
              "      <th>vrp</th>\n",
              "      <th>vulnerability</th>\n",
              "      <th>walk</th>\n",
              "      <th>walkability</th>\n",
              "      <th>walking</th>\n",
              "      <th>ward</th>\n",
              "      <th>washington</th>\n",
              "      <th>waste</th>\n",
              "      <th>water</th>\n",
              "      <th>waterway</th>\n",
              "      <th>weather</th>\n",
              "      <th>week</th>\n",
              "      <th>weight</th>\n",
              "      <th>welfare</th>\n",
              "      <th>well</th>\n",
              "      <th>west</th>\n",
              "      <th>whereas</th>\n",
              "      <th>whole</th>\n",
              "      <th>width</th>\n",
              "      <th>window</th>\n",
              "      <th>winter</th>\n",
              "      <th>woman</th>\n",
              "      <th>wood</th>\n",
              "      <th>worker</th>\n",
              "      <th>workflow</th>\n",
              "      <th>workplace</th>\n",
              "      <th>yield</th>\n",
              "      <th>york</th>\n",
              "      <th>zealand</th>\n",
              "      <th>zone</th>\n",
              "    </tr>\n",
              "  </thead>\n",
              "  <tbody>\n",
              "    <tr>\n",
              "      <th>0</th>\n",
              "      <td>0.0</td>\n",
              "      <td>0.0</td>\n",
              "      <td>0.0</td>\n",
              "      <td>0.0</td>\n",
              "      <td>0.0</td>\n",
              "      <td>0.0</td>\n",
              "      <td>0.0</td>\n",
              "      <td>0.000000</td>\n",
              "      <td>0.0</td>\n",
              "      <td>0.0</td>\n",
              "      <td>0.0</td>\n",
              "      <td>0.000000</td>\n",
              "      <td>0.0</td>\n",
              "      <td>0.0</td>\n",
              "      <td>0.0</td>\n",
              "      <td>0.0</td>\n",
              "      <td>0.0</td>\n",
              "      <td>0.0</td>\n",
              "      <td>0.0</td>\n",
              "      <td>0.0</td>\n",
              "      <td>0.0</td>\n",
              "      <td>0.0</td>\n",
              "      <td>0.0</td>\n",
              "      <td>0.0</td>\n",
              "      <td>0.0</td>\n",
              "      <td>0.0</td>\n",
              "      <td>0.0</td>\n",
              "      <td>0.0</td>\n",
              "      <td>0.0</td>\n",
              "      <td>0.0</td>\n",
              "      <td>0.0</td>\n",
              "      <td>0.0</td>\n",
              "      <td>0.318359</td>\n",
              "      <td>0.0</td>\n",
              "      <td>0.0</td>\n",
              "      <td>0.0</td>\n",
              "      <td>0.0</td>\n",
              "      <td>0.0</td>\n",
              "      <td>0.0</td>\n",
              "      <td>0.0</td>\n",
              "      <td>...</td>\n",
              "      <td>0.0</td>\n",
              "      <td>0.208474</td>\n",
              "      <td>0.0</td>\n",
              "      <td>0.0</td>\n",
              "      <td>0.0</td>\n",
              "      <td>0.0</td>\n",
              "      <td>0.0</td>\n",
              "      <td>0.0</td>\n",
              "      <td>0.0</td>\n",
              "      <td>0.0</td>\n",
              "      <td>0.0</td>\n",
              "      <td>0.0</td>\n",
              "      <td>0.0</td>\n",
              "      <td>0.0</td>\n",
              "      <td>0.0</td>\n",
              "      <td>0.0</td>\n",
              "      <td>0.0</td>\n",
              "      <td>0.000</td>\n",
              "      <td>0.0</td>\n",
              "      <td>0.0</td>\n",
              "      <td>0.0</td>\n",
              "      <td>0.0</td>\n",
              "      <td>0.0</td>\n",
              "      <td>0.0</td>\n",
              "      <td>0.0</td>\n",
              "      <td>0.0</td>\n",
              "      <td>0.0</td>\n",
              "      <td>0.0</td>\n",
              "      <td>0.0</td>\n",
              "      <td>0.0</td>\n",
              "      <td>0.0</td>\n",
              "      <td>0.0</td>\n",
              "      <td>0.000000</td>\n",
              "      <td>0.0</td>\n",
              "      <td>0.0</td>\n",
              "      <td>0.0</td>\n",
              "      <td>0.0</td>\n",
              "      <td>0.0</td>\n",
              "      <td>0.0</td>\n",
              "      <td>0.0</td>\n",
              "    </tr>\n",
              "    <tr>\n",
              "      <th>1</th>\n",
              "      <td>0.0</td>\n",
              "      <td>0.0</td>\n",
              "      <td>0.0</td>\n",
              "      <td>0.0</td>\n",
              "      <td>0.0</td>\n",
              "      <td>0.0</td>\n",
              "      <td>0.0</td>\n",
              "      <td>0.000000</td>\n",
              "      <td>0.0</td>\n",
              "      <td>0.0</td>\n",
              "      <td>0.0</td>\n",
              "      <td>0.000000</td>\n",
              "      <td>0.0</td>\n",
              "      <td>0.0</td>\n",
              "      <td>0.0</td>\n",
              "      <td>0.0</td>\n",
              "      <td>0.0</td>\n",
              "      <td>0.0</td>\n",
              "      <td>0.0</td>\n",
              "      <td>0.0</td>\n",
              "      <td>0.0</td>\n",
              "      <td>0.0</td>\n",
              "      <td>0.0</td>\n",
              "      <td>0.0</td>\n",
              "      <td>0.0</td>\n",
              "      <td>0.0</td>\n",
              "      <td>0.0</td>\n",
              "      <td>0.0</td>\n",
              "      <td>0.0</td>\n",
              "      <td>0.0</td>\n",
              "      <td>0.0</td>\n",
              "      <td>0.0</td>\n",
              "      <td>0.000000</td>\n",
              "      <td>0.0</td>\n",
              "      <td>0.0</td>\n",
              "      <td>0.0</td>\n",
              "      <td>0.0</td>\n",
              "      <td>0.0</td>\n",
              "      <td>0.0</td>\n",
              "      <td>0.0</td>\n",
              "      <td>...</td>\n",
              "      <td>0.0</td>\n",
              "      <td>0.000000</td>\n",
              "      <td>0.0</td>\n",
              "      <td>0.0</td>\n",
              "      <td>0.0</td>\n",
              "      <td>0.0</td>\n",
              "      <td>0.0</td>\n",
              "      <td>0.0</td>\n",
              "      <td>0.0</td>\n",
              "      <td>0.0</td>\n",
              "      <td>0.0</td>\n",
              "      <td>0.0</td>\n",
              "      <td>0.0</td>\n",
              "      <td>0.0</td>\n",
              "      <td>0.0</td>\n",
              "      <td>0.0</td>\n",
              "      <td>0.0</td>\n",
              "      <td>0.125</td>\n",
              "      <td>0.0</td>\n",
              "      <td>0.0</td>\n",
              "      <td>0.0</td>\n",
              "      <td>0.0</td>\n",
              "      <td>0.0</td>\n",
              "      <td>0.0</td>\n",
              "      <td>0.0</td>\n",
              "      <td>0.0</td>\n",
              "      <td>0.0</td>\n",
              "      <td>0.0</td>\n",
              "      <td>0.0</td>\n",
              "      <td>0.0</td>\n",
              "      <td>0.0</td>\n",
              "      <td>0.0</td>\n",
              "      <td>0.000000</td>\n",
              "      <td>0.0</td>\n",
              "      <td>0.0</td>\n",
              "      <td>0.0</td>\n",
              "      <td>0.0</td>\n",
              "      <td>0.0</td>\n",
              "      <td>0.0</td>\n",
              "      <td>0.0</td>\n",
              "    </tr>\n",
              "    <tr>\n",
              "      <th>2</th>\n",
              "      <td>0.0</td>\n",
              "      <td>0.0</td>\n",
              "      <td>0.0</td>\n",
              "      <td>0.0</td>\n",
              "      <td>0.0</td>\n",
              "      <td>0.0</td>\n",
              "      <td>0.0</td>\n",
              "      <td>0.000000</td>\n",
              "      <td>0.0</td>\n",
              "      <td>0.0</td>\n",
              "      <td>0.0</td>\n",
              "      <td>0.000000</td>\n",
              "      <td>0.0</td>\n",
              "      <td>0.0</td>\n",
              "      <td>0.0</td>\n",
              "      <td>0.0</td>\n",
              "      <td>0.0</td>\n",
              "      <td>0.0</td>\n",
              "      <td>0.0</td>\n",
              "      <td>0.0</td>\n",
              "      <td>0.0</td>\n",
              "      <td>0.0</td>\n",
              "      <td>0.0</td>\n",
              "      <td>0.0</td>\n",
              "      <td>0.0</td>\n",
              "      <td>0.0</td>\n",
              "      <td>0.0</td>\n",
              "      <td>0.0</td>\n",
              "      <td>0.0</td>\n",
              "      <td>0.0</td>\n",
              "      <td>0.0</td>\n",
              "      <td>0.0</td>\n",
              "      <td>0.000000</td>\n",
              "      <td>0.0</td>\n",
              "      <td>0.0</td>\n",
              "      <td>0.0</td>\n",
              "      <td>0.0</td>\n",
              "      <td>0.0</td>\n",
              "      <td>0.0</td>\n",
              "      <td>0.0</td>\n",
              "      <td>...</td>\n",
              "      <td>0.0</td>\n",
              "      <td>0.000000</td>\n",
              "      <td>0.0</td>\n",
              "      <td>0.0</td>\n",
              "      <td>0.0</td>\n",
              "      <td>0.0</td>\n",
              "      <td>0.0</td>\n",
              "      <td>0.0</td>\n",
              "      <td>0.0</td>\n",
              "      <td>0.0</td>\n",
              "      <td>0.0</td>\n",
              "      <td>0.0</td>\n",
              "      <td>0.0</td>\n",
              "      <td>0.0</td>\n",
              "      <td>0.0</td>\n",
              "      <td>0.0</td>\n",
              "      <td>0.0</td>\n",
              "      <td>0.000</td>\n",
              "      <td>0.0</td>\n",
              "      <td>0.0</td>\n",
              "      <td>0.0</td>\n",
              "      <td>0.0</td>\n",
              "      <td>0.0</td>\n",
              "      <td>0.0</td>\n",
              "      <td>0.0</td>\n",
              "      <td>0.0</td>\n",
              "      <td>0.0</td>\n",
              "      <td>0.0</td>\n",
              "      <td>0.0</td>\n",
              "      <td>0.0</td>\n",
              "      <td>0.0</td>\n",
              "      <td>0.0</td>\n",
              "      <td>0.768769</td>\n",
              "      <td>0.0</td>\n",
              "      <td>0.0</td>\n",
              "      <td>0.0</td>\n",
              "      <td>0.0</td>\n",
              "      <td>0.0</td>\n",
              "      <td>0.0</td>\n",
              "      <td>0.0</td>\n",
              "    </tr>\n",
              "    <tr>\n",
              "      <th>3</th>\n",
              "      <td>0.0</td>\n",
              "      <td>0.0</td>\n",
              "      <td>0.0</td>\n",
              "      <td>0.0</td>\n",
              "      <td>0.0</td>\n",
              "      <td>0.0</td>\n",
              "      <td>0.0</td>\n",
              "      <td>0.000000</td>\n",
              "      <td>0.0</td>\n",
              "      <td>0.0</td>\n",
              "      <td>0.0</td>\n",
              "      <td>0.270175</td>\n",
              "      <td>0.0</td>\n",
              "      <td>0.0</td>\n",
              "      <td>0.0</td>\n",
              "      <td>0.0</td>\n",
              "      <td>0.0</td>\n",
              "      <td>0.0</td>\n",
              "      <td>0.0</td>\n",
              "      <td>0.0</td>\n",
              "      <td>0.0</td>\n",
              "      <td>0.0</td>\n",
              "      <td>0.0</td>\n",
              "      <td>0.0</td>\n",
              "      <td>0.0</td>\n",
              "      <td>0.0</td>\n",
              "      <td>0.0</td>\n",
              "      <td>0.0</td>\n",
              "      <td>0.0</td>\n",
              "      <td>0.0</td>\n",
              "      <td>0.0</td>\n",
              "      <td>0.0</td>\n",
              "      <td>0.000000</td>\n",
              "      <td>0.0</td>\n",
              "      <td>0.0</td>\n",
              "      <td>0.0</td>\n",
              "      <td>0.0</td>\n",
              "      <td>0.0</td>\n",
              "      <td>0.0</td>\n",
              "      <td>0.0</td>\n",
              "      <td>...</td>\n",
              "      <td>0.0</td>\n",
              "      <td>0.000000</td>\n",
              "      <td>0.0</td>\n",
              "      <td>0.0</td>\n",
              "      <td>0.0</td>\n",
              "      <td>0.0</td>\n",
              "      <td>0.0</td>\n",
              "      <td>0.0</td>\n",
              "      <td>0.0</td>\n",
              "      <td>0.0</td>\n",
              "      <td>0.0</td>\n",
              "      <td>0.0</td>\n",
              "      <td>0.0</td>\n",
              "      <td>0.0</td>\n",
              "      <td>0.0</td>\n",
              "      <td>0.0</td>\n",
              "      <td>0.0</td>\n",
              "      <td>0.000</td>\n",
              "      <td>0.0</td>\n",
              "      <td>0.0</td>\n",
              "      <td>0.0</td>\n",
              "      <td>0.0</td>\n",
              "      <td>0.0</td>\n",
              "      <td>0.0</td>\n",
              "      <td>0.0</td>\n",
              "      <td>0.0</td>\n",
              "      <td>0.0</td>\n",
              "      <td>0.0</td>\n",
              "      <td>0.0</td>\n",
              "      <td>0.0</td>\n",
              "      <td>0.0</td>\n",
              "      <td>0.0</td>\n",
              "      <td>0.000000</td>\n",
              "      <td>0.0</td>\n",
              "      <td>0.0</td>\n",
              "      <td>0.0</td>\n",
              "      <td>0.0</td>\n",
              "      <td>0.0</td>\n",
              "      <td>0.0</td>\n",
              "      <td>0.0</td>\n",
              "    </tr>\n",
              "    <tr>\n",
              "      <th>4</th>\n",
              "      <td>0.0</td>\n",
              "      <td>0.0</td>\n",
              "      <td>0.0</td>\n",
              "      <td>0.0</td>\n",
              "      <td>0.0</td>\n",
              "      <td>0.0</td>\n",
              "      <td>0.0</td>\n",
              "      <td>0.078456</td>\n",
              "      <td>0.0</td>\n",
              "      <td>0.0</td>\n",
              "      <td>0.0</td>\n",
              "      <td>0.000000</td>\n",
              "      <td>0.0</td>\n",
              "      <td>0.0</td>\n",
              "      <td>0.0</td>\n",
              "      <td>0.0</td>\n",
              "      <td>0.0</td>\n",
              "      <td>0.0</td>\n",
              "      <td>0.0</td>\n",
              "      <td>0.0</td>\n",
              "      <td>0.0</td>\n",
              "      <td>0.0</td>\n",
              "      <td>0.0</td>\n",
              "      <td>0.0</td>\n",
              "      <td>0.0</td>\n",
              "      <td>0.0</td>\n",
              "      <td>0.0</td>\n",
              "      <td>0.0</td>\n",
              "      <td>0.0</td>\n",
              "      <td>0.0</td>\n",
              "      <td>0.0</td>\n",
              "      <td>0.0</td>\n",
              "      <td>0.000000</td>\n",
              "      <td>0.0</td>\n",
              "      <td>0.0</td>\n",
              "      <td>0.0</td>\n",
              "      <td>0.0</td>\n",
              "      <td>0.0</td>\n",
              "      <td>0.0</td>\n",
              "      <td>0.0</td>\n",
              "      <td>...</td>\n",
              "      <td>0.0</td>\n",
              "      <td>0.000000</td>\n",
              "      <td>0.0</td>\n",
              "      <td>0.0</td>\n",
              "      <td>0.0</td>\n",
              "      <td>0.0</td>\n",
              "      <td>0.0</td>\n",
              "      <td>0.0</td>\n",
              "      <td>0.0</td>\n",
              "      <td>0.0</td>\n",
              "      <td>0.0</td>\n",
              "      <td>0.0</td>\n",
              "      <td>0.0</td>\n",
              "      <td>0.0</td>\n",
              "      <td>0.0</td>\n",
              "      <td>0.0</td>\n",
              "      <td>0.0</td>\n",
              "      <td>0.000</td>\n",
              "      <td>0.0</td>\n",
              "      <td>0.0</td>\n",
              "      <td>0.0</td>\n",
              "      <td>0.0</td>\n",
              "      <td>0.0</td>\n",
              "      <td>0.0</td>\n",
              "      <td>0.0</td>\n",
              "      <td>0.0</td>\n",
              "      <td>0.0</td>\n",
              "      <td>0.0</td>\n",
              "      <td>0.0</td>\n",
              "      <td>0.0</td>\n",
              "      <td>0.0</td>\n",
              "      <td>0.0</td>\n",
              "      <td>0.000000</td>\n",
              "      <td>0.0</td>\n",
              "      <td>0.0</td>\n",
              "      <td>0.0</td>\n",
              "      <td>0.0</td>\n",
              "      <td>0.0</td>\n",
              "      <td>0.0</td>\n",
              "      <td>0.0</td>\n",
              "    </tr>\n",
              "  </tbody>\n",
              "</table>\n",
              "<p>5 rows × 997 columns</p>\n",
              "</div>"
            ],
            "text/plain": [
              "   ability  abm  abstract  acceleration  ...  yield  york  zealand  zone\n",
              "0      0.0  0.0       0.0           0.0  ...    0.0   0.0      0.0   0.0\n",
              "1      0.0  0.0       0.0           0.0  ...    0.0   0.0      0.0   0.0\n",
              "2      0.0  0.0       0.0           0.0  ...    0.0   0.0      0.0   0.0\n",
              "3      0.0  0.0       0.0           0.0  ...    0.0   0.0      0.0   0.0\n",
              "4      0.0  0.0       0.0           0.0  ...    0.0   0.0      0.0   0.0\n",
              "\n",
              "[5 rows x 997 columns]"
            ]
          },
          "metadata": {
            "tags": []
          },
          "execution_count": 181
        }
      ]
    },
    {
      "cell_type": "code",
      "metadata": {
        "id": "9IhCLfPIN5LD",
        "colab": {
          "base_uri": "https://localhost:8080/",
          "height": 204
        },
        "outputId": "b185e9c6-4ba2-4afe-f8ae-99039fa05b68"
      },
      "source": [
        "svd = TruncatedSVD(2).fit(tfidf)\n",
        "X_2d=svd.fit_transform(tfidf)\n",
        "svd_df=pd.DataFrame(X_2d,columns=['pc1','pc2'])\n",
        "svd_df.head()"
      ],
      "execution_count": null,
      "outputs": [
        {
          "output_type": "execute_result",
          "data": {
            "text/html": [
              "<div>\n",
              "<style scoped>\n",
              "    .dataframe tbody tr th:only-of-type {\n",
              "        vertical-align: middle;\n",
              "    }\n",
              "\n",
              "    .dataframe tbody tr th {\n",
              "        vertical-align: top;\n",
              "    }\n",
              "\n",
              "    .dataframe thead th {\n",
              "        text-align: right;\n",
              "    }\n",
              "</style>\n",
              "<table border=\"1\" class=\"dataframe\">\n",
              "  <thead>\n",
              "    <tr style=\"text-align: right;\">\n",
              "      <th></th>\n",
              "      <th>pc1</th>\n",
              "      <th>pc2</th>\n",
              "    </tr>\n",
              "  </thead>\n",
              "  <tbody>\n",
              "    <tr>\n",
              "      <th>0</th>\n",
              "      <td>0.240452</td>\n",
              "      <td>0.090338</td>\n",
              "    </tr>\n",
              "    <tr>\n",
              "      <th>1</th>\n",
              "      <td>0.191536</td>\n",
              "      <td>0.078306</td>\n",
              "    </tr>\n",
              "    <tr>\n",
              "      <th>2</th>\n",
              "      <td>0.150420</td>\n",
              "      <td>0.068652</td>\n",
              "    </tr>\n",
              "    <tr>\n",
              "      <th>3</th>\n",
              "      <td>0.236674</td>\n",
              "      <td>-0.014631</td>\n",
              "    </tr>\n",
              "    <tr>\n",
              "      <th>4</th>\n",
              "      <td>0.189378</td>\n",
              "      <td>0.070020</td>\n",
              "    </tr>\n",
              "  </tbody>\n",
              "</table>\n",
              "</div>"
            ],
            "text/plain": [
              "        pc1       pc2\n",
              "0  0.240452  0.090338\n",
              "1  0.191536  0.078306\n",
              "2  0.150420  0.068652\n",
              "3  0.236674 -0.014631\n",
              "4  0.189378  0.070020"
            ]
          },
          "metadata": {
            "tags": []
          },
          "execution_count": 182
        }
      ]
    },
    {
      "cell_type": "code",
      "metadata": {
        "id": "tXL30si-OVXx"
      },
      "source": [
        "from sklearn.cluster import KMeans\n",
        "kmeans = KMeans(n_clusters=2, random_state=0).fit(svd_df[['pc1','pc2']])"
      ],
      "execution_count": null,
      "outputs": []
    },
    {
      "cell_type": "code",
      "metadata": {
        "id": "TU2F9cRbOZk_"
      },
      "source": [
        "labels=kmeans.predict(svd_df[['pc1','pc2']])"
      ],
      "execution_count": null,
      "outputs": []
    },
    {
      "cell_type": "code",
      "metadata": {
        "id": "YgKH1X1-OcmP"
      },
      "source": [
        "svd_df['cluster']=labels"
      ],
      "execution_count": null,
      "outputs": []
    },
    {
      "cell_type": "code",
      "metadata": {
        "id": "PzAD0K6OOciG",
        "colab": {
          "base_uri": "https://localhost:8080/",
          "height": 365
        },
        "outputId": "424568fb-b961-4a3c-fbff-871b79f07071"
      },
      "source": [
        "sns.lmplot('pc1','pc2',svd_df,hue='cluster',fit_reg=False,palette=\"Set1\",scatter_kws={'alpha':0.3});"
      ],
      "execution_count": null,
      "outputs": [
        {
          "output_type": "display_data",
          "data": {
            "image/png": "[encoded data removed]",
            "text/plain": [
              "<Figure size 401.625x360 with 1 Axes>"
            ]
          },
          "metadata": {
            "tags": []
          }
        }
      ]
    },
    {
      "cell_type": "code",
      "metadata": {
        "id": "zTmH4DHIO1Lq"
      },
      "source": [
        "tfidf['label']=labels"
      ],
      "execution_count": null,
      "outputs": []
    },
    {
      "cell_type": "code",
      "metadata": {
        "id": "xj0fmrKdq-Dj",
        "colab": {
          "base_uri": "https://localhost:8080/",
          "height": 68
        },
        "outputId": "fb58abe4-0e1e-497a-92fd-7df51c610b97"
      },
      "source": [
        "tfidf['label'].value_counts()"
      ],
      "execution_count": null,
      "outputs": [
        {
          "output_type": "execute_result",
          "data": {
            "text/plain": [
              "1    637\n",
              "0    488\n",
              "Name: label, dtype: int64"
            ]
          },
          "metadata": {
            "tags": []
          },
          "execution_count": 188
        }
      ]
    },
    {
      "cell_type": "code",
      "metadata": {
        "id": "C7OecqhyPHTX",
        "colab": {
          "base_uri": "https://localhost:8080/",
          "height": 884
        },
        "outputId": "a909b82e-c152-4ba2-dd88-fab84052d83f"
      },
      "source": [
        "fr_key0=tfidf.loc[tfidf['label'] == 0].sum()\n",
        "fr_key0.sort_values(ascending=False)[0:50]"
      ],
      "execution_count": null,
      "outputs": [
        {
          "output_type": "execute_result",
          "data": {
            "text/plain": [
              "transportationation         60.918056\n",
              "accessibility               41.657203\n",
              "network                     41.282143\n",
              "transportation              35.335247\n",
              "travel                      31.867322\n",
              "city                        31.736593\n",
              "vehicle                     30.385105\n",
              "waste                       29.316042\n",
              "route                       28.785162\n",
              "transit                     28.336186\n",
              "land                        27.857798\n",
              "location                    26.621505\n",
              "environment                 25.250114\n",
              "cost                        25.059125\n",
              "population                  24.136139\n",
              "distance                    22.746239\n",
              "infrastructure              22.608768\n",
              "measure                     22.083360\n",
              "road                        22.075754\n",
              "station                     21.650005\n",
              "decision                    21.211973\n",
              "planning                    19.843599\n",
              "mode                        19.511264\n",
              "school                      18.703872\n",
              "health                      18.658678\n",
              "scenario                    17.412927\n",
              "change                      17.410244\n",
              "transportationationation    16.877563\n",
              "trip                        16.875504\n",
              "neighborhood                16.690818\n",
              "positioning                 16.456108\n",
              "mobility                    16.434674\n",
              "bus                         16.317225\n",
              "region                      15.654231\n",
              "optimization                15.421845\n",
              "density                     14.744654\n",
              "walkingability              14.635520\n",
              "path                        14.338165\n",
              "emission                    13.883537\n",
              "street                      13.658687\n",
              "risk                        13.526010\n",
              "distribution                13.208433\n",
              "destination                 13.161077\n",
              "choice                      12.920440\n",
              "traffic                     12.808553\n",
              "map                         12.628713\n",
              "performance                 12.517666\n",
              "policy                      12.174712\n",
              "strategy                    12.141862\n",
              "evaluation                  11.555765\n",
              "dtype: float64"
            ]
          },
          "metadata": {
            "tags": []
          },
          "execution_count": 121
        }
      ]
    },
    {
      "cell_type": "code",
      "metadata": {
        "id": "1cbaya0aRaOQ",
        "colab": {
          "base_uri": "https://localhost:8080/",
          "height": 867
        },
        "outputId": "ace081a4-71db-4bb5-f34e-f45b74ded52f"
      },
      "source": [
        "fr_key1=tfidf.loc[tfidf['label'] == 1].sum()\n",
        "fr_key1.sort_values(ascending=False)[1:50]"
      ],
      "execution_count": null,
      "outputs": [
        {
          "output_type": "execute_result",
          "data": {
            "text/plain": [
              "traffic                42.530840\n",
              "road                   38.141856\n",
              "network                16.032307\n",
              "accident               15.074610\n",
              "noise                  14.431893\n",
              "transportationation     9.787933\n",
              "crash                   9.589712\n",
              "risk                    7.232651\n",
              "vehicle                 6.678899\n",
              "safety                  5.861114\n",
              "material                5.752563\n",
              "exposure                5.658992\n",
              "congestion              5.622399\n",
              "cost                    5.339933\n",
              "transportation          5.316184\n",
              "city                    5.131329\n",
              "pollution               4.788907\n",
              "forest                  4.293669\n",
              "planning                4.275363\n",
              "path                    4.189392\n",
              "emission                4.001936\n",
              "positioning             3.900781\n",
              "route                   3.748752\n",
              "speed                   3.694142\n",
              "map                     3.564603\n",
              "segment                 3.445682\n",
              "region                  3.395830\n",
              "length                  3.357556\n",
              "car                     3.343834\n",
              "density                 3.307999\n",
              "distribution            3.193332\n",
              "air                     3.138956\n",
              "distance                3.125868\n",
              "algorithmtion           3.123660\n",
              "environment             3.089918\n",
              "highway                 2.941241\n",
              "maintenance             2.880419\n",
              "annoyance               2.880228\n",
              "performance             2.809286\n",
              "location                2.801495\n",
              "decision                2.769483\n",
              "parameter               2.736866\n",
              "criterion               2.647377\n",
              "health                  2.486334\n",
              "evaluation              2.435453\n",
              "measurement             2.380277\n",
              "zone                    2.350736\n",
              "simulation              2.317114\n",
              "travel                  2.285289\n",
              "dtype: float64"
            ]
          },
          "metadata": {
            "tags": []
          },
          "execution_count": 122
        }
      ]
    },
    {
      "cell_type": "markdown",
      "metadata": {
        "id": "160uMUZ1XbyD"
      },
      "source": [
        "BOW"
      ]
    },
    {
      "cell_type": "code",
      "metadata": {
        "id": "HFTD7oZ_Wr2S"
      },
      "source": [
        "from sklearn.feature_extraction.text import CountVectorizer\n",
        "\n",
        "vectorizerbow = CountVectorizer(\n",
        "                             max_features=50000,             # max number of uniq words\n",
        "                            )\n",
        "data_bow = vectorizerbow.fit_transform(docs)\n",
        "data_bow"
      ],
      "execution_count": null,
      "outputs": []
    },
    {
      "cell_type": "code",
      "metadata": {
        "id": "cnORTbL2XtPG"
      },
      "source": [
        "bowdf = pd.DataFrame(data_bow.toarray(),columns=vectorizerbow.get_feature_names())\n",
        "bowdf.head()"
      ],
      "execution_count": null,
      "outputs": []
    },
    {
      "cell_type": "code",
      "metadata": {
        "id": "0zhRqGl9ZyWu"
      },
      "source": [
        "bowdf['label']=labels"
      ],
      "execution_count": null,
      "outputs": []
    },
    {
      "cell_type": "code",
      "metadata": {
        "id": "p1qwBouSZyTW"
      },
      "source": [
        "fr_key0=bowdf.loc[bowdf['label'] == 0].sum()\n",
        "fr_key0.sort_values(ascending=False)[0:50]"
      ],
      "execution_count": null,
      "outputs": []
    },
    {
      "cell_type": "code",
      "metadata": {
        "id": "smHpsLcTZyQM"
      },
      "source": [
        "fr_key1=bowdf.loc[bowdf['label'] == 1].sum()\n",
        "fr_key1.sort_values(ascending=False)[0:50]"
      ],
      "execution_count": null,
      "outputs": []
    },
    {
      "cell_type": "markdown",
      "metadata": {
        "id": "UH3BgLqzGuzQ"
      },
      "source": [
        "<h1>Jurnal frequencies</h1>"
      ]
    },
    {
      "cell_type": "code",
      "metadata": {
        "id": "e6MSYFOdf3CC"
      },
      "source": [
        "dataset['Publication Name'].value_counts()"
      ],
      "execution_count": null,
      "outputs": []
    },
    {
      "cell_type": "code",
      "metadata": {
        "id": "0ZG7DdHegwt6"
      },
      "source": [
        "dataset['count']=1\n",
        "counter=dataset[['count','Publication Name']].groupby('Publication Name').count().sort_values(by=['count'],ascending=False)"
      ],
      "execution_count": null,
      "outputs": []
    },
    {
      "cell_type": "code",
      "metadata": {
        "id": "Hq4k6uvSh91Q"
      },
      "source": [
        "counter.iloc[:14,:]"
      ],
      "execution_count": null,
      "outputs": []
    },
    {
      "cell_type": "code",
      "metadata": {
        "id": "pvMjjPW4mAnU"
      },
      "source": [
        "\n",
        "import plotly.graph_objects as go"
      ],
      "execution_count": null,
      "outputs": []
    },
    {
      "cell_type": "code",
      "metadata": {
        "id": "bDOsoay6oUNQ"
      },
      "source": [
        "df = pd.read_excel('/content/JurnalPublicationsFrequency.xlsx')\n",
        "df=df.iloc[:14,:]\n",
        "fig = go.Figure(data=[go.Table(\n",
        "    header=dict(values=list(df.columns),\n",
        "                fill_color='paleturquoise',\n",
        "                align='left'),\n",
        "    cells=dict(values=[df['Publication Name'],df['count']],\n",
        "               fill_color='lavender',\n",
        "               align='left'))\n",
        "])\n",
        "\n",
        "fig.show()"
      ],
      "execution_count": null,
      "outputs": []
    },
    {
      "cell_type": "code",
      "metadata": {
        "id": "WlzaMW4Vrl7l"
      },
      "source": [
        "import plotly.express as px"
      ],
      "execution_count": null,
      "outputs": []
    },
    {
      "cell_type": "code",
      "metadata": {
        "id": "bmLvii-Kzh1A"
      },
      "source": [
        "gapminder=pd.read_excel('/content/TopNineJurnalTabels.xlsx')\n",
        "gapminder.head()"
      ],
      "execution_count": null,
      "outputs": []
    },
    {
      "cell_type": "code",
      "metadata": {
        "id": "sPt8zLZqtxmU"
      },
      "source": [
        "fig = px.area(gapminder, x=\"Year\", y=\"Number Of Publications\", color=\"Name\",\n",
        "\t      line_group=\"Name\", width=800, height=600)\n",
        "fig.update_xaxes(dtick=1,ticks=\"outside\")\n",
        "fig.update_yaxes(dtick=1,range=[0, 40], autorange=False)\n",
        "fig.show()"
      ],
      "execution_count": null,
      "outputs": []
    },
    {
      "cell_type": "markdown",
      "metadata": {
        "id": "ur9hu3QY5Bxh"
      },
      "source": [
        "jurnal trends based on publication year"
      ]
    },
    {
      "cell_type": "code",
      "metadata": {
        "id": "CADMLExuGguq"
      },
      "source": [
        "from functools import reduce\n",
        "authors=reduce(lambda x,y: x+y,authors)"
      ],
      "execution_count": null,
      "outputs": []
    },
    {
      "cell_type": "markdown",
      "metadata": {
        "id": "VUkeYh63GgBh"
      },
      "source": [
        "Authors frequency"
      ]
    },
    {
      "cell_type": "code",
      "metadata": {
        "id": "MSCNpEWwEu-Y"
      },
      "source": [
        "authors=[]\n",
        "for e in dataset['Authors']:\n",
        "    names=str(e).lower()\n",
        "    names_list=names.split(';')\n",
        "    for w in names_list:\n",
        "        authors.append(w.strip())"
      ],
      "execution_count": null,
      "outputs": []
    },
    {
      "cell_type": "code",
      "metadata": {
        "id": "t8dqo2cXIxBy"
      },
      "source": [
        "authors_freq=pd.Series(authors).value_counts()"
      ],
      "execution_count": null,
      "outputs": []
    },
    {
      "cell_type": "code",
      "metadata": {
        "id": "rkThwTUzJTax"
      },
      "source": [
        "authors_freq_df=pd.DataFrame(authors_freq.keys(),columns=['Authors'])\n",
        "authors_freq_df['Publication Number']=authors_freq.values"
      ],
      "execution_count": null,
      "outputs": []
    },
    {
      "cell_type": "code",
      "metadata": {
        "id": "QvGxYN89J-7R"
      },
      "source": [
        "authors_freq_df.head(10)"
      ],
      "execution_count": null,
      "outputs": []
    },
    {
      "cell_type": "code",
      "metadata": {
        "id": "z-u0un2bKPh0"
      },
      "source": [
        "authors_freq_df.to_excel('authors_freq_df.xlsx')"
      ],
      "execution_count": null,
      "outputs": []
    },
    {
      "cell_type": "markdown",
      "metadata": {
        "id": "ZzvRoBEOTDZj"
      },
      "source": [
        "keywords frequency"
      ]
    },
    {
      "cell_type": "code",
      "metadata": {
        "id": "VVSoB7uU-kgh"
      },
      "source": [
        "keywords=[]\n",
        "for key in dataset['Keywords']:\n",
        "    removed_text=re.sub(\"[\\(\\[].*?[\\)\\]]\", \"\", str(key)).lower()\n",
        "    keylist=removed_text.split(',')\n",
        "    for word in keylist:\n",
        "        stemed=[]\n",
        "        token_list=word_tokenize(word)\n",
        "        for token in token_list:\n",
        "            stemed.append(lemmatizer.lemmatize((token.strip())))\n",
        "        keywords.append(' '.join(stemed))"
      ],
      "execution_count": null,
      "outputs": []
    },
    {
      "cell_type": "code",
      "metadata": {
        "id": "zfUz1gHB-2xM"
      },
      "source": [
        "keywords_series=pd.Series(keywords)\n",
        "keywords_series.value_counts()"
      ],
      "execution_count": null,
      "outputs": []
    },
    {
      "cell_type": "code",
      "metadata": {
        "id": "XTpdcQ3F_dnV"
      },
      "source": [
        "counter=keywords_series.value_counts()\n",
        "fr_keywords=pd.DataFrame(counter.keys(),columns=['keywords'])\n",
        "fr_keywords['count']=counter.values"
      ],
      "execution_count": null,
      "outputs": []
    },
    {
      "cell_type": "code",
      "metadata": {
        "id": "kl58_kpbBIk0"
      },
      "source": [
        "fr_keywords.head(20)"
      ],
      "execution_count": null,
      "outputs": []
    },
    {
      "cell_type": "code",
      "metadata": {
        "id": "ZQ_lTrDRBKBh"
      },
      "source": [
        "fr_keywords.to_excel('fr_keywords.xlsx')"
      ],
      "execution_count": null,
      "outputs": []
    },
    {
      "cell_type": "code",
      "metadata": {
        "id": "-d__jxt-CkNw"
      },
      "source": [
        ""
      ],
      "execution_count": null,
      "outputs": []
    },
    {
      "cell_type": "markdown",
      "metadata": {
        "id": "6d2eSvq8DePv"
      },
      "source": [
        "<h1>Changing test</h1>"
      ]
    },
    {
      "cell_type": "code",
      "metadata": {
        "id": "8wYTN7acDgP4"
      },
      "source": [
        "test=dataset[['Abstract']].copy()\n",
        "test.head()"
      ],
      "execution_count": null,
      "outputs": []
    },
    {
      "cell_type": "code",
      "metadata": {
        "id": "7INDvVNXjYWj"
      },
      "source": [
        "subset=pd.read_excel('/content/Subset 2.xlsx')\n",
        "subset.head()"
      ],
      "execution_count": null,
      "outputs": []
    },
    {
      "cell_type": "code",
      "metadata": {
        "id": "ZyrLFPLxjjqd"
      },
      "source": [
        "second=subset['second'].map(lowalpha)\n",
        "second=subset['main'].map(lowalpha)"
      ],
      "execution_count": null,
      "outputs": []
    },
    {
      "cell_type": "code",
      "metadata": {
        "id": "VhRpWq9EEpyj"
      },
      "source": [
        "text_dic={}\n",
        "zip_list=zip(second,main)\n",
        "for word in zip_list:\n",
        "    text_dic[word[0]]=word[1]"
      ],
      "execution_count": null,
      "outputs": []
    },
    {
      "cell_type": "code",
      "metadata": {
        "id": "8AwYao64N7QD",
        "colab": {
          "base_uri": "https://localhost:8080/",
          "height": 54
        },
        "outputId": "7aacd20b-5a43-4ca0-ea83-980b4582fc89"
      },
      "source": [
        "def lowalpha(text):\n",
        "    return str(text).lower()\n",
        "\n",
        "def remove_p(text):\n",
        "    return re.sub(r\"\\(.*?\\)\",'',text)\n",
        "\n",
        "def only_text(text):\n",
        "    return re.sub(r\"[^A-Za-z \\s]\",'',text)\n",
        "\n",
        "def tex_to_main(text):\n",
        "    for e in list(text_dic.keys()):\n",
        "        if e in text:\n",
        "            text=text.replace(e,text_dic[e])\n",
        "    return text\n",
        "\n",
        "'''\n",
        "test['Abstract']=test['Abstract'].map(lowalpha)\n",
        "test['Abstract']=test['Abstract'].map(tex_to_main)\n",
        "test['Abstract']=test['Abstract'].map(remove_p)\n",
        "test['Abstract']=test['Abstract'].map(only_text)\n",
        "\n",
        "'''"
      ],
      "execution_count": null,
      "outputs": [
        {
          "output_type": "execute_result",
          "data": {
            "text/plain": [
              "\"\\ntest['Abstract']=test['Abstract'].map(lowalpha)\\ntest['Abstract']=test['Abstract'].map(tex_to_main)\\ntest['Abstract']=test['Abstract'].map(remove_p)\\ntest['Abstract']=test['Abstract'].map(only_text)\\n\\n\""
            ]
          },
          "metadata": {
            "tags": []
          },
          "execution_count": 164
        }
      ]
    },
    {
      "cell_type": "code",
      "metadata": {
        "id": "1-21ZxpCns7V",
        "colab": {
          "base_uri": "https://localhost:8080/",
          "height": 204
        },
        "outputId": "3b43f918-0d9b-49e1-f9fc-9dba8636b532"
      },
      "source": [
        "data.head()"
      ],
      "execution_count": null,
      "outputs": [
        {
          "output_type": "execute_result",
          "data": {
            "text/html": [
              "<div>\n",
              "<style scoped>\n",
              "    .dataframe tbody tr th:only-of-type {\n",
              "        vertical-align: middle;\n",
              "    }\n",
              "\n",
              "    .dataframe tbody tr th {\n",
              "        vertical-align: top;\n",
              "    }\n",
              "\n",
              "    .dataframe thead th {\n",
              "        text-align: right;\n",
              "    }\n",
              "</style>\n",
              "<table border=\"1\" class=\"dataframe\">\n",
              "  <thead>\n",
              "    <tr style=\"text-align: right;\">\n",
              "      <th></th>\n",
              "      <th>Abstract</th>\n",
              "      <th>Year Published</th>\n",
              "      <th>Keywords</th>\n",
              "    </tr>\n",
              "  </thead>\n",
              "  <tbody>\n",
              "    <tr>\n",
              "      <th>0</th>\n",
              "      <td>Despite a heightened focus on sustainable tran...</td>\n",
              "      <td>2008</td>\n",
              "      <td>Sweden, sugar beet transport, proximity analys...</td>\n",
              "    </tr>\n",
              "    <tr>\n",
              "      <th>1</th>\n",
              "      <td>Confined poultry (broiler) production in Alaba...</td>\n",
              "      <td>2008</td>\n",
              "      <td>Broiler litter, Poultry litter, Decision suppo...</td>\n",
              "    </tr>\n",
              "    <tr>\n",
              "      <th>2</th>\n",
              "      <td>Extraction of short-wood from harvesting opera...</td>\n",
              "      <td>2008</td>\n",
              "      <td>Russia, logging, cut-to-length, logistics, del...</td>\n",
              "    </tr>\n",
              "    <tr>\n",
              "      <th>3</th>\n",
              "      <td>TRANSASIST is an intelligent system for the ma...</td>\n",
              "      <td>2008</td>\n",
              "      <td>Intelligent management system, urban transport...</td>\n",
              "    </tr>\n",
              "    <tr>\n",
              "      <th>4</th>\n",
              "      <td>Hazardous materials routing constitutes a crit...</td>\n",
              "      <td>2008</td>\n",
              "      <td>Decision support systems, Bi-objective routing...</td>\n",
              "    </tr>\n",
              "  </tbody>\n",
              "</table>\n",
              "</div>"
            ],
            "text/plain": [
              "                                            Abstract  ...                                           Keywords\n",
              "0  Despite a heightened focus on sustainable tran...  ...  Sweden, sugar beet transport, proximity analys...\n",
              "1  Confined poultry (broiler) production in Alaba...  ...  Broiler litter, Poultry litter, Decision suppo...\n",
              "2  Extraction of short-wood from harvesting opera...  ...  Russia, logging, cut-to-length, logistics, del...\n",
              "3  TRANSASIST is an intelligent system for the ma...  ...  Intelligent management system, urban transport...\n",
              "4  Hazardous materials routing constitutes a crit...  ...  Decision support systems, Bi-objective routing...\n",
              "\n",
              "[5 rows x 3 columns]"
            ]
          },
          "metadata": {
            "tags": []
          },
          "execution_count": 165
        }
      ]
    },
    {
      "cell_type": "code",
      "metadata": {
        "id": "3pDguBirkVtw",
        "colab": {
          "base_uri": "https://localhost:8080/",
          "height": 34
        },
        "outputId": "ea1d7c3c-7173-4a81-fcdb-8df4ae7e9029"
      },
      "source": [
        "data['Keywords'][0]"
      ],
      "execution_count": null,
      "outputs": [
        {
          "output_type": "execute_result",
          "data": {
            "text/plain": [
              "'Sweden, sugar beet transport, proximity analysis, sustainability, transport emissions, rapeseed methyl ester (RME)'"
            ]
          },
          "metadata": {
            "tags": []
          },
          "execution_count": 166
        }
      ]
    },
    {
      "cell_type": "code",
      "metadata": {
        "id": "Doe_HUamzmp-",
        "colab": {
          "base_uri": "https://localhost:8080/",
          "height": 54
        },
        "outputId": "b52fc560-07a9-48eb-b85e-41c49cab0c58"
      },
      "source": [
        "data['Keywords'][1]"
      ],
      "execution_count": null,
      "outputs": [
        {
          "output_type": "execute_result",
          "data": {
            "text/plain": [
              "'Broiler litter, Poultry litter, Decision support system, Comprehensive nutrient, management plan, Transportation analysis, Geographic information system'"
            ]
          },
          "metadata": {
            "tags": []
          },
          "execution_count": 167
        }
      ]
    },
    {
      "cell_type": "code",
      "metadata": {
        "id": "hCe1oiUoy9xL"
      },
      "source": [
        "data['Keywords']=data['Keywords'].map(lowalpha)\n",
        "#data['Keywords']=data['Keywords'].map(tex_to_main)\n",
        "data['Keywords']=data['Keywords'].map(remove_p)\n",
        "#data['Keywords']=data['Keywords'].map(only_text)"
      ],
      "execution_count": null,
      "outputs": []
    },
    {
      "cell_type": "code",
      "metadata": {
        "id": "A-wUChIpztdK",
        "colab": {
          "base_uri": "https://localhost:8080/",
          "height": 34
        },
        "outputId": "ab602e7c-59b6-44a9-cd4e-630d7a8209fd"
      },
      "source": [
        "data['Keywords'][0]"
      ],
      "execution_count": null,
      "outputs": [
        {
          "output_type": "execute_result",
          "data": {
            "text/plain": [
              "'sweden, sugar beet transport, proximity analysis, sustainability, transport emissions, rapeseed methyl ester '"
            ]
          },
          "metadata": {
            "tags": []
          },
          "execution_count": 169
        }
      ]
    },
    {
      "cell_type": "code",
      "metadata": {
        "id": "qESVmfCe0Hf2",
        "colab": {
          "base_uri": "https://localhost:8080/",
          "height": 54
        },
        "outputId": "a880e5b6-6f69-4f8a-8bf7-52b93b2745fc"
      },
      "source": [
        "data['Keywords'][1]"
      ],
      "execution_count": null,
      "outputs": [
        {
          "output_type": "execute_result",
          "data": {
            "text/plain": [
              "'broiler litter, poultry litter, decision support system, comprehensive nutrient, management plan, transportation analysis, geographic information system'"
            ]
          },
          "metadata": {
            "tags": []
          },
          "execution_count": 170
        }
      ]
    },
    {
      "cell_type": "code",
      "metadata": {
        "id": "JHbgnTVe0I7U",
        "colab": {
          "base_uri": "https://localhost:8080/",
          "height": 204
        },
        "outputId": "6654539c-9486-4163-d4c4-3d5eeec93242"
      },
      "source": [
        "data.head()"
      ],
      "execution_count": null,
      "outputs": [
        {
          "output_type": "execute_result",
          "data": {
            "text/html": [
              "<div>\n",
              "<style scoped>\n",
              "    .dataframe tbody tr th:only-of-type {\n",
              "        vertical-align: middle;\n",
              "    }\n",
              "\n",
              "    .dataframe tbody tr th {\n",
              "        vertical-align: top;\n",
              "    }\n",
              "\n",
              "    .dataframe thead th {\n",
              "        text-align: right;\n",
              "    }\n",
              "</style>\n",
              "<table border=\"1\" class=\"dataframe\">\n",
              "  <thead>\n",
              "    <tr style=\"text-align: right;\">\n",
              "      <th></th>\n",
              "      <th>Abstract</th>\n",
              "      <th>Year Published</th>\n",
              "      <th>Keywords</th>\n",
              "    </tr>\n",
              "  </thead>\n",
              "  <tbody>\n",
              "    <tr>\n",
              "      <th>0</th>\n",
              "      <td>Despite a heightened focus on sustainable tran...</td>\n",
              "      <td>2008</td>\n",
              "      <td>sweden, sugar beet transport, proximity analys...</td>\n",
              "    </tr>\n",
              "    <tr>\n",
              "      <th>1</th>\n",
              "      <td>Confined poultry (broiler) production in Alaba...</td>\n",
              "      <td>2008</td>\n",
              "      <td>broiler litter, poultry litter, decision suppo...</td>\n",
              "    </tr>\n",
              "    <tr>\n",
              "      <th>2</th>\n",
              "      <td>Extraction of short-wood from harvesting opera...</td>\n",
              "      <td>2008</td>\n",
              "      <td>russia, logging, cut-to-length, logistics, del...</td>\n",
              "    </tr>\n",
              "    <tr>\n",
              "      <th>3</th>\n",
              "      <td>TRANSASIST is an intelligent system for the ma...</td>\n",
              "      <td>2008</td>\n",
              "      <td>intelligent management system, urban transport...</td>\n",
              "    </tr>\n",
              "    <tr>\n",
              "      <th>4</th>\n",
              "      <td>Hazardous materials routing constitutes a crit...</td>\n",
              "      <td>2008</td>\n",
              "      <td>decision support systems, bi-objective routing...</td>\n",
              "    </tr>\n",
              "  </tbody>\n",
              "</table>\n",
              "</div>"
            ],
            "text/plain": [
              "                                            Abstract  ...                                           Keywords\n",
              "0  Despite a heightened focus on sustainable tran...  ...  sweden, sugar beet transport, proximity analys...\n",
              "1  Confined poultry (broiler) production in Alaba...  ...  broiler litter, poultry litter, decision suppo...\n",
              "2  Extraction of short-wood from harvesting opera...  ...  russia, logging, cut-to-length, logistics, del...\n",
              "3  TRANSASIST is an intelligent system for the ma...  ...  intelligent management system, urban transport...\n",
              "4  Hazardous materials routing constitutes a crit...  ...  decision support systems, bi-objective routing...\n",
              "\n",
              "[5 rows x 3 columns]"
            ]
          },
          "metadata": {
            "tags": []
          },
          "execution_count": 171
        }
      ]
    },
    {
      "cell_type": "code",
      "metadata": {
        "id": "nMhxE7Lf0s2V"
      },
      "source": [
        "li=[]\n",
        "for e in data['Keywords'][1].split(','):\n",
        "    li.append(e.strip())"
      ],
      "execution_count": null,
      "outputs": []
    },
    {
      "cell_type": "code",
      "metadata": {
        "id": "dUvPVSF11Ame",
        "colab": {
          "base_uri": "https://localhost:8080/",
          "height": 136
        },
        "outputId": "7ef2a461-59f1-43d1-fd9d-53944c2a115f"
      },
      "source": [
        "li"
      ],
      "execution_count": null,
      "outputs": [
        {
          "output_type": "execute_result",
          "data": {
            "text/plain": [
              "['broiler litter',\n",
              " 'poultry litter',\n",
              " 'decision support system',\n",
              " 'comprehensive nutrient',\n",
              " 'management plan',\n",
              " 'transportation analysis',\n",
              " 'geographic information system']"
            ]
          },
          "metadata": {
            "tags": []
          },
          "execution_count": 173
        }
      ]
    },
    {
      "cell_type": "code",
      "metadata": {
        "id": "05NVNeir1Bez"
      },
      "source": [
        "words=[]\n",
        "for sent in data['Keywords']:\n",
        "    for w in sent.split(','):\n",
        "        words.append(w.strip())"
      ],
      "execution_count": null,
      "outputs": []
    },
    {
      "cell_type": "code",
      "metadata": {
        "id": "SKyN1EyJ2FPo",
        "colab": {
          "base_uri": "https://localhost:8080/",
          "height": 34
        },
        "outputId": "6e2dbc3b-0176-47c0-dfca-e9fe82e21c78"
      },
      "source": [
        "len(words)"
      ],
      "execution_count": null,
      "outputs": [
        {
          "output_type": "execute_result",
          "data": {
            "text/plain": [
              "7078"
            ]
          },
          "metadata": {
            "tags": []
          },
          "execution_count": 175
        }
      ]
    },
    {
      "cell_type": "code",
      "metadata": {
        "id": "GJzhhlsp2Kj_",
        "colab": {
          "base_uri": "https://localhost:8080/",
          "height": 1000
        },
        "outputId": "b81ab8b1-dd3a-4b1a-82f5-534f2bbbc266"
      },
      "source": [
        "words"
      ],
      "execution_count": null,
      "outputs": [
        {
          "output_type": "execute_result",
          "data": {
            "text/plain": [
              "['sweden',\n",
              " 'sugar beet transport',\n",
              " 'proximity analysis',\n",
              " 'sustainability',\n",
              " 'transport emissions',\n",
              " 'rapeseed methyl ester',\n",
              " 'broiler litter',\n",
              " 'poultry litter',\n",
              " 'decision support system',\n",
              " 'comprehensive nutrient',\n",
              " 'management plan',\n",
              " 'transportation analysis',\n",
              " 'geographic information system',\n",
              " 'russia',\n",
              " 'logging',\n",
              " 'cut-to-length',\n",
              " 'logistics',\n",
              " 'delivery plan',\n",
              " 'truck fleet',\n",
              " 'optimization',\n",
              " 'gis',\n",
              " 'mapinfo',\n",
              " 'intelligent management system',\n",
              " 'urban transport',\n",
              " 'wireless communication technologies',\n",
              " 'decision support systems',\n",
              " 'bi-objective routing and scheduling',\n",
              " 'emergency response service deployment',\n",
              " 'hazardous materials',\n",
              " 'road traffic',\n",
              " 'co2 emissions',\n",
              " 'modelling',\n",
              " 'saturn',\n",
              " 'matlab',\n",
              " 'arcgis',\n",
              " 'norwich',\n",
              " 'neighborhood type',\n",
              " 'clustering',\n",
              " 'gis',\n",
              " 'ctpp',\n",
              " 'nhts',\n",
              " 'anova',\n",
              " 'hierarchical model',\n",
              " 'physical activity',\n",
              " 'walking',\n",
              " 'biking',\n",
              " 'spatial distribution',\n",
              " 'international roughness index',\n",
              " 'national highways',\n",
              " 'pavement width',\n",
              " 'gis',\n",
              " '2-lane rural highways',\n",
              " 'operating speed',\n",
              " 'consistency',\n",
              " 'transportation',\n",
              " 'model',\n",
              " 'cellular automaton model',\n",
              " 'planning support system',\n",
              " 'san francisco',\n",
              " 'california',\n",
              " '2nd generation',\n",
              " 'scenario',\n",
              " 'growth',\n",
              " 'area',\n",
              " 'bay',\n",
              " 'gis',\n",
              " 'hedonic prices',\n",
              " 'noise assessment',\n",
              " 'real estate market',\n",
              " 'barcelona',\n",
              " 'municipal solid waste generation',\n",
              " 'waste bins location',\n",
              " 'waste bins allocation',\n",
              " 'waste collection',\n",
              " 'routing',\n",
              " 'modelling',\n",
              " 'geographical information system',\n",
              " 'wmr 1112-1',\n",
              " 'gis-t',\n",
              " 'vehicle tracking',\n",
              " 'global positioning system',\n",
              " 'spatio-temporal query processing',\n",
              " 'forest functions',\n",
              " 'wood-harvesting',\n",
              " 'forest roads',\n",
              " 'geographical information system',\n",
              " 'environmental impact assessment',\n",
              " 'hazardous materials',\n",
              " 'risk criteria',\n",
              " 'routing',\n",
              " 'optimisation',\n",
              " 'transportation',\n",
              " 'bus transit costs',\n",
              " 'cost function',\n",
              " 'geographical factors',\n",
              " 'gis',\n",
              " 'scale economics',\n",
              " 'vehicle routing',\n",
              " 'spatial decision support systems',\n",
              " 'geographical information systems',\n",
              " 'heuristics',\n",
              " 'environmental impacts',\n",
              " 'transport',\n",
              " 'land-use',\n",
              " 'emission',\n",
              " 'gis',\n",
              " 'remote sensing',\n",
              " 'nuclear',\n",
              " 'route',\n",
              " 'geographic information system',\n",
              " 'multi-objective',\n",
              " 'trip distribution models',\n",
              " 'gis',\n",
              " 'loch lomond and trossachs national park',\n",
              " 'scotland',\n",
              " 'itinerary mapping',\n",
              " 'car',\n",
              " 'physical activity',\n",
              " 'british cities',\n",
              " 'retail',\n",
              " 'access',\n",
              " 'obesity',\n",
              " 'neighborhoods',\n",
              " 'availability',\n",
              " 'deprivation',\n",
              " 'disparities',\n",
              " 'environment',\n",
              " 'physical activity levels',\n",
              " 'urban form',\n",
              " 'active transportation',\n",
              " 'children',\n",
              " 'walking',\n",
              " 'environment',\n",
              " 'prevalence',\n",
              " 'health',\n",
              " 'distance',\n",
              " 'travel',\n",
              " 'airborne lidar',\n",
              " 'light detection',\n",
              " 'accuracy',\n",
              " 'location',\n",
              " 'global positioning system',\n",
              " 'floating car data',\n",
              " 'map-matching',\n",
              " 'webgis',\n",
              " 'gis',\n",
              " 'public participation',\n",
              " 'web',\n",
              " 'transportation',\n",
              " 'gis',\n",
              " 'urban design',\n",
              " 'transport-related physical activity',\n",
              " 'tourist dispersal',\n",
              " 'multiple destination travel',\n",
              " 'tourism geographic information system',\n",
              " 'length of stay',\n",
              " 'secondary organic aerosol',\n",
              " 'molecular constituents',\n",
              " 'pollution',\n",
              " 'model',\n",
              " 'transportation',\n",
              " 'california',\n",
              " 'health',\n",
              " 'elderly people',\n",
              " 'walking',\n",
              " 'neighbourhood',\n",
              " 'physical environment',\n",
              " 'pedestrians',\n",
              " 'route choice',\n",
              " 'active transport',\n",
              " 'information technology',\n",
              " 'roads',\n",
              " 'highways',\n",
              " 'transport management',\n",
              " 'fluvial geomorphology',\n",
              " 'landscape ecology',\n",
              " 'floodplains',\n",
              " 'roads',\n",
              " 'railroads',\n",
              " 'lateral connectivity',\n",
              " 'forest roads',\n",
              " 'road evaluation',\n",
              " 'road classification',\n",
              " 'road evaluation form',\n",
              " 'ahp',\n",
              " 'self-reported health',\n",
              " 'long-term exposure',\n",
              " 'blood pressure',\n",
              " 'air-pollution',\n",
              " 'population',\n",
              " 'annoyance',\n",
              " 'model',\n",
              " 'risk',\n",
              " 'evidence theory',\n",
              " 'gis-t map',\n",
              " 'information fusion',\n",
              " 'kalman filter',\n",
              " 'loop detector',\n",
              " 'map matching',\n",
              " 'probe vehicle',\n",
              " 'traffic state estimation',\n",
              " 'traffic wave theory',\n",
              " 'built environment',\n",
              " 'perceived environment',\n",
              " 'active living',\n",
              " 'physical activity',\n",
              " 'taz',\n",
              " 'transportation planning studies',\n",
              " 'transportation demand models',\n",
              " 'gis',\n",
              " 'banff national park',\n",
              " 'data collection',\n",
              " 'mortality',\n",
              " 'road ecology',\n",
              " 'spatial accuracy',\n",
              " 'ungulate',\n",
              " 'variable selection',\n",
              " 'wildlife-vehicle collision',\n",
              " 'conservation',\n",
              " 'maintenance & inspection',\n",
              " 'roads & highways',\n",
              " 'data envelopment analysis',\n",
              " 'gis',\n",
              " 'transit bus lines',\n",
              " 'transportation modeling',\n",
              " 'spatial aggregation',\n",
              " 'gravity models',\n",
              " 'algorithms',\n",
              " 'impacts',\n",
              " 'scale',\n",
              " 'greenbelts',\n",
              " 'multi-criteria analysis',\n",
              " 'urban infill',\n",
              " 'toronto',\n",
              " 'balcones canyonlands',\n",
              " 'california',\n",
              " 'conservation planning',\n",
              " 'greenprint',\n",
              " 'marxan',\n",
              " 'regional mitigation assessment',\n",
              " 'transportation planning',\n",
              " 'traffic assessment',\n",
              " 'land-use',\n",
              " 'accessibility',\n",
              " 'transportation efficiency',\n",
              " 'neural network',\n",
              " 'ahp',\n",
              " 'ageing',\n",
              " 'demography',\n",
              " 'fertility',\n",
              " 'mapobjects',\n",
              " 'simulation',\n",
              " 'travel demand',\n",
              " 'hamilton',\n",
              " 'integrated msw management',\n",
              " 'energy recovery',\n",
              " 'combined heat and power',\n",
              " 'seawater desalination',\n",
              " 'vehicle routing',\n",
              " 'multiscale database',\n",
              " 'aggregate impacts',\n",
              " 'cumulative mitigation obligations',\n",
              " 'road construction',\n",
              " 'listed species',\n",
              " 'impacted habitats',\n",
              " 'geographic information system',\n",
              " 'chronic respiratory symptoms',\n",
              " 'air pollution',\n",
              " 'traffic density',\n",
              " 'environmental exposure',\n",
              " 'busy roads',\n",
              " 'children',\n",
              " 'proximity',\n",
              " 'association',\n",
              " 'california',\n",
              " 'transportation',\n",
              " 'gis',\n",
              " 'geo spatial',\n",
              " 'highway',\n",
              " 'geodetic data',\n",
              " 'community-based research',\n",
              " 'environment',\n",
              " 'health promotion',\n",
              " 'physical activity',\n",
              " 'recreation',\n",
              " 'residential location',\n",
              " 'travel mode choice',\n",
              " 'employment suburbanisation',\n",
              " 'discrete choice analysis',\n",
              " 'geographic information systems',\n",
              " 'litter transportation',\n",
              " 'fertilizer',\n",
              " 'nutrients',\n",
              " 'standards',\n",
              " 'farms',\n",
              " 'walkability',\n",
              " 'walkable area',\n",
              " 'physical activity',\n",
              " 'gis',\n",
              " 'built environment',\n",
              " 'awareness',\n",
              " 'distribution',\n",
              " 'invasibility',\n",
              " 'landscape',\n",
              " 'mapping',\n",
              " 'monitoring',\n",
              " 'roads',\n",
              " 'transportation corridor',\n",
              " 'gis',\n",
              " 'its',\n",
              " 'route planning system',\n",
              " 'ahp',\n",
              " 'multi-criteria decision making technique',\n",
              " 'personalization',\n",
              " 'user model',\n",
              " 'context model',\n",
              " 'ontology',\n",
              " 'semantic web',\n",
              " 'gis',\n",
              " 'biomass',\n",
              " 'bioenergy plant',\n",
              " 'optimal location',\n",
              " 'mapping',\n",
              " 'solid waste management',\n",
              " 'target recycling rates',\n",
              " 'curbside collection',\n",
              " 'vehicle',\n",
              " 'simulation',\n",
              " 'system',\n",
              " 'recyclables',\n",
              " 'disposal',\n",
              " 'time',\n",
              " 'urban growth',\n",
              " 'land-use scenarios',\n",
              " 'air quality modeling',\n",
              " 'transportation modeling',\n",
              " 'emissions modeling',\n",
              " 'distance constrained vehicle routing problem',\n",
              " 'decision support systems',\n",
              " 'evolutionary algorithms',\n",
              " 'memetic algorithms',\n",
              " 'noise pollution',\n",
              " 'noise exposure',\n",
              " 'noise and health',\n",
              " 'noise abatement',\n",
              " 'gis',\n",
              " 'traffic management',\n",
              " 'dublin',\n",
              " 'geographical information systems',\n",
              " 'co trade',\n",
              " 'emission reduction',\n",
              " 'intelligent transport',\n",
              " 'forest management',\n",
              " 'household travel survey',\n",
              " 'gps technology',\n",
              " 'gis technology',\n",
              " 'travel mode detection',\n",
              " 'trip purpose identification',\n",
              " 'landscape',\n",
              " 'environmental impact assessment-handbooks',\n",
              " 'ecology',\n",
              " 'planning process',\n",
              " 'planning practice',\n",
              " 'time geography',\n",
              " 'accessibility',\n",
              " 'geographical information science',\n",
              " 'geographical information system',\n",
              " 'open source software',\n",
              " 'google map api',\n",
              " 'landslide',\n",
              " 'spatial probability',\n",
              " 'temporal probability',\n",
              " 'magnitude probability',\n",
              " 'validation',\n",
              " 'nilgiri hill',\n",
              " 'obstructive pulmonary-disease',\n",
              " 'incident case-control',\n",
              " 'air-pollution',\n",
              " 'vehicle exhaust',\n",
              " 'onset asthma',\n",
              " 'home',\n",
              " 'sweden',\n",
              " 'health',\n",
              " 'hov lane',\n",
              " 'access',\n",
              " 'gis',\n",
              " 'hov mode choice',\n",
              " 'welfare reform',\n",
              " 'public transportation',\n",
              " 'ethnography',\n",
              " 'travel diaries',\n",
              " 'gis',\n",
              " 'reliability',\n",
              " 'congestion',\n",
              " 'recurring',\n",
              " 'nonrecurring',\n",
              " 'travel time',\n",
              " 'crash',\n",
              " 'sensitivity',\n",
              " 'gis',\n",
              " 'transportation',\n",
              " 'multimodal',\n",
              " 'shortest path',\n",
              " 'dioid',\n",
              " 'fuzzy cost',\n",
              " 'graph',\n",
              " 'gis',\n",
              " 'food environment',\n",
              " 'food desert',\n",
              " 'spatial accessibility',\n",
              " 'gis',\n",
              " 'choropleth maps',\n",
              " 'spatial distributions',\n",
              " 'dasymetric mapping',\n",
              " 'multi-layer multi-class dasymetric',\n",
              " 'gis',\n",
              " 'ahp',\n",
              " 'multi-dimensional cost model',\n",
              " 'route finding analysis',\n",
              " 'walking for transport',\n",
              " 'land use mix',\n",
              " 'gis',\n",
              " 'entropy',\n",
              " 'physical activity',\n",
              " 'geometric alignment of highway and railway track',\n",
              " 'error',\n",
              " 'parameter estimation',\n",
              " 'least squares adjustment',\n",
              " 'traffic incident-detection',\n",
              " 'neural-network model',\n",
              " 'work zone capacity',\n",
              " 'high-speed train',\n",
              " 'decision-support methodology',\n",
              " 'accessibility approach',\n",
              " 'feature-extraction',\n",
              " 'cost optimization',\n",
              " 'madrid-barcelona',\n",
              " 'wavelet',\n",
              " 'intermodal transport',\n",
              " 'fuel price',\n",
              " 'external costs',\n",
              " 'location analysis',\n",
              " 'gis network model',\n",
              " 'hazardous waste',\n",
              " 'real-time management',\n",
              " 'cost optimization',\n",
              " 'geographic information system',\n",
              " 'telematics',\n",
              " 'physical activity',\n",
              " 'adolescents',\n",
              " 'gis',\n",
              " 'walking',\n",
              " 'school',\n",
              " 'environment',\n",
              " 'neighborhood',\n",
              " 'gis-t',\n",
              " 'dynamic segmentation',\n",
              " 'change type',\n",
              " 'recursive algorithm',\n",
              " 'time stamp',\n",
              " 'noise',\n",
              " 'simulation',\n",
              " 'gis',\n",
              " 'point and mobile source',\n",
              " 'participation gis',\n",
              " 'growth management',\n",
              " 'decision-making',\n",
              " 'government',\n",
              " 'community',\n",
              " 'systems',\n",
              " 'forest operations',\n",
              " 'forest transportation network',\n",
              " 'forest woodchips',\n",
              " 'gis',\n",
              " 'italy',\n",
              " 'environment',\n",
              " 'residence characteristics',\n",
              " 'walking',\n",
              " 'principal component analysis',\n",
              " 'research design',\n",
              " 'prevention research',\n",
              " 'measured physical-activity',\n",
              " 'older-adults',\n",
              " 'urban form',\n",
              " 'neighborhood environment',\n",
              " 'walking activity',\n",
              " 'us adults',\n",
              " 'proximity',\n",
              " 'features',\n",
              " 'disease outbreak management',\n",
              " 'transportation management',\n",
              " 'veterinary disease information systems',\n",
              " 'vehicle-routing problem',\n",
              " 'search',\n",
              " 'algorithms',\n",
              " 'delivery',\n",
              " 'cost',\n",
              " 'vehicle routing problem',\n",
              " 'search',\n",
              " 'algorithms',\n",
              " 'delivery',\n",
              " 'cost',\n",
              " 'air-pollution',\n",
              " 'particulate matter',\n",
              " 'exposure',\n",
              " 'pm2.5',\n",
              " 'variability',\n",
              " 'outdoor',\n",
              " 'design',\n",
              " 'health',\n",
              " 'massachusetts',\n",
              " 'environment',\n",
              " 'hazardous substance',\n",
              " 'transport',\n",
              " 'risk assessment',\n",
              " 'safety',\n",
              " 'land use planning',\n",
              " 'pavement maintenance',\n",
              " 'roadside slope maintenance',\n",
              " 'gis',\n",
              " 'integrated maintenance approach',\n",
              " 'mountainous region',\n",
              " 'repair policies',\n",
              " 'management',\n",
              " 'transportation',\n",
              " 'system',\n",
              " 'evacuation planning',\n",
              " 'transportation network design',\n",
              " 'lagrangian relaxation',\n",
              " 'tabu search',\n",
              " 'dynamic traffic assignment',\n",
              " 'cell transmission',\n",
              " 'decision-support-system',\n",
              " 'cell transmission model',\n",
              " 'emergency evacuation',\n",
              " 'transportation',\n",
              " 'city',\n",
              " 'plans',\n",
              " 'gis',\n",
              " 'geographic information systems',\n",
              " 'bicycle planning',\n",
              " 'multi-criteria analysis',\n",
              " 'sustainable transportation',\n",
              " 'transportation',\n",
              " 'models',\n",
              " 'crime',\n",
              " 'urban public safety',\n",
              " 'critical cluster model',\n",
              " 'hazard installation',\n",
              " 'traffic evacuation risk',\n",
              " 'geographical information system',\n",
              " 'computational models',\n",
              " 'gis',\n",
              " 'noise maps',\n",
              " 'traffic noise',\n",
              " 'urban noise prediction',\n",
              " 'pavement management',\n",
              " 'data mining',\n",
              " 'gis',\n",
              " 'pavement distress',\n",
              " 'physical-activity',\n",
              " 'urban form',\n",
              " 'travel mode',\n",
              " 'youth',\n",
              " 'determinants',\n",
              " 'framework',\n",
              " 'walking',\n",
              " 'fast track',\n",
              " 'gis',\n",
              " 'roads',\n",
              " 'route planning',\n",
              " 'sugarcane',\n",
              " 'transport',\n",
              " 'urban transport',\n",
              " 'gis',\n",
              " 'welfare reform',\n",
              " 'working poor',\n",
              " 'travel diary',\n",
              " 'ethnography',\n",
              " 'tuberculosis',\n",
              " 'incidence',\n",
              " 'gis',\n",
              " 'surveillance',\n",
              " 'tb control',\n",
              " 'public transportation',\n",
              " 'disaster relief',\n",
              " 'hurricanes',\n",
              " 'networks',\n",
              " 'transportation',\n",
              " 'computation',\n",
              " 'simulation',\n",
              " 'gis',\n",
              " 'hazmat',\n",
              " 'loss of containment',\n",
              " 'worst-case scenarios',\n",
              " 'toxic endpoints',\n",
              " 'impact zones',\n",
              " 'transportation noise',\n",
              " 'air pollution',\n",
              " 'impact',\n",
              " 'areas',\n",
              " 'age group',\n",
              " 'exposure-response relationship',\n",
              " 'hypertension',\n",
              " 'pregnant women',\n",
              " 'road traffic noise',\n",
              " 'physical activity',\n",
              " 'built environment',\n",
              " 'travel patterns',\n",
              " 'peach project',\n",
              " 'gps',\n",
              " 'gis',\n",
              " 'location',\n",
              " 'school',\n",
              " 'transportation',\n",
              " 'adolescents',\n",
              " 'versioning',\n",
              " 'network models',\n",
              " 'transportation networks',\n",
              " 'connectivity',\n",
              " 'transportation education and training',\n",
              " 'transportation engineering',\n",
              " 'traffic safety',\n",
              " 'crash data',\n",
              " 'geographic information systems',\n",
              " 'exposure',\n",
              " 'health',\n",
              " 'areas',\n",
              " 'risk',\n",
              " 'denl',\n",
              " 'urban public facilities',\n",
              " 'spatial equity',\n",
              " 'mobility',\n",
              " 'accessibility',\n",
              " 'measuring accessibility',\n",
              " 'metropolitan-areas',\n",
              " 'united-states',\n",
              " 'services',\n",
              " 'access',\n",
              " 'transportation',\n",
              " 'playgrounds',\n",
              " 'employment',\n",
              " 'location',\n",
              " 'workers',\n",
              " 'gis',\n",
              " 'biomass',\n",
              " 'biofuel',\n",
              " 'transportation cost',\n",
              " 'optimal facility location',\n",
              " 'route planning',\n",
              " 'sensitivity analysis',\n",
              " 'gis',\n",
              " 'ahp',\n",
              " 'road network',\n",
              " 'impedance model',\n",
              " 'analytic hierarchy process',\n",
              " 'sensitivity-analysis',\n",
              " 'decision-making',\n",
              " 'transportation',\n",
              " 'uncertainty',\n",
              " 'systems',\n",
              " 'model',\n",
              " 'eco-friendly walk score calculator',\n",
              " 'shortest or greenest route',\n",
              " 'neighbourhood environmental quality assessment',\n",
              " 'advanced land observing satellite',\n",
              " 'geographic information-systems',\n",
              " 'measuring accessibility',\n",
              " 'health',\n",
              " 'transportation',\n",
              " 'attributes',\n",
              " 'gis',\n",
              " 'mixed-use development',\n",
              " 'trip generation',\n",
              " 'internal capture',\n",
              " 'traffic impact assessment',\n",
              " 'land-use',\n",
              " 'travel demand',\n",
              " 'design',\n",
              " 'compromise programming',\n",
              " 'dangerous goods',\n",
              " 'gis',\n",
              " 'multi-objective route planning',\n",
              " 'hazardous materials transport',\n",
              " 'criteria decision-making',\n",
              " 'network design',\n",
              " 'risk',\n",
              " 'gis',\n",
              " 'optimization',\n",
              " 'framework',\n",
              " 'wastes',\n",
              " 'environmental justice',\n",
              " 'context sensitive solution',\n",
              " 'socioeconomics',\n",
              " 'protected populations',\n",
              " 'highway planning',\n",
              " 'highway alignment optimization',\n",
              " 'environmental justice',\n",
              " 'transportation',\n",
              " 'risk assessment',\n",
              " 'railroad transport',\n",
              " 'dangerous goods',\n",
              " 'conditional probability',\n",
              " 'air dispersion models',\n",
              " 'hazardous materials transport',\n",
              " 'distributions',\n",
              " 'shipments',\n",
              " 'framework',\n",
              " 'networks',\n",
              " 'poisson',\n",
              " 'wastes',\n",
              " 'equity',\n",
              " 'gis',\n",
              " 'logging residue',\n",
              " 'forest chip',\n",
              " 'energy wood bundle',\n",
              " 'railway transportation',\n",
              " 'fuel terminal',\n",
              " 'supply chain',\n",
              " 'breast cancer',\n",
              " 'mammography',\n",
              " 'geographic information systems',\n",
              " 'social disadvantage',\n",
              " 'healthcare access',\n",
              " 'breast-cancer-treatment',\n",
              " 'united-states',\n",
              " 'screening mammography',\n",
              " 'travel distance',\n",
              " 'preventive services',\n",
              " 'women',\n",
              " 'access',\n",
              " 'disparities',\n",
              " 'population',\n",
              " 'stage',\n",
              " 'transportation',\n",
              " 'greenhouse gas',\n",
              " 'ipcc',\n",
              " 'emission method',\n",
              " 'traffic volume',\n",
              " 'hazmat',\n",
              " 'risk',\n",
              " 'loss of containment',\n",
              " 'bleve',\n",
              " 'population density',\n",
              " 'consequence assessment',\n",
              " 'meet calves',\n",
              " 'transportation',\n",
              " 'gis',\n",
              " 'belgium',\n",
              " 'exercise',\n",
              " 'accelerometers',\n",
              " 'gis',\n",
              " 'physical environment',\n",
              " 'built environment',\n",
              " 'activity questionnaire',\n",
              " 'computer-science',\n",
              " 'behavior',\n",
              " 'validity',\n",
              " 'walking',\n",
              " 'choice',\n",
              " 'cycling',\n",
              " 'traffic',\n",
              " 'gis',\n",
              " 'physical-activity',\n",
              " 'environment',\n",
              " 'adults',\n",
              " 'associations',\n",
              " 'transport',\n",
              " 'angioplasty',\n",
              " 'carbon',\n",
              " 'dioxide',\n",
              " 'emissions',\n",
              " 'environmental',\n",
              " 'gis',\n",
              " 'infarction',\n",
              " 'myocardial',\n",
              " 'patient',\n",
              " 'travel',\n",
              " 'st-segment elevation',\n",
              " 'climate-change',\n",
              " 'reperfusion',\n",
              " 'management',\n",
              " 'therapy',\n",
              " 'trials',\n",
              " 'stemi',\n",
              " 'cost',\n",
              " 'street connectivity',\n",
              " 'pedestrian movement',\n",
              " 'atlanta',\n",
              " 'land use',\n",
              " 'urban form',\n",
              " 'physical-activity',\n",
              " 'active transportation',\n",
              " 'space syntax',\n",
              " 'neighborhood',\n",
              " 'design',\n",
              " 'travel',\n",
              " 'angularity',\n",
              " 'community',\n",
              " 'cognition',\n",
              " 'spatial accessibility',\n",
              " 'british cities',\n",
              " 'retail access',\n",
              " 'deserts',\n",
              " 'affordability',\n",
              " 'environments',\n",
              " 'disparities',\n",
              " 'edmonton',\n",
              " 'context',\n",
              " 'canada',\n",
              " 'urban form',\n",
              " 'traffic volume',\n",
              " 'traffic noise',\n",
              " 'gis',\n",
              " 'geographical information system',\n",
              " 'pollution',\n",
              " 'gis',\n",
              " 'environment',\n",
              " 'prediction',\n",
              " 'dynamics',\n",
              " 'area',\n",
              " 'physical-activity',\n",
              " 'urban form',\n",
              " 'future-research',\n",
              " 'travel mode',\n",
              " 'land-use',\n",
              " 'neighborhood',\n",
              " 'walking',\n",
              " 'youth',\n",
              " 'health',\n",
              " 'associations',\n",
              " 'geographic information systems',\n",
              " 'citizen participation',\n",
              " 'decision-making',\n",
              " 'open spaces',\n",
              " 'gis',\n",
              " 'experience',\n",
              " 'landscape',\n",
              " 'future',\n",
              " 'communities',\n",
              " 'politics',\n",
              " 'subjective health',\n",
              " 'sleep disturbance',\n",
              " 'environmental noise',\n",
              " 'road traffic noise',\n",
              " 'railway noise',\n",
              " 'exposure-response relationship',\n",
              " 'ischemic-heart-disease',\n",
              " 'self-reported health',\n",
              " 'environmental noise',\n",
              " 'aircraft noise',\n",
              " 'annoyance',\n",
              " 'sensitivity',\n",
              " 'sleep',\n",
              " 'accessibility mapping',\n",
              " 'floating car data',\n",
              " 'dynamic',\n",
              " 'points of interest',\n",
              " 'density estimation',\n",
              " 'gis',\n",
              " 'transport',\n",
              " 'systems',\n",
              " 'time geography',\n",
              " 'space-time gis',\n",
              " 'activity diary data',\n",
              " 'geographical information-systems',\n",
              " 'individual accessibility',\n",
              " 'activity participation',\n",
              " 'patterns',\n",
              " 'framework',\n",
              " 'distance',\n",
              " 'behavior',\n",
              " 'toolkit',\n",
              " 'gender',\n",
              " 'access',\n",
              " 'gis',\n",
              " '3d representation',\n",
              " 'network analysis',\n",
              " '3d city',\n",
              " 'data model',\n",
              " 'environments',\n",
              " 'gis',\n",
              " 'neighborhoods',\n",
              " 'physical activity',\n",
              " 'sweden',\n",
              " 'walking',\n",
              " 'coronary-heart-disease',\n",
              " 'health',\n",
              " 'adults',\n",
              " 'associations',\n",
              " 'accelerometers',\n",
              " 'environment',\n",
              " 'mortality',\n",
              " 'spatial and temporal dependence',\n",
              " 'distance effects',\n",
              " 'house prices',\n",
              " 'spline regression',\n",
              " 'gis',\n",
              " 'residential property-values',\n",
              " 'hedonic prices',\n",
              " 'transportation infrastructure',\n",
              " 'impact',\n",
              " 'quality',\n",
              " 'demand',\n",
              " 'accessibility',\n",
              " 'appreciation',\n",
              " 'investments',\n",
              " 'submarkets',\n",
              " 'pallavapuram',\n",
              " 'municipal solid waste',\n",
              " 'waste collection',\n",
              " 'geographical information system',\n",
              " 'vehicle tracking system',\n",
              " 'transit-oriented development',\n",
              " 'overlay zoning patterns',\n",
              " 'light-rail transit',\n",
              " 'urban investment patterns',\n",
              " 'uneven development',\n",
              " 'regression analysis',\n",
              " 'land use',\n",
              " 'spatial data',\n",
              " 'urban area',\n",
              " 'municipal solid waste',\n",
              " 'decision support system',\n",
              " 'environmental issues',\n",
              " 'round wood',\n",
              " 'transport',\n",
              " 'fleet manager',\n",
              " 'gis',\n",
              " 'gps',\n",
              " 'active travel',\n",
              " 'walkability',\n",
              " 'urban form',\n",
              " 'gis',\n",
              " 'network distance',\n",
              " 'physical-activity',\n",
              " 'urban form',\n",
              " 'parental concerns',\n",
              " 'new-zealand',\n",
              " 'childhood',\n",
              " 'obesity',\n",
              " 'mode',\n",
              " 'neighborhood',\n",
              " 'environment',\n",
              " 'adolescents',\n",
              " 'traffic safety',\n",
              " 'urban form',\n",
              " 'urban design',\n",
              " 'community design',\n",
              " 'geographic information systems',\n",
              " 'motor-vehicle crashes',\n",
              " 'traffic safety',\n",
              " 'spatial-analysis',\n",
              " 'communities',\n",
              " 'community involvement',\n",
              " 'commuting travel',\n",
              " 'employment',\n",
              " 'health',\n",
              " 'health care',\n",
              " 'health problems',\n",
              " 'housing',\n",
              " 'housing conditions',\n",
              " 'neighborhood change',\n",
              " 'neighborhood characteristics',\n",
              " 'neighborhood conditions',\n",
              " 'neighbors',\n",
              " 'public opinion',\n",
              " 'public safety',\n",
              " 'public schools',\n",
              " 'public transportation',\n",
              " 'satisfaction',\n",
              " 'social networks',\n",
              " 'tax increases',\n",
              " 'transportation',\n",
              " 'ontario',\n",
              " 'herpetofauna',\n",
              " 'geographic information system tool',\n",
              " 'mitigation',\n",
              " 'prioritize',\n",
              " 'landscape',\n",
              " 'vehicle collisions',\n",
              " 'turtle populations',\n",
              " 'habitat',\n",
              " 'wildlife',\n",
              " 'conservation',\n",
              " 'amphibians',\n",
              " 'fragmentation',\n",
              " 'terrestrial',\n",
              " 'linkages',\n",
              " 'reptiles',\n",
              " 'spatial data',\n",
              " 'global positioning systems',\n",
              " 'intelligent transportation systems',\n",
              " 'map-matching algorithm',\n",
              " 'service accessibility',\n",
              " 'mortality',\n",
              " 'survival',\n",
              " 'cancer',\n",
              " 'diagnosis',\n",
              " 'registry',\n",
              " ...]"
            ]
          },
          "metadata": {
            "tags": []
          },
          "execution_count": 177
        }
      ]
    },
    {
      "cell_type": "code",
      "metadata": {
        "id": "48e4K0622Zac"
      },
      "source": [
        "a=['sweden',\n",
        " 'sugar beet transport',\n",
        " 'proximity analysis',\n",
        " 'sustainability',\n",
        " 'transport emissions',\n",
        " 'rapeseed methyl ester',\n",
        " 'broiler litter',\n",
        " 'poultry litter',\n",
        " 'decision support system',\n",
        " 'comprehensive nutrient',\n",
        " 'management plan',\n",
        " 'transportation analysis',\n",
        " 'geographic information system',\n",
        " 'russia',\n",
        " 'logging',\n",
        " 'cut-to-length',\n",
        " 'logistics',\n",
        " 'delivery plan',\n",
        " 'truck fleet',\n",
        " 'optimization',\n",
        " 'gis']"
      ],
      "execution_count": null,
      "outputs": []
    },
    {
      "cell_type": "code",
      "metadata": {
        "id": "aIPmwQe_41xe"
      },
      "source": [
        "for e in list(text_dic.keys()):\n",
        "    for n, i in enumerate(words):\n",
        "        if i == e:\n",
        "            words[n] =text_dic[e]"
      ],
      "execution_count": null,
      "outputs": []
    },
    {
      "cell_type": "code",
      "metadata": {
        "id": "ycd1qLBL5Qze"
      },
      "source": [
        "word_series=pd.Series(words).value_counts()\n",
        "word_df=pd.DataFrame(word_series.keys(),columns=['keyword'])\n",
        "word_df['freq']=word_series.values"
      ],
      "execution_count": null,
      "outputs": []
    },
    {
      "cell_type": "code",
      "metadata": {
        "id": "teIS4Ibg5RmY",
        "colab": {
          "base_uri": "https://localhost:8080/",
          "height": 979
        },
        "outputId": "86345e44-8f65-4ace-a98a-9a0fcb07579a"
      },
      "source": [
        "word_df.head(30)"
      ],
      "execution_count": null,
      "outputs": [
        {
          "output_type": "execute_result",
          "data": {
            "text/html": [
              "<div>\n",
              "<style scoped>\n",
              "    .dataframe tbody tr th:only-of-type {\n",
              "        vertical-align: middle;\n",
              "    }\n",
              "\n",
              "    .dataframe tbody tr th {\n",
              "        vertical-align: top;\n",
              "    }\n",
              "\n",
              "    .dataframe thead th {\n",
              "        text-align: right;\n",
              "    }\n",
              "</style>\n",
              "<table border=\"1\" class=\"dataframe\">\n",
              "  <thead>\n",
              "    <tr style=\"text-align: right;\">\n",
              "      <th></th>\n",
              "      <th>keyword</th>\n",
              "      <th>freq</th>\n",
              "    </tr>\n",
              "  </thead>\n",
              "  <tbody>\n",
              "    <tr>\n",
              "      <th>0</th>\n",
              "      <td>geographical information system</td>\n",
              "      <td>569</td>\n",
              "    </tr>\n",
              "    <tr>\n",
              "      <th>1</th>\n",
              "      <td>transportation</td>\n",
              "      <td>151</td>\n",
              "    </tr>\n",
              "    <tr>\n",
              "      <th>2</th>\n",
              "      <td>accessibility</td>\n",
              "      <td>83</td>\n",
              "    </tr>\n",
              "    <tr>\n",
              "      <th>3</th>\n",
              "      <td>walking</td>\n",
              "      <td>80</td>\n",
              "    </tr>\n",
              "    <tr>\n",
              "      <th>4</th>\n",
              "      <td>built environment</td>\n",
              "      <td>64</td>\n",
              "    </tr>\n",
              "    <tr>\n",
              "      <th>5</th>\n",
              "      <td>public transportation</td>\n",
              "      <td>45</td>\n",
              "    </tr>\n",
              "    <tr>\n",
              "      <th>6</th>\n",
              "      <td>land use</td>\n",
              "      <td>45</td>\n",
              "    </tr>\n",
              "    <tr>\n",
              "      <th>7</th>\n",
              "      <td>global positioning system</td>\n",
              "      <td>41</td>\n",
              "    </tr>\n",
              "    <tr>\n",
              "      <th>8</th>\n",
              "      <td>physical activity</td>\n",
              "      <td>40</td>\n",
              "    </tr>\n",
              "    <tr>\n",
              "      <th>9</th>\n",
              "      <td>active transportation</td>\n",
              "      <td>39</td>\n",
              "    </tr>\n",
              "    <tr>\n",
              "      <th>10</th>\n",
              "      <td>spatial analysis</td>\n",
              "      <td>36</td>\n",
              "    </tr>\n",
              "    <tr>\n",
              "      <th>11</th>\n",
              "      <td>model</td>\n",
              "      <td>34</td>\n",
              "    </tr>\n",
              "    <tr>\n",
              "      <th>12</th>\n",
              "      <td>network analysis</td>\n",
              "      <td>33</td>\n",
              "    </tr>\n",
              "    <tr>\n",
              "      <th>13</th>\n",
              "      <td>optimization</td>\n",
              "      <td>31</td>\n",
              "    </tr>\n",
              "    <tr>\n",
              "      <th>14</th>\n",
              "      <td>vehicle routing</td>\n",
              "      <td>30</td>\n",
              "    </tr>\n",
              "    <tr>\n",
              "      <th>15</th>\n",
              "      <td>analytic hierarchy process</td>\n",
              "      <td>29</td>\n",
              "    </tr>\n",
              "    <tr>\n",
              "      <th>16</th>\n",
              "      <td>network</td>\n",
              "      <td>28</td>\n",
              "    </tr>\n",
              "    <tr>\n",
              "      <th>17</th>\n",
              "      <td>urban form</td>\n",
              "      <td>28</td>\n",
              "    </tr>\n",
              "    <tr>\n",
              "      <th>18</th>\n",
              "      <td>health</td>\n",
              "      <td>27</td>\n",
              "    </tr>\n",
              "    <tr>\n",
              "      <th>19</th>\n",
              "      <td>hazardous materials</td>\n",
              "      <td>24</td>\n",
              "    </tr>\n",
              "    <tr>\n",
              "      <th>20</th>\n",
              "      <td>environment</td>\n",
              "      <td>24</td>\n",
              "    </tr>\n",
              "    <tr>\n",
              "      <th>21</th>\n",
              "      <td>physical activity</td>\n",
              "      <td>24</td>\n",
              "    </tr>\n",
              "    <tr>\n",
              "      <th>22</th>\n",
              "      <td>system</td>\n",
              "      <td>23</td>\n",
              "    </tr>\n",
              "    <tr>\n",
              "      <th>23</th>\n",
              "      <td>access</td>\n",
              "      <td>23</td>\n",
              "    </tr>\n",
              "    <tr>\n",
              "      <th>24</th>\n",
              "      <td>cycling</td>\n",
              "      <td>22</td>\n",
              "    </tr>\n",
              "    <tr>\n",
              "      <th>25</th>\n",
              "      <td>air pollution</td>\n",
              "      <td>21</td>\n",
              "    </tr>\n",
              "    <tr>\n",
              "      <th>26</th>\n",
              "      <td>travel</td>\n",
              "      <td>20</td>\n",
              "    </tr>\n",
              "    <tr>\n",
              "      <th>27</th>\n",
              "      <td>transportation network</td>\n",
              "      <td>20</td>\n",
              "    </tr>\n",
              "    <tr>\n",
              "      <th>28</th>\n",
              "      <td>road network</td>\n",
              "      <td>20</td>\n",
              "    </tr>\n",
              "    <tr>\n",
              "      <th>29</th>\n",
              "      <td>mobility</td>\n",
              "      <td>19</td>\n",
              "    </tr>\n",
              "  </tbody>\n",
              "</table>\n",
              "</div>"
            ],
            "text/plain": [
              "                            keyword  freq\n",
              "0   geographical information system   569\n",
              "1                    transportation   151\n",
              "2                     accessibility    83\n",
              "3                           walking    80\n",
              "4                 built environment    64\n",
              "5             public transportation    45\n",
              "6                          land use    45\n",
              "7         global positioning system    41\n",
              "8                 physical activity    40\n",
              "9             active transportation    39\n",
              "10                 spatial analysis    36\n",
              "11                            model    34\n",
              "12                 network analysis    33\n",
              "13                     optimization    31\n",
              "14                  vehicle routing    30\n",
              "15       analytic hierarchy process    29\n",
              "16                          network    28\n",
              "17                       urban form    28\n",
              "18                           health    27\n",
              "19              hazardous materials    24\n",
              "20                      environment    24\n",
              "21               physical activity     24\n",
              "22                           system    23\n",
              "23                           access    23\n",
              "24                          cycling    22\n",
              "25                    air pollution    21\n",
              "26                           travel    20\n",
              "27           transportation network    20\n",
              "28                     road network    20\n",
              "29                         mobility    19"
            ]
          },
          "metadata": {
            "tags": []
          },
          "execution_count": 197
        }
      ]
    },
    {
      "cell_type": "code",
      "metadata": {
        "id": "hTNJJa0_7D0t"
      },
      "source": [
        "word_df.to_excel('keywordsfrequency.xlsx')"
      ],
      "execution_count": null,
      "outputs": []
    },
    {
      "cell_type": "code",
      "metadata": {
        "id": "heaHyJas7bnm"
      },
      "source": [
        ""
      ],
      "execution_count": null,
      "outputs": []
    }
  ]
}