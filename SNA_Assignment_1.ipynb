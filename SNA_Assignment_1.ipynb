{
  "nbformat": 4,
  "nbformat_minor": 0,
  "metadata": {
    "colab": {
      "name": "teymooor.ipynb",
      "provenance": [],
      "collapsed_sections": []
    },
    "kernelspec": {
      "name": "python3",
      "display_name": "Python 3"
    },
    "accelerator": "TPU"
  },
  "cells": [
    {
      "cell_type": "code",
      "metadata": {
        "id": "ehIvlz3JC5vr",
        "colab": {
          "base_uri": "https://localhost:8080/",
          "height": 72
        },
        "outputId": "e8ffbd92-ce5b-4274-8449-57512189396e"
      },
      "source": [
        "!pip install networkx\n",
        "!pip install numpy"
      ],
      "execution_count": null,
      "outputs": [
        {
          "output_type": "stream",
          "text": [
            "Requirement already satisfied: networkx in /usr/local/lib/python3.6/dist-packages (2.3)\n",
            "Requirement already satisfied: decorator>=4.3.0 in /usr/local/lib/python3.6/dist-packages (from networkx) (4.4.0)\n",
            "Requirement already satisfied: numpy in /usr/local/lib/python3.6/dist-packages (1.16.3)\n"
          ],
          "name": "stdout"
        }
      ]
    },
    {
      "cell_type": "code",
      "metadata": {
        "id": "YT4AChZvDJD5"
      },
      "source": [
        "import networkx as nx\n",
        "import numpy as np\n",
        "from sklearn import tree\n",
        "from sklearn.metrics import accuracy_score,f1_score,confusion_matrix,classification_report\n",
        "from keras.models import Sequential\n",
        "from keras.layers import Dense"
      ],
      "execution_count": null,
      "outputs": []
    },
    {
      "cell_type": "code",
      "metadata": {
        "id": "PjoPgsKoDjfz"
      },
      "source": [
        "np.random.seed(5)\n",
        "\n",
        "G = nx.karate_club_graph()\n",
        "s = nx.to_numpy_matrix(G) # adjacency matrix of G\n",
        "edge_list = []\n",
        "for i in range(34):\n",
        "    for j in range(34):\n",
        "        if (i != j) & (j > i) :\n",
        "            edge_list.extend([[i, j, s[i,j]]])\n",
        "edge = np.asarray(edge_list) # convert list to 2-d array"
      ],
      "execution_count": null,
      "outputs": []
    },
    {
      "cell_type": "code",
      "metadata": {
        "id": "6KK3wk_Djx9U",
        "colab": {
          "base_uri": "https://localhost:8080/",
          "height": 55
        },
        "outputId": "8b7e5fa0-a2b7-4013-ebfb-0acdc5c1c88d"
      },
      "source": [
        "G.edges"
      ],
      "execution_count": null,
      "outputs": [
        {
          "output_type": "execute_result",
          "data": {
            "text/plain": [
              "EdgeView([(0, 1), (0, 2), (0, 3), (0, 4), (0, 5), (0, 6), (0, 7), (0, 8), (0, 10), (0, 11), (0, 12), (0, 13), (0, 17), (0, 19), (0, 21), (0, 31), (1, 2), (1, 3), (1, 7), (1, 13), (1, 17), (1, 19), (1, 21), (1, 30), (2, 3), (2, 7), (2, 8), (2, 9), (2, 13), (2, 27), (2, 28), (2, 32), (3, 7), (3, 12), (3, 13), (4, 6), (4, 10), (5, 6), (5, 10), (5, 16), (6, 16), (8, 30), (8, 32), (8, 33), (9, 33), (13, 33), (14, 32), (14, 33), (15, 32), (15, 33), (18, 32), (18, 33), (19, 33), (20, 32), (20, 33), (22, 32), (22, 33), (23, 25), (23, 27), (23, 29), (23, 32), (23, 33), (24, 25), (24, 27), (24, 31), (25, 31), (26, 29), (26, 33), (27, 33), (28, 31), (28, 33), (29, 32), (29, 33), (30, 32), (30, 33), (31, 32), (31, 33), (32, 33)])"
            ]
          },
          "metadata": {
            "tags": []
          },
          "execution_count": 3
        }
      ]
    },
    {
      "cell_type": "code",
      "metadata": {
        "id": "jHcyScqQjLE9",
        "colab": {
          "base_uri": "https://localhost:8080/",
          "height": 35
        },
        "outputId": "cae08723-7d06-456b-b4b1-aaf882a5a3f5"
      },
      "source": [
        "np.shape(s)"
      ],
      "execution_count": null,
      "outputs": [
        {
          "output_type": "execute_result",
          "data": {
            "text/plain": [
              "(34, 34)"
            ]
          },
          "metadata": {
            "tags": []
          },
          "execution_count": 17
        }
      ]
    },
    {
      "cell_type": "code",
      "metadata": {
        "id": "J0w9skU_jmDc",
        "colab": {
          "base_uri": "https://localhost:8080/",
          "height": 146
        },
        "outputId": "070b4015-aa8b-4421-c940-527605371a0f"
      },
      "source": [
        "s"
      ],
      "execution_count": null,
      "outputs": [
        {
          "output_type": "execute_result",
          "data": {
            "text/plain": [
              "matrix([[0., 1., 1., ..., 1., 0., 0.],\n",
              "        [1., 0., 1., ..., 0., 0., 0.],\n",
              "        [1., 1., 0., ..., 0., 1., 0.],\n",
              "        ...,\n",
              "        [1., 0., 0., ..., 0., 1., 1.],\n",
              "        [0., 0., 1., ..., 1., 0., 1.],\n",
              "        [0., 0., 0., ..., 1., 1., 0.]])"
            ]
          },
          "metadata": {
            "tags": []
          },
          "execution_count": 18
        }
      ]
    },
    {
      "cell_type": "code",
      "metadata": {
        "id": "FfXkn_FtmO97",
        "colab": {
          "base_uri": "https://localhost:8080/",
          "height": 35
        },
        "outputId": "f53ad984-a254-43fd-b526-8c4a576a31f6"
      },
      "source": [
        "np.shape(edge)"
      ],
      "execution_count": null,
      "outputs": [
        {
          "output_type": "execute_result",
          "data": {
            "text/plain": [
              "(561, 3)"
            ]
          },
          "metadata": {
            "tags": []
          },
          "execution_count": 9
        }
      ]
    },
    {
      "cell_type": "code",
      "metadata": {
        "id": "nB0HbE6PPXkG",
        "colab": {
          "base_uri": "https://localhost:8080/",
          "height": 35
        },
        "outputId": "b8264c5a-b25d-4081-d79e-70019feb39ea"
      },
      "source": [
        "a=np.array(edge)\n",
        "a.shape"
      ],
      "execution_count": null,
      "outputs": [
        {
          "output_type": "execute_result",
          "data": {
            "text/plain": [
              "(561, 3)"
            ]
          },
          "metadata": {
            "tags": []
          },
          "execution_count": 18
        }
      ]
    },
    {
      "cell_type": "code",
      "metadata": {
        "id": "vU3t3i4sHHio",
        "colab": {
          "base_uri": "https://localhost:8080/",
          "height": 146
        },
        "outputId": "c649b019-2506-40cf-b2d2-b4d6f94edd04"
      },
      "source": [
        "edge"
      ],
      "execution_count": null,
      "outputs": [
        {
          "output_type": "execute_result",
          "data": {
            "text/plain": [
              "array([[ 0.,  1.,  1.],\n",
              "       [ 0.,  2.,  1.],\n",
              "       [ 0.,  3.,  1.],\n",
              "       ...,\n",
              "       [31., 32.,  1.],\n",
              "       [31., 33.,  1.],\n",
              "       [32., 33.,  1.]])"
            ]
          },
          "metadata": {
            "tags": []
          },
          "execution_count": 7
        }
      ]
    },
    {
      "cell_type": "code",
      "metadata": {
        "id": "JEfiOAg1D12j"
      },
      "source": [
        "# calculate link prediction algorithms for every two nodes in G\n",
        "\n",
        "pred1 = []\n",
        "jc = nx.jaccard_coefficient(G, edge[:,:2])\n",
        "for u, v, p in jc:\n",
        "    pred1.extend([[u, v, p]])\n",
        "link_pred1 = np.asarray(pred1)\n",
        "\n",
        "pred2 = []\n",
        "rai = nx.resource_allocation_index(G, edge[:,:2])\n",
        "for u, v, p in rai:\n",
        "    pred2.extend([[u, v, p]])\n",
        "link_pred2 = np.asarray(pred2)\n",
        "\n",
        "pred3 = []\n",
        "aai = nx.adamic_adar_index(G, edge[:,:2])\n",
        "for u, v, p in aai:\n",
        "    pred3.extend([[u, v, p]])\n",
        "link_pred3 = np.asarray(pred3)\n",
        "\n",
        "pred4 = []\n",
        "pa = nx.preferential_attachment(G, edge[:,:2])\n",
        "for u, v, p in pa:\n",
        "    pred4.extend([[u, v, p]])\n",
        "link_pred4 = np.asarray(pred4)"
      ],
      "execution_count": null,
      "outputs": []
    },
    {
      "cell_type": "code",
      "metadata": {
        "id": "du2ggHOWD6mp",
        "colab": {
          "base_uri": "https://localhost:8080/",
          "height": 256
        },
        "outputId": "34ee4e84-2f37-416a-ae48-304ebae8a04b"
      },
      "source": [
        "# create features array\n",
        "link_pred = np.concatenate((link_pred1,link_pred2, link_pred3, link_pred4, edge[:,2].reshape((561,1))),axis=1)\n",
        "link_pred[:550]"
      ],
      "execution_count": null,
      "outputs": [
        {
          "output_type": "execute_result",
          "data": {
            "text/plain": [
              "array([[0.00000000e+00, 1.00000000e+00, 3.88888889e-01, ...,\n",
              "        1.00000000e+00, 1.44000000e+02, 1.00000000e+00],\n",
              "       [0.00000000e+00, 2.00000000e+00, 2.38095238e-01, ...,\n",
              "        2.00000000e+00, 1.60000000e+02, 1.00000000e+00],\n",
              "       [0.00000000e+00, 3.00000000e+00, 2.94117647e-01, ...,\n",
              "        3.00000000e+00, 9.60000000e+01, 1.00000000e+00],\n",
              "       ...,\n",
              "       [2.80000000e+01, 3.00000000e+01, 1.66666667e-01, ...,\n",
              "        3.00000000e+01, 1.20000000e+01, 0.00000000e+00],\n",
              "       [2.80000000e+01, 3.10000000e+01, 1.25000000e-01, ...,\n",
              "        3.10000000e+01, 1.80000000e+01, 1.00000000e+00],\n",
              "       [2.80000000e+01, 3.20000000e+01, 2.50000000e-01, ...,\n",
              "        3.20000000e+01, 3.60000000e+01, 0.00000000e+00]])"
            ]
          },
          "metadata": {
            "tags": []
          },
          "execution_count": 9
        }
      ]
    },
    {
      "cell_type": "code",
      "metadata": {
        "id": "D2k4ow29MWhR",
        "colab": {
          "base_uri": "https://localhost:8080/",
          "height": 127
        },
        "outputId": "b9b81f73-910d-4f4e-cfdb-7524e1d590fa"
      },
      "source": [
        "link_pred = np.delete(link_pred, [3,4,6,7,9,10], axis=1)\n",
        "print(link_pred[0:3])"
      ],
      "execution_count": null,
      "outputs": [
        {
          "output_type": "stream",
          "text": [
            "[[  0.           1.           0.38888889   2.05         6.13071687\n",
            "  144.           1.        ]\n",
            " [  0.           2.           0.23809524   0.92777778   2.97724763\n",
            "  160.           1.        ]\n",
            " [  0.           3.           0.29411765   1.16111111   3.67479159\n",
            "   96.           1.        ]]\n"
          ],
          "name": "stdout"
        }
      ]
    },
    {
      "cell_type": "code",
      "metadata": {
        "id": "On64Q6M1D-G-"
      },
      "source": [
        "# create dataset: %50 -> 0 & %50 -> 1\n",
        "c = -1\n",
        "data_list = []\n",
        "for i in range(561):\n",
        "    if (link_pred[i,6] == 1):\n",
        "        data_list.extend([[link_pred[i, 2],link_pred[i, 3], link_pred[i, 4], link_pred[i, 5], link_pred[i, 6]]])\n",
        "    if (link_pred[i,6] == 0):\n",
        "        c += 1\n",
        "        # every 6 times that face with 0, put it to data_list:  (561-77)/6 = 80\n",
        "        if (c % 6 == 0):\n",
        "            data_list.extend([[link_pred[i, 2],link_pred[i, 3], link_pred[i, 4], link_pred[i, 5], link_pred[i, 6]]])\n",
        "\n",
        "data = np.asarray(data_list)\n",
        "np.random.shuffle(data)"
      ],
      "execution_count": null,
      "outputs": []
    },
    {
      "cell_type": "code",
      "metadata": {
        "id": "_7gZQEWIEJCC"
      },
      "source": [
        "# create train and test dataset\n",
        "x_train, x_test, y_train, y_test = data[0:109,0:4], data[109:,0:4], data[0:109,4], data[109:,4]\n"
      ],
      "execution_count": null,
      "outputs": []
    },
    {
      "cell_type": "markdown",
      "metadata": {
        "id": "YWg1D-PFYYGQ"
      },
      "source": [
        "**Neural Network**"
      ]
    },
    {
      "cell_type": "code",
      "metadata": {
        "id": "hBop8jAlEMWh",
        "colab": {
          "base_uri": "https://localhost:8080/",
          "height": 92
        },
        "outputId": "0c987cfc-9745-4260-8b28-b525edac2b42"
      },
      "source": [
        "# create model (ANN)\n",
        "model = Sequential()\n",
        "model.add(Dense(20, input_dim=4, activation='relu'))\n",
        "model.add(Dense(20, activation='relu'))\n",
        "model.add(Dense(20, activation='relu'))\n",
        "model.add(Dense(1, activation='sigmoid'))"
      ],
      "execution_count": null,
      "outputs": [
        {
          "output_type": "stream",
          "text": [
            "WARNING:tensorflow:From /usr/local/lib/python3.6/dist-packages/tensorflow/python/framework/op_def_library.py:263: colocate_with (from tensorflow.python.framework.ops) is deprecated and will be removed in a future version.\n",
            "Instructions for updating:\n",
            "Colocations handled automatically by placer.\n"
          ],
          "name": "stdout"
        }
      ]
    },
    {
      "cell_type": "code",
      "metadata": {
        "id": "8k_95QCmEP4J"
      },
      "source": [
        "# Compile model\n",
        "# sgd = keras.optimizers.SGD(lr=0.001, decay=1e-6, momentum=0.9, nesterov=True)\n",
        "model.compile(loss='binary_crossentropy', optimizer='adam', metrics=['accuracy'])"
      ],
      "execution_count": null,
      "outputs": []
    },
    {
      "cell_type": "code",
      "metadata": {
        "id": "Yuy87RNnEWh7"
      },
      "source": [
        "# Fit the model\n",
        "model.fit(x_train, y_train, epochs=150)"
      ],
      "execution_count": null,
      "outputs": []
    },
    {
      "cell_type": "code",
      "metadata": {
        "id": "opqc0jCaEZfr",
        "colab": {
          "base_uri": "https://localhost:8080/",
          "height": 54
        },
        "outputId": "677b588a-0764-478f-ea38-42c930c6893a"
      },
      "source": [
        "# Test the model\n",
        "test_loss, test_acc = model.evaluate(x_test, y_test)\n",
        "print('Test accuracy:', test_acc * 100)"
      ],
      "execution_count": null,
      "outputs": [
        {
          "output_type": "stream",
          "text": [
            "50/50 [==============================] - 0s 1ms/step\n",
            "Test accuracy: 85.99999928474426\n"
          ],
          "name": "stdout"
        }
      ]
    },
    {
      "cell_type": "code",
      "metadata": {
        "id": "bshuMMUKEe8G"
      },
      "source": [
        "# predict with model\n",
        "predictions = model.predict(data[:,0:4])\n",
        "rounded = np.asarray([round(x[0]) for x in predictions])"
      ],
      "execution_count": null,
      "outputs": []
    },
    {
      "cell_type": "code",
      "metadata": {
        "id": "gZh2QrZUEh0A",
        "colab": {
          "base_uri": "https://localhost:8080/",
          "height": 127
        },
        "outputId": "f68bbef9-19d4-47fd-fdaf-e3597a3cc2e7"
      },
      "source": [
        "# evaluate model\n",
        "true_p = 0\n",
        "true_n = 0\n",
        "false_p = 0\n",
        "false_n = 0\n",
        "for i in range(159):\n",
        "    if (rounded[i] == data[i,4]) & (rounded[i] == 1):\n",
        "        true_p += 1\n",
        "    elif (rounded[i] == data[i,4]) & (rounded[i] == 0):\n",
        "        true_n += 1\n",
        "    elif (rounded[i] != data[i,4]) & (rounded[i] == 1):\n",
        "        false_p += 1\n",
        "    elif (rounded[i] != data[i,4]) & (rounded[i] == 0):\n",
        "        false_n += 1\n",
        "\n",
        "print('\\nTrue Positive: ',true_p)\n",
        "print('True Negative: ',true_n)\n",
        "print('False Positive: ',false_p)\n",
        "print('False Negative: ',false_n)\n",
        "print('All: ', true_n + true_p + false_n + false_p)"
      ],
      "execution_count": null,
      "outputs": [
        {
          "output_type": "stream",
          "text": [
            "\n",
            "True Positive:  66\n",
            "True Negative:  59\n",
            "False Positive:  22\n",
            "False Negative:  12\n",
            "All:  159\n"
          ],
          "name": "stdout"
        }
      ]
    },
    {
      "cell_type": "code",
      "metadata": {
        "id": "Yy5vs-VzL1t5"
      },
      "source": [
        ""
      ],
      "execution_count": null,
      "outputs": []
    },
    {
      "cell_type": "markdown",
      "metadata": {
        "id": "Oi_i1eoUTkhJ"
      },
      "source": [
        "**Decision Tree**"
      ]
    },
    {
      "cell_type": "code",
      "metadata": {
        "id": "AEFQoCcLTqj1"
      },
      "source": [
        "from sklearn import tree\n",
        "from sklearn.metrics import accuracy_score,f1_score,confusion_matrix,classification_report"
      ],
      "execution_count": null,
      "outputs": []
    },
    {
      "cell_type": "code",
      "metadata": {
        "id": "i3s-pMYCWT3j"
      },
      "source": [
        "from sklearn import tree\n",
        "from sklearn.metrics import accuracy_score,f1_score,confusion_matrix,classification_report"
      ],
      "execution_count": null,
      "outputs": []
    },
    {
      "cell_type": "code",
      "metadata": {
        "id": "BUbv8Ffvx1Jk"
      },
      "source": [
        "def measure_performance(x_test,y_test,clf, show_accuracy=True, show_classification_report=True, show_confusion_matrix=True):\n",
        "    y_pre=clf.predict(x_test)\n",
        "    accuracy_score(list(y_test),list(y_pre))\n",
        "    print(classification_report(list(y_test),list(y_pre)))\n",
        "    classification_report(list(y_test),list(y_pre))"
      ],
      "execution_count": null,
      "outputs": []
    },
    {
      "cell_type": "code",
      "metadata": {
        "id": "TdxuPSguUOJm"
      },
      "source": [
        "#y_pre=clf.predict(x_test)"
      ],
      "execution_count": null,
      "outputs": []
    },
    {
      "cell_type": "code",
      "metadata": {
        "id": "a-Gwo1uWX3EM"
      },
      "source": [
        "accuracy_score(list(y_test),list(y_pre))"
      ],
      "execution_count": null,
      "outputs": []
    },
    {
      "cell_type": "code",
      "metadata": {
        "id": "fRi6_l9kcDJh",
        "colab": {
          "base_uri": "https://localhost:8080/",
          "height": 127
        },
        "outputId": "404aa3f8-9977-464a-b8b9-55c5a64337b4"
      },
      "source": [
        "# evaluate model\n",
        "true_p = 0\n",
        "true_n = 0\n",
        "false_p = 0\n",
        "false_n = 0\n",
        "for i in range(159):\n",
        "    if (rounded[i] == data[i,4]) & (rounded[i] == 1):\n",
        "        true_p += 1\n",
        "    elif (rounded[i] == data[i,4]) & (rounded[i] == 0):\n",
        "        true_n += 1\n",
        "    elif (rounded[i] != data[i,4]) & (rounded[i] == 1):\n",
        "        false_p += 1\n",
        "    elif (rounded[i] != data[i,4]) & (rounded[i] == 0):\n",
        "        false_n += 1\n",
        "\n",
        "print('\\nTrue Positive: ',true_p)\n",
        "print('True Negative: ',true_n)\n",
        "print('False Positive: ',false_p)\n",
        "print('False Negative: ',false_n)\n",
        "print('All: ', true_n + true_p + false_n + false_p)"
      ],
      "execution_count": null,
      "outputs": [
        {
          "output_type": "stream",
          "text": [
            "\n",
            "True Positive:  66\n",
            "True Negative:  60\n",
            "False Positive:  21\n",
            "False Negative:  12\n",
            "All:  159\n"
          ],
          "name": "stdout"
        }
      ]
    }
  ]
}