{
  "nbformat": 4,
  "nbformat_minor": 0,
  "metadata": {
    "kernelspec": {
      "name": "python3",
      "display_name": "Python 3"
    },
    "colab": {
      "name": "TourismRec.ipynb",
      "provenance": []
    },
    "accelerator": "TPU"
  },
  "cells": [
    {
      "cell_type": "code",
      "metadata": {
        "id": "twjFqz_V6j29"
      },
      "source": [
        "import numpy as np\n",
        "import pandas as pd\n",
        "import matplotlib.pyplot as plt\n",
        "import seaborn as sns \n",
        "%matplotlib inline\n",
        "from sklearn import metrics\n",
        "from sklearn.model_selection import train_test_split\n",
        "import numpy.random as nr\n",
        "import sklearn.model_selection as ms\n",
        "from sklearn import linear_model\n",
        "import sklearn.metrics as sklm\n",
        "from sklearn.model_selection import cross_validate"
      ],
      "execution_count": null,
      "outputs": []
    },
    {
      "cell_type": "code",
      "metadata": {
        "id": "UodDb5ZwWEBV"
      },
      "source": [
        ""
      ],
      "execution_count": null,
      "outputs": []
    },
    {
      "cell_type": "code",
      "metadata": {
        "id": "UHQyyJ7G6j3D"
      },
      "source": [
        "# an algorithm that calculates correlation.\n",
        "def corr_ab(a, b):\n",
        "\n",
        "    a_ = a.values\n",
        "    b_ = b.values\n",
        "    ab = a_.T.dot(b_)\n",
        "    n = len(a)\n",
        "\n",
        "    sums_squared = np.outer(a_.sum(0), b_.sum(0))\n",
        "    stds_squared = np.outer(a_.std(0), b_.std(0))\n",
        "\n",
        "    return pd.DataFrame((ab - sums_squared / n) / stds_squared / n,\n",
        "                        a.columns, b.columns)"
      ],
      "execution_count": null,
      "outputs": []
    },
    {
      "cell_type": "code",
      "metadata": {
        "id": "gdrfW_E76j3I"
      },
      "source": [
        "\n",
        "def hamming_score(y_true, y_pred, normalize=True, sample_weight=None):\n",
        "    '''\n",
        "    Compute the Hamming score (a.k.a. label-based accuracy) for the multi-label case\n",
        "    http://stackoverflow.com/q/32239577/395857\n",
        "    '''\n",
        "    acc_list = []\n",
        "    for i in range(y_true.shape[0]):\n",
        "        set_true = set( np.where(y_true[i])[0] )\n",
        "        set_pred = set( np.where(y_pred[i])[0] )\n",
        "        #print('\\nset_true: {0}'.format(set_true))\n",
        "        #print('set_pred: {0}'.format(set_pred))\n",
        "        tmp_a = None\n",
        "        if len(set_true) == 0 and len(set_pred) == 0:\n",
        "            tmp_a = 1        \n",
        "        else:\n",
        "            tmp_a = len(set_true.intersection(set_pred))/float( len(set_true.union(set_pred)) )\n",
        "        #print('tmp_a: {0}'.format(tmp_a))\n",
        "        acc_list.append(tmp_a)\n",
        "    return np.mean(acc_list)"
      ],
      "execution_count": null,
      "outputs": []
    },
    {
      "cell_type": "code",
      "metadata": {
        "id": "QTc2iUJH6j3K",
        "colab": {
          "base_uri": "https://localhost:8080/",
          "height": 275
        },
        "outputId": "a63fa902-6afa-4561-d2ea-70435371c542"
      },
      "source": [
        "df=pd.read_csv(r'fzf.csv')\n",
        "df.head()"
      ],
      "execution_count": null,
      "outputs": [
        {
          "output_type": "execute_result",
          "data": {
            "text/html": [
              "<div>\n",
              "<style scoped>\n",
              "    .dataframe tbody tr th:only-of-type {\n",
              "        vertical-align: middle;\n",
              "    }\n",
              "\n",
              "    .dataframe tbody tr th {\n",
              "        vertical-align: top;\n",
              "    }\n",
              "\n",
              "    .dataframe thead th {\n",
              "        text-align: right;\n",
              "    }\n",
              "</style>\n",
              "<table border=\"1\" class=\"dataframe\">\n",
              "  <thead>\n",
              "    <tr style=\"text-align: right;\">\n",
              "      <th></th>\n",
              "      <th>Historical</th>\n",
              "      <th>Fun</th>\n",
              "      <th>Ecotourist</th>\n",
              "      <th>Sportive</th>\n",
              "      <th>Cultural</th>\n",
              "      <th>Religious</th>\n",
              "      <th>Urban Nature</th>\n",
              "      <th>Historical Sites</th>\n",
              "      <th>Cinema</th>\n",
              "      <th>Theater</th>\n",
              "      <th>Musems</th>\n",
              "      <th>Holy Sites</th>\n",
              "      <th>Mosques and Churches</th>\n",
              "      <th>Sport Events</th>\n",
              "      <th>Sport Activities</th>\n",
              "      <th>Exhibitions (Art and Book)</th>\n",
              "      <th>Music Events</th>\n",
              "      <th>Mall</th>\n",
              "      <th>Public Gardens and Parks</th>\n",
              "      <th>Restaurants</th>\n",
              "      <th>Cafe</th>\n",
              "      <th>Zoo</th>\n",
              "      <th>Rural Places</th>\n",
              "      <th>Waterfalls and Rivers</th>\n",
              "      <th>Mountains</th>\n",
              "    </tr>\n",
              "  </thead>\n",
              "  <tbody>\n",
              "    <tr>\n",
              "      <th>0</th>\n",
              "      <td>5</td>\n",
              "      <td>2</td>\n",
              "      <td>4</td>\n",
              "      <td>1</td>\n",
              "      <td>4</td>\n",
              "      <td>1</td>\n",
              "      <td>1</td>\n",
              "      <td>1</td>\n",
              "      <td>0</td>\n",
              "      <td>1</td>\n",
              "      <td>1</td>\n",
              "      <td>0</td>\n",
              "      <td>0</td>\n",
              "      <td>0</td>\n",
              "      <td>0</td>\n",
              "      <td>1</td>\n",
              "      <td>0</td>\n",
              "      <td>0</td>\n",
              "      <td>0</td>\n",
              "      <td>0</td>\n",
              "      <td>0</td>\n",
              "      <td>0</td>\n",
              "      <td>1</td>\n",
              "      <td>1</td>\n",
              "      <td>1</td>\n",
              "    </tr>\n",
              "    <tr>\n",
              "      <th>1</th>\n",
              "      <td>3</td>\n",
              "      <td>5</td>\n",
              "      <td>5</td>\n",
              "      <td>4</td>\n",
              "      <td>4</td>\n",
              "      <td>1</td>\n",
              "      <td>2</td>\n",
              "      <td>1</td>\n",
              "      <td>1</td>\n",
              "      <td>1</td>\n",
              "      <td>0</td>\n",
              "      <td>0</td>\n",
              "      <td>1</td>\n",
              "      <td>0</td>\n",
              "      <td>1</td>\n",
              "      <td>0</td>\n",
              "      <td>1</td>\n",
              "      <td>1</td>\n",
              "      <td>1</td>\n",
              "      <td>1</td>\n",
              "      <td>1</td>\n",
              "      <td>0</td>\n",
              "      <td>1</td>\n",
              "      <td>1</td>\n",
              "      <td>1</td>\n",
              "    </tr>\n",
              "    <tr>\n",
              "      <th>2</th>\n",
              "      <td>4</td>\n",
              "      <td>4</td>\n",
              "      <td>4</td>\n",
              "      <td>4</td>\n",
              "      <td>3</td>\n",
              "      <td>4</td>\n",
              "      <td>4</td>\n",
              "      <td>1</td>\n",
              "      <td>0</td>\n",
              "      <td>1</td>\n",
              "      <td>0</td>\n",
              "      <td>1</td>\n",
              "      <td>1</td>\n",
              "      <td>1</td>\n",
              "      <td>1</td>\n",
              "      <td>0</td>\n",
              "      <td>0</td>\n",
              "      <td>1</td>\n",
              "      <td>1</td>\n",
              "      <td>1</td>\n",
              "      <td>0</td>\n",
              "      <td>0</td>\n",
              "      <td>1</td>\n",
              "      <td>1</td>\n",
              "      <td>1</td>\n",
              "    </tr>\n",
              "    <tr>\n",
              "      <th>3</th>\n",
              "      <td>5</td>\n",
              "      <td>5</td>\n",
              "      <td>2</td>\n",
              "      <td>1</td>\n",
              "      <td>5</td>\n",
              "      <td>4</td>\n",
              "      <td>3</td>\n",
              "      <td>1</td>\n",
              "      <td>1</td>\n",
              "      <td>1</td>\n",
              "      <td>0</td>\n",
              "      <td>1</td>\n",
              "      <td>1</td>\n",
              "      <td>1</td>\n",
              "      <td>0</td>\n",
              "      <td>0</td>\n",
              "      <td>1</td>\n",
              "      <td>1</td>\n",
              "      <td>1</td>\n",
              "      <td>1</td>\n",
              "      <td>1</td>\n",
              "      <td>1</td>\n",
              "      <td>1</td>\n",
              "      <td>1</td>\n",
              "      <td>0</td>\n",
              "    </tr>\n",
              "    <tr>\n",
              "      <th>4</th>\n",
              "      <td>3</td>\n",
              "      <td>3</td>\n",
              "      <td>4</td>\n",
              "      <td>3</td>\n",
              "      <td>1</td>\n",
              "      <td>1</td>\n",
              "      <td>3</td>\n",
              "      <td>1</td>\n",
              "      <td>0</td>\n",
              "      <td>0</td>\n",
              "      <td>0</td>\n",
              "      <td>0</td>\n",
              "      <td>0</td>\n",
              "      <td>1</td>\n",
              "      <td>0</td>\n",
              "      <td>0</td>\n",
              "      <td>1</td>\n",
              "      <td>0</td>\n",
              "      <td>1</td>\n",
              "      <td>0</td>\n",
              "      <td>1</td>\n",
              "      <td>0</td>\n",
              "      <td>0</td>\n",
              "      <td>1</td>\n",
              "      <td>0</td>\n",
              "    </tr>\n",
              "  </tbody>\n",
              "</table>\n",
              "</div>"
            ],
            "text/plain": [
              "   Historical  Fun  Ecotourist  ...  Rural Places  Waterfalls and Rivers  Mountains\n",
              "0           5    2           4  ...             1                      1          1\n",
              "1           3    5           5  ...             1                      1          1\n",
              "2           4    4           4  ...             1                      1          1\n",
              "3           5    5           2  ...             1                      1          0\n",
              "4           3    3           4  ...             0                      1          0\n",
              "\n",
              "[5 rows x 25 columns]"
            ]
          },
          "metadata": {
            "tags": []
          },
          "execution_count": 4
        }
      ]
    },
    {
      "cell_type": "code",
      "metadata": {
        "id": "l3Y-RsQK6j3P",
        "colab": {
          "base_uri": "https://localhost:8080/",
          "height": 204
        },
        "outputId": "acae89dd-6975-4356-860e-2264527ec4e4"
      },
      "source": [
        "per=df.iloc[:,0:7]\n",
        "per.head()"
      ],
      "execution_count": null,
      "outputs": [
        {
          "output_type": "execute_result",
          "data": {
            "text/html": [
              "<div>\n",
              "<style scoped>\n",
              "    .dataframe tbody tr th:only-of-type {\n",
              "        vertical-align: middle;\n",
              "    }\n",
              "\n",
              "    .dataframe tbody tr th {\n",
              "        vertical-align: top;\n",
              "    }\n",
              "\n",
              "    .dataframe thead th {\n",
              "        text-align: right;\n",
              "    }\n",
              "</style>\n",
              "<table border=\"1\" class=\"dataframe\">\n",
              "  <thead>\n",
              "    <tr style=\"text-align: right;\">\n",
              "      <th></th>\n",
              "      <th>Historical</th>\n",
              "      <th>Fun</th>\n",
              "      <th>Ecotourist</th>\n",
              "      <th>Sportive</th>\n",
              "      <th>Cultural</th>\n",
              "      <th>Religious</th>\n",
              "      <th>Urban Nature</th>\n",
              "    </tr>\n",
              "  </thead>\n",
              "  <tbody>\n",
              "    <tr>\n",
              "      <th>0</th>\n",
              "      <td>5</td>\n",
              "      <td>2</td>\n",
              "      <td>4</td>\n",
              "      <td>1</td>\n",
              "      <td>4</td>\n",
              "      <td>1</td>\n",
              "      <td>1</td>\n",
              "    </tr>\n",
              "    <tr>\n",
              "      <th>1</th>\n",
              "      <td>3</td>\n",
              "      <td>5</td>\n",
              "      <td>5</td>\n",
              "      <td>4</td>\n",
              "      <td>4</td>\n",
              "      <td>1</td>\n",
              "      <td>2</td>\n",
              "    </tr>\n",
              "    <tr>\n",
              "      <th>2</th>\n",
              "      <td>4</td>\n",
              "      <td>4</td>\n",
              "      <td>4</td>\n",
              "      <td>4</td>\n",
              "      <td>3</td>\n",
              "      <td>4</td>\n",
              "      <td>4</td>\n",
              "    </tr>\n",
              "    <tr>\n",
              "      <th>3</th>\n",
              "      <td>5</td>\n",
              "      <td>5</td>\n",
              "      <td>2</td>\n",
              "      <td>1</td>\n",
              "      <td>5</td>\n",
              "      <td>4</td>\n",
              "      <td>3</td>\n",
              "    </tr>\n",
              "    <tr>\n",
              "      <th>4</th>\n",
              "      <td>3</td>\n",
              "      <td>3</td>\n",
              "      <td>4</td>\n",
              "      <td>3</td>\n",
              "      <td>1</td>\n",
              "      <td>1</td>\n",
              "      <td>3</td>\n",
              "    </tr>\n",
              "  </tbody>\n",
              "</table>\n",
              "</div>"
            ],
            "text/plain": [
              "   Historical  Fun  Ecotourist  Sportive  Cultural  Religious  Urban Nature\n",
              "0           5    2           4         1         4          1             1\n",
              "1           3    5           5         4         4          1             2\n",
              "2           4    4           4         4         3          4             4\n",
              "3           5    5           2         1         5          4             3\n",
              "4           3    3           4         3         1          1             3"
            ]
          },
          "metadata": {
            "tags": []
          },
          "execution_count": 5
        }
      ]
    },
    {
      "cell_type": "code",
      "metadata": {
        "id": "xgLtM7Qj6j3T",
        "colab": {
          "base_uri": "https://localhost:8080/",
          "height": 275
        },
        "outputId": "769217df-4ccb-4b38-b82f-e0b9e7b549f2"
      },
      "source": [
        "act=df.iloc[:,7:]\n",
        "act.head()"
      ],
      "execution_count": null,
      "outputs": [
        {
          "output_type": "execute_result",
          "data": {
            "text/html": [
              "<div>\n",
              "<style scoped>\n",
              "    .dataframe tbody tr th:only-of-type {\n",
              "        vertical-align: middle;\n",
              "    }\n",
              "\n",
              "    .dataframe tbody tr th {\n",
              "        vertical-align: top;\n",
              "    }\n",
              "\n",
              "    .dataframe thead th {\n",
              "        text-align: right;\n",
              "    }\n",
              "</style>\n",
              "<table border=\"1\" class=\"dataframe\">\n",
              "  <thead>\n",
              "    <tr style=\"text-align: right;\">\n",
              "      <th></th>\n",
              "      <th>Historical Sites</th>\n",
              "      <th>Cinema</th>\n",
              "      <th>Theater</th>\n",
              "      <th>Musems</th>\n",
              "      <th>Holy Sites</th>\n",
              "      <th>Mosques and Churches</th>\n",
              "      <th>Sport Events</th>\n",
              "      <th>Sport Activities</th>\n",
              "      <th>Exhibitions (Art and Book)</th>\n",
              "      <th>Music Events</th>\n",
              "      <th>Mall</th>\n",
              "      <th>Public Gardens and Parks</th>\n",
              "      <th>Restaurants</th>\n",
              "      <th>Cafe</th>\n",
              "      <th>Zoo</th>\n",
              "      <th>Rural Places</th>\n",
              "      <th>Waterfalls and Rivers</th>\n",
              "      <th>Mountains</th>\n",
              "    </tr>\n",
              "  </thead>\n",
              "  <tbody>\n",
              "    <tr>\n",
              "      <th>0</th>\n",
              "      <td>1</td>\n",
              "      <td>0</td>\n",
              "      <td>1</td>\n",
              "      <td>1</td>\n",
              "      <td>0</td>\n",
              "      <td>0</td>\n",
              "      <td>0</td>\n",
              "      <td>0</td>\n",
              "      <td>1</td>\n",
              "      <td>0</td>\n",
              "      <td>0</td>\n",
              "      <td>0</td>\n",
              "      <td>0</td>\n",
              "      <td>0</td>\n",
              "      <td>0</td>\n",
              "      <td>1</td>\n",
              "      <td>1</td>\n",
              "      <td>1</td>\n",
              "    </tr>\n",
              "    <tr>\n",
              "      <th>1</th>\n",
              "      <td>1</td>\n",
              "      <td>1</td>\n",
              "      <td>1</td>\n",
              "      <td>0</td>\n",
              "      <td>0</td>\n",
              "      <td>1</td>\n",
              "      <td>0</td>\n",
              "      <td>1</td>\n",
              "      <td>0</td>\n",
              "      <td>1</td>\n",
              "      <td>1</td>\n",
              "      <td>1</td>\n",
              "      <td>1</td>\n",
              "      <td>1</td>\n",
              "      <td>0</td>\n",
              "      <td>1</td>\n",
              "      <td>1</td>\n",
              "      <td>1</td>\n",
              "    </tr>\n",
              "    <tr>\n",
              "      <th>2</th>\n",
              "      <td>1</td>\n",
              "      <td>0</td>\n",
              "      <td>1</td>\n",
              "      <td>0</td>\n",
              "      <td>1</td>\n",
              "      <td>1</td>\n",
              "      <td>1</td>\n",
              "      <td>1</td>\n",
              "      <td>0</td>\n",
              "      <td>0</td>\n",
              "      <td>1</td>\n",
              "      <td>1</td>\n",
              "      <td>1</td>\n",
              "      <td>0</td>\n",
              "      <td>0</td>\n",
              "      <td>1</td>\n",
              "      <td>1</td>\n",
              "      <td>1</td>\n",
              "    </tr>\n",
              "    <tr>\n",
              "      <th>3</th>\n",
              "      <td>1</td>\n",
              "      <td>1</td>\n",
              "      <td>1</td>\n",
              "      <td>0</td>\n",
              "      <td>1</td>\n",
              "      <td>1</td>\n",
              "      <td>1</td>\n",
              "      <td>0</td>\n",
              "      <td>0</td>\n",
              "      <td>1</td>\n",
              "      <td>1</td>\n",
              "      <td>1</td>\n",
              "      <td>1</td>\n",
              "      <td>1</td>\n",
              "      <td>1</td>\n",
              "      <td>1</td>\n",
              "      <td>1</td>\n",
              "      <td>0</td>\n",
              "    </tr>\n",
              "    <tr>\n",
              "      <th>4</th>\n",
              "      <td>1</td>\n",
              "      <td>0</td>\n",
              "      <td>0</td>\n",
              "      <td>0</td>\n",
              "      <td>0</td>\n",
              "      <td>0</td>\n",
              "      <td>1</td>\n",
              "      <td>0</td>\n",
              "      <td>0</td>\n",
              "      <td>1</td>\n",
              "      <td>0</td>\n",
              "      <td>1</td>\n",
              "      <td>0</td>\n",
              "      <td>1</td>\n",
              "      <td>0</td>\n",
              "      <td>0</td>\n",
              "      <td>1</td>\n",
              "      <td>0</td>\n",
              "    </tr>\n",
              "  </tbody>\n",
              "</table>\n",
              "</div>"
            ],
            "text/plain": [
              "   Historical Sites  Cinema  ...  Waterfalls and Rivers  Mountains\n",
              "0                 1       0  ...                      1          1\n",
              "1                 1       1  ...                      1          1\n",
              "2                 1       0  ...                      1          1\n",
              "3                 1       1  ...                      1          0\n",
              "4                 1       0  ...                      1          0\n",
              "\n",
              "[5 rows x 18 columns]"
            ]
          },
          "metadata": {
            "tags": []
          },
          "execution_count": 6
        }
      ]
    },
    {
      "cell_type": "code",
      "metadata": {
        "id": "vasmw4XB6j3W"
      },
      "source": [
        "corr=corr_ab(per,act)"
      ],
      "execution_count": null,
      "outputs": []
    },
    {
      "cell_type": "code",
      "metadata": {
        "id": "dM4YNX836j3a",
        "colab": {
          "base_uri": "https://localhost:8080/",
          "height": 840
        },
        "outputId": "d80d1db9-9cda-4716-8aaf-6b4deae09dbc"
      },
      "source": [
        "plt.subplots(figsize=(30,20))\n",
        "sns.set(context='poster', style='darkgrid', palette='deep', font='sans-serif', font_scale=0.75, color_codes=True, rc=None,)\n",
        "sns_plot=sns.heatmap(corr,annot=True)\n",
        "sns_plot.tick_params(labelsize=20)\n",
        "fig = sns_plot.get_figure()\n",
        "fig.savefig(\"outputEvaluation.png\")"
      ],
      "execution_count": null,
      "outputs": [
        {
          "output_type": "display_data",
          "data": {
            "image/png": "[encoded data removed]",
            "text/plain": [
              "<Figure size 2160x1440 with 2 Axes>"
            ]
          },
          "metadata": {
            "tags": [],
            "needs_background": "light"
          }
        }
      ]
    },
    {
      "cell_type": "markdown",
      "metadata": {
        "id": "9RSAbbZfk-fD"
      },
      "source": [
        "**Features and Labels**"
      ]
    },
    {
      "cell_type": "code",
      "metadata": {
        "id": "TxfuX3dH6j4P",
        "colab": {
          "base_uri": "https://localhost:8080/",
          "height": 51
        },
        "outputId": "f8ce2f31-33cb-43d0-b907-a5a3262109c3"
      },
      "source": [
        "Features = np.array(per)\n",
        "Labels = np.array(act)\n",
        "print(Features.shape)\n",
        "print(Labels.shape)"
      ],
      "execution_count": null,
      "outputs": [
        {
          "output_type": "stream",
          "text": [
            "(242, 7)\n",
            "(242, 18)\n"
          ],
          "name": "stdout"
        }
      ]
    },
    {
      "cell_type": "markdown",
      "metadata": {
        "id": "1oqoGGkvlFTv"
      },
      "source": [
        "**Transforming**"
      ]
    },
    {
      "cell_type": "code",
      "metadata": {
        "id": "FbrZ31-Wb5qL"
      },
      "source": [
        "from sklearn import preprocessing\n",
        "from sklearn.model_selection import cross_val_score, cross_validate\n",
        "\n",
        "scaler = preprocessing.StandardScaler().fit(Features)\n",
        "Features=scaler.transform(Features)\n",
        "scoring = ['precision_macro', 'recall_macro','jaccard_macro','f1_macro']"
      ],
      "execution_count": null,
      "outputs": []
    },
    {
      "cell_type": "markdown",
      "metadata": {
        "id": "3TVVj0GnnjkZ"
      },
      "source": [
        "Installing Skmultilearn and Defining metrics"
      ]
    },
    {
      "cell_type": "code",
      "metadata": {
        "id": "A0h3pPvrnoEo"
      },
      "source": [
        "!pip install scikit-multilearn"
      ],
      "execution_count": null,
      "outputs": []
    },
    {
      "cell_type": "code",
      "metadata": {
        "id": "zAjtuzl6r5lo"
      },
      "source": [
        "def print_format(f,x,y,z,h):\n",
        "    print('Fold %2d    %4.3f        %4.3f      %4.3f      %4.3f' % (f, x, y, z,h))\n",
        "\n",
        "def print_cv(scores):\n",
        "    fold = [x + 1 for x in range(len(scores['test_precision_macro']))]\n",
        "    print('         Precision     Recall       f1       jaccard')\n",
        "    [print_format(f,x,y,z,h) for f,x,y,z,h in zip(fold, scores['test_precision_macro'], \n",
        "                                          scores['test_recall_macro'],\n",
        "                                          scores['test_f1_macro'],\n",
        "                                          scores['test_jaccard_macro'])]\n",
        "    print('-' * 600)\n",
        "    print('Mean       %4.3f        %4.3f      %4.3f      %4.3f' % \n",
        "          (np.mean(scores['test_precision_macro']), np.mean(scores['test_recall_macro']),np.mean(scores['test_f1_macro']), np.mean(scores['test_jaccard_macro'])))  \n",
        "    print('Std        %4.3f        %4.3f      %4.3f      %4.3f' % (np.std(scores['test_precision_macro']), np.std(scores['test_recall_macro']),np.std(scores['test_f1_macro']), np.std(scores['test_jaccard_macro'])))"
      ],
      "execution_count": null,
      "outputs": []
    },
    {
      "cell_type": "markdown",
      "metadata": {
        "id": "qBMivMfHlLMn"
      },
      "source": [
        "**BinaryRelevance**"
      ]
    },
    {
      "cell_type": "code",
      "metadata": {
        "id": "92LDSpJaTn8F"
      },
      "source": [
        "from skmultilearn.problem_transform import BinaryRelevance"
      ],
      "execution_count": null,
      "outputs": []
    },
    {
      "cell_type": "code",
      "metadata": {
        "id": "8XOondOuGY0i",
        "colab": {
          "base_uri": "https://localhost:8080/",
          "height": 190
        },
        "outputId": "90969508-2830-4047-9044-4c0772cc9dca"
      },
      "source": [
        "from sklearn.ensemble import RandomForestClassifier\n",
        "clf = BinaryRelevance(classifier = RandomForestClassifier(max_depth=2, random_state=0,n_estimators=100,bootstrap=True,class_weight='balanced'),require_dense = [False, True]) \n",
        "scores = cross_validate(clf,Features, Labels, cv=5, scoring=scoring)\n",
        "print_cv(scores)  "
      ],
      "execution_count": null,
      "outputs": [
        {
          "output_type": "stream",
          "text": [
            "         Precision     Recall       f1       jaccard\n",
            "Fold  1    0.707        0.648      0.666      0.518\n",
            "Fold  2    0.796        0.760      0.767      0.635\n",
            "Fold  3    0.742        0.819      0.775      0.648\n",
            "Fold  4    0.756        0.758      0.749      0.612\n",
            "Fold  5    0.737        0.628      0.667      0.525\n",
            "------------------------------------------------------------------------------------------------------------------------------------------------------------------------------------------------------------------------------------------------------------------------------------------------------------------------------------------------------------------------------------------------------------------------------------------------------------------------------------------------------------------------------------------------------------------------------------------------------------------------\n",
            "Mean       0.748        0.722      0.725      0.587\n",
            "Std        0.029        0.073      0.048      0.055\n"
          ],
          "name": "stdout"
        }
      ]
    },
    {
      "cell_type": "code",
      "metadata": {
        "id": "P9YCxP2M9vps"
      },
      "source": [
        "Mean       0.773        0.739      0.754      0.607\n",
        "Std        0.020        0.070      0.040      0.052"
      ],
      "execution_count": null,
      "outputs": []
    },
    {
      "cell_type": "code",
      "metadata": {
        "id": "1A7mgmHUlY70",
        "colab": {
          "base_uri": "https://localhost:8080/",
          "height": 190
        },
        "outputId": "398c0463-4895-4fe3-e828-abd93c4f4de9"
      },
      "source": [
        "from sklearn.svm import SVC\n",
        "clf = BinaryRelevance(classifier = SVC(class_weight='balanced'), require_dense = [False, True])\n",
        "scores = cross_validate(clf,Features, Labels, cv=5, scoring=scoring)\n",
        "print_cv(scores)  "
      ],
      "execution_count": null,
      "outputs": [
        {
          "output_type": "stream",
          "text": [
            "         Precision     Recall       f1       jaccard\n",
            "Fold  1    0.673        0.657      0.658      0.506\n",
            "Fold  2    0.753        0.714      0.722      0.579\n",
            "Fold  3    0.725        0.808      0.760      0.632\n",
            "Fold  4    0.735        0.740      0.733      0.590\n",
            "Fold  5    0.743        0.658      0.686      0.539\n",
            "------------------------------------------------------------------------------------------------------------------------------------------------------------------------------------------------------------------------------------------------------------------------------------------------------------------------------------------------------------------------------------------------------------------------------------------------------------------------------------------------------------------------------------------------------------------------------------------------------------------------\n",
            "Mean       0.726        0.715      0.712      0.569\n",
            "Std        0.028        0.057      0.036      0.043\n"
          ],
          "name": "stdout"
        }
      ]
    },
    {
      "cell_type": "code",
      "metadata": {
        "id": "3b3mKhG8-BbP"
      },
      "source": [
        "Mean       0.751        0.736      0.742      0.591\n",
        "Std        0.021        0.057      0.033      0.042"
      ],
      "execution_count": null,
      "outputs": []
    },
    {
      "cell_type": "code",
      "metadata": {
        "id": "oYZasH3q6j4X",
        "colab": {
          "base_uri": "https://localhost:8080/",
          "height": 190
        },
        "outputId": "a594d402-230f-4f69-fcd4-cca7b58005f4"
      },
      "source": [
        "from sklearn.linear_model import LogisticRegression\n",
        "\n",
        "clf = BinaryRelevance(classifier = LogisticRegression(class_weight='balanced'), require_dense = [False, True])\n",
        "scores = cross_validate(clf,Features, Labels, cv=5, scoring=scoring)\n",
        "print_cv(scores)"
      ],
      "execution_count": null,
      "outputs": [
        {
          "output_type": "stream",
          "text": [
            "         Precision     Recall       f1       jaccard\n",
            "Fold  1    0.689        0.650      0.661      0.508\n",
            "Fold  2    0.763        0.747      0.747      0.608\n",
            "Fold  3    0.728        0.788      0.753      0.620\n",
            "Fold  4    0.767        0.777      0.761      0.626\n",
            "Fold  5    0.718        0.643      0.667      0.523\n",
            "------------------------------------------------------------------------------------------------------------------------------------------------------------------------------------------------------------------------------------------------------------------------------------------------------------------------------------------------------------------------------------------------------------------------------------------------------------------------------------------------------------------------------------------------------------------------------------------------------------------------\n",
            "Mean       0.733        0.721      0.718      0.577\n",
            "Std        0.029        0.062      0.044      0.051\n"
          ],
          "name": "stdout"
        }
      ]
    },
    {
      "cell_type": "code",
      "metadata": {
        "id": "2McjmjxH-HiM"
      },
      "source": [
        "Mean       0.760        0.728      0.742      0.592\n",
        "Std        0.022        0.060      0.038      0.047"
      ],
      "execution_count": null,
      "outputs": []
    },
    {
      "cell_type": "code",
      "metadata": {
        "id": "ZO9BXd-H6j4c",
        "colab": {
          "base_uri": "https://localhost:8080/",
          "height": 190
        },
        "outputId": "0982353d-de66-4a2e-ee02-c838604c9800"
      },
      "source": [
        "from sklearn.naive_bayes import GaussianNB\n",
        "\n",
        "clf = BinaryRelevance(classifier = GaussianNB(), require_dense = [True, True])\n",
        "scores = cross_validate(clf,Features, Labels, cv=5, scoring=scoring)\n",
        "print_cv(scores)"
      ],
      "execution_count": null,
      "outputs": [
        {
          "output_type": "stream",
          "text": [
            "         Precision     Recall       f1       jaccard\n",
            "Fold  1    0.695        0.692      0.688      0.550\n",
            "Fold  2    0.791        0.775      0.769      0.641\n",
            "Fold  3    0.773        0.778      0.769      0.640\n",
            "Fold  4    0.757        0.751      0.748      0.626\n",
            "Fold  5    0.736        0.706      0.693      0.568\n",
            "------------------------------------------------------------------------------------------------------------------------------------------------------------------------------------------------------------------------------------------------------------------------------------------------------------------------------------------------------------------------------------------------------------------------------------------------------------------------------------------------------------------------------------------------------------------------------------------------------------------------\n",
            "Mean       0.750        0.740      0.733      0.605\n",
            "Std        0.033        0.035      0.036      0.038\n"
          ],
          "name": "stdout"
        }
      ]
    },
    {
      "cell_type": "code",
      "metadata": {
        "id": "U7pkSCcc-Mld"
      },
      "source": [
        "Mean       0.777        0.794      0.785      0.647\n",
        "Std        0.023        0.026      0.024      0.032"
      ],
      "execution_count": null,
      "outputs": []
    },
    {
      "cell_type": "code",
      "metadata": {
        "id": "1KFRt8PW6j4f",
        "colab": {
          "base_uri": "https://localhost:8080/",
          "height": 190
        },
        "outputId": "99d25edd-68e2-4735-c827-ce3971a108fd"
      },
      "source": [
        "from sklearn.tree import DecisionTreeClassifier\n",
        "\n",
        "clf = BinaryRelevance(classifier = DecisionTreeClassifier(class_weight='balanced'), require_dense = [False, True])\n",
        "scores = cross_validate(clf,Features, Labels, cv=5, scoring=scoring)\n",
        "print_cv(scores)  "
      ],
      "execution_count": null,
      "outputs": [
        {
          "output_type": "stream",
          "text": [
            "         Precision     Recall       f1       jaccard\n",
            "Fold  1    0.636        0.598      0.611      0.461\n",
            "Fold  2    0.658        0.656      0.654      0.507\n",
            "Fold  3    0.698        0.675      0.682      0.542\n",
            "Fold  4    0.683        0.701      0.687      0.541\n",
            "Fold  5    0.611        0.604      0.602      0.446\n",
            "------------------------------------------------------------------------------------------------------------------------------------------------------------------------------------------------------------------------------------------------------------------------------------------------------------------------------------------------------------------------------------------------------------------------------------------------------------------------------------------------------------------------------------------------------------------------------------------------------------------------\n",
            "Mean       0.657        0.647      0.647      0.499\n",
            "Std        0.031        0.040      0.035      0.040\n"
          ],
          "name": "stdout"
        }
      ]
    },
    {
      "cell_type": "code",
      "metadata": {
        "id": "5O6420zF_E7Q"
      },
      "source": [
        "Mean       0.694        0.688      0.691      0.528\n",
        "Std        0.026        0.038      0.030      0.035"
      ],
      "execution_count": null,
      "outputs": []
    },
    {
      "cell_type": "markdown",
      "metadata": {
        "id": "s5E2KFdTvQsW"
      },
      "source": [
        "**Chainer**"
      ]
    },
    {
      "cell_type": "code",
      "metadata": {
        "id": "a7kWYWlr6j4k"
      },
      "source": [
        "from skmultilearn.problem_transform import ClassifierChain"
      ],
      "execution_count": null,
      "outputs": []
    },
    {
      "cell_type": "code",
      "metadata": {
        "id": "x5NLNZH76j4n",
        "colab": {
          "base_uri": "https://localhost:8080/",
          "height": 190
        },
        "outputId": "399fc5fa-3153-4607-d6dd-e650fa15433a"
      },
      "source": [
        "clf = ClassifierChain(classifier = RandomForestClassifier(max_depth=2, random_state=0,n_estimators=100,bootstrap=True,class_weight='balanced'), require_dense = [False, True])\n",
        "scores = cross_validate(clf,Features, Labels, cv=5, scoring=scoring)\n",
        "print_cv(scores)  "
      ],
      "execution_count": null,
      "outputs": [
        {
          "output_type": "stream",
          "text": [
            "         Precision     Recall       f1       jaccard\n",
            "Fold  1    0.705        0.602      0.634      0.481\n",
            "Fold  2    0.770        0.641      0.683      0.536\n",
            "Fold  3    0.745        0.805      0.768      0.636\n",
            "Fold  4    0.705        0.638      0.648      0.490\n",
            "Fold  5    0.709        0.481      0.559      0.406\n",
            "------------------------------------------------------------------------------------------------------------------------------------------------------------------------------------------------------------------------------------------------------------------------------------------------------------------------------------------------------------------------------------------------------------------------------------------------------------------------------------------------------------------------------------------------------------------------------------------------------------------------\n",
            "Mean       0.727        0.633      0.658      0.510\n",
            "Std        0.027        0.104      0.068      0.075\n"
          ],
          "name": "stdout"
        }
      ]
    },
    {
      "cell_type": "code",
      "metadata": {
        "id": "9TfY8FA1_Pc0"
      },
      "source": [
        "Mean       0.748        0.629      0.678      0.518\n",
        "Std        0.029        0.114      0.072      0.083"
      ],
      "execution_count": null,
      "outputs": []
    },
    {
      "cell_type": "code",
      "metadata": {
        "id": "HFxBs0uXon0z",
        "colab": {
          "base_uri": "https://localhost:8080/",
          "height": 190
        },
        "outputId": "cf277c90-4ae3-4b31-e62b-faff23b64a82"
      },
      "source": [
        "clf = ClassifierChain(classifier = SVC(class_weight='balanced'), require_dense = [False, True])\n",
        "scores = cross_validate(clf,Features, Labels, cv=5, scoring=scoring)\n",
        "print_cv(scores)  "
      ],
      "execution_count": null,
      "outputs": [
        {
          "output_type": "stream",
          "text": [
            "         Precision     Recall       f1       jaccard\n",
            "Fold  1    0.676        0.635      0.651      0.504\n",
            "Fold  2    0.784        0.698      0.727      0.582\n",
            "Fold  3    0.725        0.818      0.764      0.635\n",
            "Fold  4    0.731        0.690      0.700      0.549\n",
            "Fold  5    0.707        0.619      0.653      0.501\n",
            "------------------------------------------------------------------------------------------------------------------------------------------------------------------------------------------------------------------------------------------------------------------------------------------------------------------------------------------------------------------------------------------------------------------------------------------------------------------------------------------------------------------------------------------------------------------------------------------------------------------------\n",
            "Mean       0.724        0.692      0.699      0.554\n",
            "Std        0.035        0.070      0.043      0.050\n"
          ],
          "name": "stdout"
        }
      ]
    },
    {
      "cell_type": "code",
      "metadata": {
        "id": "tyhExEHH_Yd5"
      },
      "source": [
        "Mean       0.753        0.710      0.729      0.575\n",
        "Std        0.028        0.070      0.040      0.050"
      ],
      "execution_count": null,
      "outputs": []
    },
    {
      "cell_type": "code",
      "metadata": {
        "id": "55Z96Xus6j4s",
        "colab": {
          "base_uri": "https://localhost:8080/",
          "height": 190
        },
        "outputId": "455803e2-2e89-4a3c-ad24-853863e0ec3f"
      },
      "source": [
        "clf = ClassifierChain(classifier = LogisticRegression(class_weight='balanced',solver='liblinear'), require_dense = [False, True])\n",
        "scores = cross_validate(clf,Features, Labels, cv=5, scoring=scoring)\n",
        "print_cv(scores)  "
      ],
      "execution_count": null,
      "outputs": [
        {
          "output_type": "stream",
          "text": [
            "         Precision     Recall       f1       jaccard\n",
            "Fold  1    0.684        0.645      0.654      0.499\n",
            "Fold  2    0.763        0.743      0.741      0.600\n",
            "Fold  3    0.731        0.803      0.760      0.625\n",
            "Fold  4    0.737        0.726      0.713      0.563\n",
            "Fold  5    0.677        0.551      0.593      0.439\n",
            "------------------------------------------------------------------------------------------------------------------------------------------------------------------------------------------------------------------------------------------------------------------------------------------------------------------------------------------------------------------------------------------------------------------------------------------------------------------------------------------------------------------------------------------------------------------------------------------------------------------------\n",
            "Mean       0.718        0.694      0.692      0.545\n",
            "Std        0.033        0.087      0.061      0.068\n"
          ],
          "name": "stdout"
        }
      ]
    },
    {
      "cell_type": "code",
      "metadata": {
        "id": "VtmqUZQ7_caP"
      },
      "source": [
        "Mean       0.740        0.689      0.711      0.555\n",
        "Std        0.026        0.093      0.061      0.072"
      ],
      "execution_count": null,
      "outputs": []
    },
    {
      "cell_type": "code",
      "metadata": {
        "id": "zMXYamL26j4x",
        "colab": {
          "base_uri": "https://localhost:8080/",
          "height": 190
        },
        "outputId": "872ea80c-88ff-4f85-8f6f-0d0df6c1b3e2"
      },
      "source": [
        "clf = ClassifierChain(classifier = GaussianNB(), require_dense = [True, True])\n",
        "scores = cross_validate(clf,Features, Labels, cv=5, scoring=scoring)\n",
        "print_cv(scores)"
      ],
      "execution_count": null,
      "outputs": [
        {
          "output_type": "stream",
          "text": [
            "         Precision     Recall       f1       jaccard\n",
            "Fold  1    0.668        0.602      0.623      0.473\n",
            "Fold  2    0.726        0.719      0.711      0.561\n",
            "Fold  3    0.705        0.845      0.763      0.627\n",
            "Fold  4    0.641        0.582      0.596      0.429\n",
            "Fold  5    0.646        0.566      0.589      0.426\n",
            "------------------------------------------------------------------------------------------------------------------------------------------------------------------------------------------------------------------------------------------------------------------------------------------------------------------------------------------------------------------------------------------------------------------------------------------------------------------------------------------------------------------------------------------------------------------------------------------------------------------------\n",
            "Mean       0.677        0.663      0.656      0.503\n",
            "Std        0.033        0.106      0.069      0.079\n"
          ],
          "name": "stdout"
        }
      ]
    },
    {
      "cell_type": "code",
      "metadata": {
        "id": "fTWrujKq_g8w"
      },
      "source": [
        "Mean       0.740        0.689      0.711      0.555\n",
        "Std        0.026        0.093      0.061      0.072"
      ],
      "execution_count": null,
      "outputs": []
    },
    {
      "cell_type": "code",
      "metadata": {
        "id": "b6JD7IAD6j40",
        "colab": {
          "base_uri": "https://localhost:8080/",
          "height": 190
        },
        "outputId": "14a0ecc0-50f9-4c2f-c047-c565802ddafa"
      },
      "source": [
        "clf = ClassifierChain(classifier = DecisionTreeClassifier(class_weight='balanced'), require_dense = [False, True])\n",
        "scores = cross_validate(clf,Features, Labels, cv=5, scoring=scoring)\n",
        "print_cv(scores)"
      ],
      "execution_count": null,
      "outputs": [
        {
          "output_type": "stream",
          "text": [
            "         Precision     Recall       f1       jaccard\n",
            "Fold  1    0.635        0.582      0.604      0.459\n",
            "Fold  2    0.664        0.645      0.649      0.496\n",
            "Fold  3    0.694        0.701      0.695      0.556\n",
            "Fold  4    0.662        0.725      0.688      0.541\n",
            "Fold  5    0.631        0.709      0.664      0.507\n",
            "------------------------------------------------------------------------------------------------------------------------------------------------------------------------------------------------------------------------------------------------------------------------------------------------------------------------------------------------------------------------------------------------------------------------------------------------------------------------------------------------------------------------------------------------------------------------------------------------------------------------\n",
            "Mean       0.657        0.673      0.660      0.512\n",
            "Std        0.023        0.053      0.032      0.034\n"
          ],
          "name": "stdout"
        }
      ]
    },
    {
      "cell_type": "code",
      "metadata": {
        "id": "Fp6RpGa7_jmR"
      },
      "source": [
        "Mean       0.700        0.706      0.702      0.542\n",
        "Std        0.026        0.043      0.028      0.034"
      ],
      "execution_count": null,
      "outputs": []
    },
    {
      "cell_type": "markdown",
      "metadata": {
        "id": "MD52NReTrIVW"
      },
      "source": [
        "**LabelPowerset**"
      ]
    },
    {
      "cell_type": "code",
      "metadata": {
        "id": "NrVPagL_6j43"
      },
      "source": [
        "from skmultilearn.problem_transform import LabelPowerset"
      ],
      "execution_count": null,
      "outputs": []
    },
    {
      "cell_type": "code",
      "metadata": {
        "id": "XPTwQ52c6j45",
        "colab": {
          "base_uri": "https://localhost:8080/",
          "height": 190
        },
        "outputId": "6b09d2ae-18cc-4ab2-8392-858d9cb7b278"
      },
      "source": [
        "clf = LabelPowerset(classifier=RandomForestClassifier(max_depth=2, random_state=0,n_estimators=100,bootstrap=True,class_weight='balanced') , require_dense = [False, True])\n",
        "scores = cross_validate(clf,Features, Labels, cv=5, scoring=scoring)\n",
        "print_cv(scores)"
      ],
      "execution_count": null,
      "outputs": [
        {
          "output_type": "stream",
          "text": [
            "         Precision     Recall       f1       jaccard\n",
            "Fold  1    0.565        0.484      0.514      0.380\n",
            "Fold  2    0.650        0.633      0.633      0.482\n",
            "Fold  3    0.692        0.699      0.689      0.542\n",
            "Fold  4    0.626        0.688      0.651      0.495\n",
            "Fold  5    0.567        0.569      0.564      0.409\n",
            "------------------------------------------------------------------------------------------------------------------------------------------------------------------------------------------------------------------------------------------------------------------------------------------------------------------------------------------------------------------------------------------------------------------------------------------------------------------------------------------------------------------------------------------------------------------------------------------------------------------------\n",
            "Mean       0.620        0.615      0.610      0.462\n",
            "Std        0.049        0.080      0.063      0.059\n"
          ],
          "name": "stdout"
        }
      ]
    },
    {
      "cell_type": "code",
      "metadata": {
        "id": "mX3M8Su2_mkI"
      },
      "source": [
        "Mean       0.665        0.656      0.660      0.494\n",
        "Std        0.035        0.063      0.046      0.051"
      ],
      "execution_count": null,
      "outputs": []
    },
    {
      "cell_type": "code",
      "metadata": {
        "id": "QuzKK7I66j47",
        "colab": {
          "base_uri": "https://localhost:8080/",
          "height": 190
        },
        "outputId": "32aaadc0-4df4-4fcb-a284-b8ca32a01a3f"
      },
      "source": [
        "clf = LabelPowerset(classifier= SVC(class_weight='balanced'), require_dense = [False, True])\n",
        "scores = cross_validate(clf,Features, Labels, cv=5, scoring=scoring)\n",
        "print_cv(scores)"
      ],
      "execution_count": null,
      "outputs": [
        {
          "output_type": "stream",
          "text": [
            "         Precision     Recall       f1       jaccard\n",
            "Fold  1    0.623        0.624      0.618      0.474\n",
            "Fold  2    0.653        0.653      0.650      0.501\n",
            "Fold  3    0.709        0.690      0.684      0.550\n",
            "Fold  4    0.665        0.693      0.674      0.528\n",
            "Fold  5    0.637        0.637      0.633      0.479\n",
            "------------------------------------------------------------------------------------------------------------------------------------------------------------------------------------------------------------------------------------------------------------------------------------------------------------------------------------------------------------------------------------------------------------------------------------------------------------------------------------------------------------------------------------------------------------------------------------------------------------------------\n",
            "Mean       0.657        0.659      0.652      0.507\n",
            "Std        0.029        0.028      0.025      0.029\n"
          ],
          "name": "stdout"
        }
      ]
    },
    {
      "cell_type": "code",
      "metadata": {
        "id": "gEO-BkF8_s4f"
      },
      "source": [
        "Mean       0.704        0.714      0.709      0.550\n",
        "Std        0.025        0.030      0.026      0.032"
      ],
      "execution_count": null,
      "outputs": []
    },
    {
      "cell_type": "code",
      "metadata": {
        "id": "_dapZiWc6j4-",
        "colab": {
          "base_uri": "https://localhost:8080/",
          "height": 190
        },
        "outputId": "56b1ee94-5085-44f4-c490-43b4b3a926ae"
      },
      "source": [
        "clf = LabelPowerset(classifier= LogisticRegression(class_weight='balanced',solver='liblinear'), require_dense = [False, True])\n",
        "scores = cross_validate(clf,Features, Labels, cv=5, scoring=scoring)\n",
        "print_cv(scores)"
      ],
      "execution_count": null,
      "outputs": [
        {
          "output_type": "stream",
          "text": [
            "         Precision     Recall       f1       jaccard\n",
            "Fold  1    0.630        0.521      0.564      0.415\n",
            "Fold  2    0.635        0.589      0.604      0.451\n",
            "Fold  3    0.707        0.679      0.688      0.541\n",
            "Fold  4    0.661        0.663      0.649      0.499\n",
            "Fold  5    0.610        0.551      0.573      0.427\n",
            "------------------------------------------------------------------------------------------------------------------------------------------------------------------------------------------------------------------------------------------------------------------------------------------------------------------------------------------------------------------------------------------------------------------------------------------------------------------------------------------------------------------------------------------------------------------------------------------------------------------------\n",
            "Mean       0.648        0.601      0.616      0.467\n",
            "Std        0.033        0.062      0.047      0.047\n"
          ],
          "name": "stdout"
        }
      ]
    },
    {
      "cell_type": "code",
      "metadata": {
        "id": "PXWdYdgM_vaq"
      },
      "source": [
        "Mean       0.691        0.635      0.662      0.495\n",
        "Std        0.023        0.049      0.036      0.040"
      ],
      "execution_count": null,
      "outputs": []
    },
    {
      "cell_type": "code",
      "metadata": {
        "id": "kIZWjihT6j5E",
        "colab": {
          "base_uri": "https://localhost:8080/",
          "height": 258
        },
        "outputId": "54f2abf4-61ae-4844-c556-e1a7df3244d0"
      },
      "source": [
        "clf = LabelPowerset(classifier = GaussianNB(), require_dense = [True, True])\n",
        "scores = cross_validate(clf,Features, Labels, cv=5, scoring=scoring)\n",
        "print_cv(scores)"
      ],
      "execution_count": null,
      "outputs": [
        {
          "output_type": "stream",
          "text": [
            "         Precision     Recall       f1       jaccard\n",
            "Fold  1    0.605        0.581      0.534      0.419\n",
            "Fold  2    0.652        0.699      0.582      0.458\n",
            "Fold  3    0.570        0.570      0.560      0.464\n",
            "Fold  4    0.653        0.666      0.628      0.486\n",
            "Fold  5    0.666        0.751      0.665      0.519\n",
            "------------------------------------------------------------------------------------------------------------------------------------------------------------------------------------------------------------------------------------------------------------------------------------------------------------------------------------------------------------------------------------------------------------------------------------------------------------------------------------------------------------------------------------------------------------------------------------------------------------------------\n",
            "Mean       0.629        0.654      0.594      0.469\n",
            "Std        0.036        0.069      0.047      0.033\n"
          ],
          "name": "stdout"
        },
        {
          "output_type": "stream",
          "text": [
            "/usr/local/lib/python3.6/dist-packages/sklearn/metrics/_classification.py:1272: UndefinedMetricWarning: Precision is ill-defined and being set to 0.0 in labels with no predicted samples. Use `zero_division` parameter to control this behavior.\n",
            "  _warn_prf(average, modifier, msg_start, len(result))\n",
            "/usr/local/lib/python3.6/dist-packages/sklearn/metrics/_classification.py:1272: UndefinedMetricWarning: Precision is ill-defined and being set to 0.0 in labels with no predicted samples. Use `zero_division` parameter to control this behavior.\n",
            "  _warn_prf(average, modifier, msg_start, len(result))\n"
          ],
          "name": "stderr"
        }
      ]
    },
    {
      "cell_type": "code",
      "metadata": {
        "id": "1Lt7P5c-_0jl"
      },
      "source": [
        "Mean       0.668        0.739      0.699      0.537\n",
        "Std        0.043        0.060      0.017      0.020"
      ],
      "execution_count": null,
      "outputs": []
    },
    {
      "cell_type": "code",
      "metadata": {
        "id": "N5cywSZ06j5H",
        "colab": {
          "base_uri": "https://localhost:8080/",
          "height": 190
        },
        "outputId": "cad71321-17c4-49de-c4c2-17eae2d26aea"
      },
      "source": [
        "clf = LabelPowerset(classifier= DecisionTreeClassifier(class_weight='balanced'), require_dense = [False, True])\n",
        "scores = cross_validate(clf,Features, Labels, cv=5, scoring=scoring)\n",
        "print_cv(scores)"
      ],
      "execution_count": null,
      "outputs": [
        {
          "output_type": "stream",
          "text": [
            "         Precision     Recall       f1       jaccard\n",
            "Fold  1    0.613        0.631      0.617      0.475\n",
            "Fold  2    0.657        0.649      0.650      0.496\n",
            "Fold  3    0.686        0.668      0.671      0.527\n",
            "Fold  4    0.645        0.662      0.650      0.497\n",
            "Fold  5    0.604        0.662      0.625      0.468\n",
            "------------------------------------------------------------------------------------------------------------------------------------------------------------------------------------------------------------------------------------------------------------------------------------------------------------------------------------------------------------------------------------------------------------------------------------------------------------------------------------------------------------------------------------------------------------------------------------------------------------------------\n",
            "Mean       0.641        0.655      0.643      0.493\n",
            "Std        0.030        0.013      0.020      0.021\n"
          ],
          "name": "stdout"
        }
      ]
    },
    {
      "cell_type": "code",
      "metadata": {
        "id": "RgNvbvFh_4Ns"
      },
      "source": [
        "Mean       0.671        0.666      0.668      0.502\n",
        "Std        0.028        0.035      0.026      0.030"
      ],
      "execution_count": null,
      "outputs": []
    },
    {
      "cell_type": "markdown",
      "metadata": {
        "id": "DYn1AAbvvrTX"
      },
      "source": [
        "**adaptive**"
      ]
    },
    {
      "cell_type": "code",
      "metadata": {
        "id": "k6-Qzeq3wI-A",
        "colab": {
          "base_uri": "https://localhost:8080/",
          "height": 190
        },
        "outputId": "c1df413c-26bf-4b7b-8cbf-83c51b0b6368"
      },
      "source": [
        "from skmultilearn.adapt import BRkNNaClassifier\n",
        "clf = BRkNNaClassifier()\n",
        "scores = cross_validate(clf,Features, Labels, cv=5, scoring=scoring)\n",
        "print_cv(scores)"
      ],
      "execution_count": null,
      "outputs": [
        {
          "output_type": "stream",
          "text": [
            "         Precision     Recall       f1       jaccard\n",
            "Fold  1    0.665        0.605      0.620      0.489\n",
            "Fold  2    0.779        0.705      0.712      0.577\n",
            "Fold  3    0.791        0.695      0.712      0.582\n",
            "Fold  4    0.773        0.683      0.702      0.564\n",
            "Fold  5    0.648        0.641      0.624      0.489\n",
            "------------------------------------------------------------------------------------------------------------------------------------------------------------------------------------------------------------------------------------------------------------------------------------------------------------------------------------------------------------------------------------------------------------------------------------------------------------------------------------------------------------------------------------------------------------------------------------------------------------------------\n",
            "Mean       0.731        0.666      0.674      0.540\n",
            "Std        0.062        0.037      0.043      0.042\n"
          ],
          "name": "stdout"
        }
      ]
    },
    {
      "cell_type": "code",
      "metadata": {
        "id": "MZBJx_ir_8h7"
      },
      "source": [
        "Mean       0.757        0.743      0.750      0.600\n",
        "Std        0.035        0.023      0.026      0.033"
      ],
      "execution_count": null,
      "outputs": []
    },
    {
      "cell_type": "code",
      "metadata": {
        "id": "8ZvyY5jnwrgg",
        "colab": {
          "base_uri": "https://localhost:8080/",
          "height": 190
        },
        "outputId": "c3de79fb-984d-41cd-e6ed-d23c34bb6b4f"
      },
      "source": [
        "from skmultilearn.adapt import MLkNN\n",
        "clf = MLkNN()\n",
        "scores = cross_validate(clf,Features, Labels, cv=5, scoring=scoring)\n",
        "print_cv(scores)"
      ],
      "execution_count": null,
      "outputs": [
        {
          "output_type": "stream",
          "text": [
            "         Precision     Recall       f1       jaccard\n",
            "Fold  1    0.661        0.625      0.633      0.503\n",
            "Fold  2    0.731        0.723      0.699      0.564\n",
            "Fold  3    0.767        0.732      0.729      0.603\n",
            "Fold  4    0.739        0.698      0.703      0.561\n",
            "Fold  5    0.644        0.685      0.649      0.512\n",
            "------------------------------------------------------------------------------------------------------------------------------------------------------------------------------------------------------------------------------------------------------------------------------------------------------------------------------------------------------------------------------------------------------------------------------------------------------------------------------------------------------------------------------------------------------------------------------------------------------------------------\n",
            "Mean       0.708        0.693      0.683      0.549\n",
            "Std        0.048        0.038      0.036      0.037\n"
          ],
          "name": "stdout"
        }
      ]
    },
    {
      "cell_type": "code",
      "metadata": {
        "id": "ubJ5l2eo__uU"
      },
      "source": [
        "Mean       0.743        0.761      0.752      0.603\n",
        "Std        0.032        0.026      0.023      0.030"
      ],
      "execution_count": null,
      "outputs": []
    },
    {
      "cell_type": "markdown",
      "metadata": {
        "id": "-yxXUNADv4XP"
      },
      "source": [
        "**Enssemble**"
      ]
    },
    {
      "cell_type": "code",
      "metadata": {
        "id": "voTQ5NYv6j5q",
        "colab": {
          "base_uri": "https://localhost:8080/",
          "height": 190
        },
        "outputId": "27ad3b87-a122-405a-ad44-8de099ce0c35"
      },
      "source": [
        "from sklearn.ensemble import ExtraTreesClassifier\n",
        "\n",
        "clf = ExtraTreesClassifier(class_weight='balanced',n_estimators=100)\n",
        "scores = cross_validate(clf,Features, Labels, cv=5, scoring=scoring)\n",
        "print_cv(scores)"
      ],
      "execution_count": null,
      "outputs": [
        {
          "output_type": "stream",
          "text": [
            "         Precision     Recall       f1       jaccard\n",
            "Fold  1    0.653        0.619      0.629      0.493\n",
            "Fold  2    0.713        0.705      0.703      0.564\n",
            "Fold  3    0.727        0.728      0.719      0.585\n",
            "Fold  4    0.697        0.749      0.718      0.578\n",
            "Fold  5    0.697        0.690      0.683      0.538\n",
            "------------------------------------------------------------------------------------------------------------------------------------------------------------------------------------------------------------------------------------------------------------------------------------------------------------------------------------------------------------------------------------------------------------------------------------------------------------------------------------------------------------------------------------------------------------------------------------------------------------------------\n",
            "Mean       0.697        0.698      0.690      0.551\n",
            "Std        0.025        0.044      0.034      0.033\n"
          ],
          "name": "stdout"
        }
      ]
    },
    {
      "cell_type": "code",
      "metadata": {
        "id": "E-JCYGQDADyH"
      },
      "source": [
        "Mean       0.734        0.748      0.741      0.588\n",
        "Std        0.020        0.033      0.021      0.026"
      ],
      "execution_count": null,
      "outputs": []
    },
    {
      "cell_type": "code",
      "metadata": {
        "id": "5DnHOns16j5t",
        "colab": {
          "base_uri": "https://localhost:8080/",
          "height": 190
        },
        "outputId": "4dbc21f3-8116-4d0f-dcab-e424175bee6b"
      },
      "source": [
        "from sklearn.ensemble import RandomForestClassifier\n",
        "clf = RandomForestClassifier(class_weight='balanced',n_estimators=100)\n",
        "\n",
        "scores = cross_validate(clf,Features, Labels, cv=5, scoring=scoring)\n",
        "print_cv(scores)"
      ],
      "execution_count": null,
      "outputs": [
        {
          "output_type": "stream",
          "text": [
            "         Precision     Recall       f1       jaccard\n",
            "Fold  1    0.666        0.631      0.642      0.503\n",
            "Fold  2    0.753        0.720      0.724      0.584\n",
            "Fold  3    0.722        0.721      0.712      0.582\n",
            "Fold  4    0.711        0.756      0.729      0.591\n",
            "Fold  5    0.721        0.670      0.674      0.525\n",
            "------------------------------------------------------------------------------------------------------------------------------------------------------------------------------------------------------------------------------------------------------------------------------------------------------------------------------------------------------------------------------------------------------------------------------------------------------------------------------------------------------------------------------------------------------------------------------------------------------------------------\n",
            "Mean       0.715        0.699      0.696      0.557\n",
            "Std        0.028        0.044      0.033      0.036\n"
          ],
          "name": "stdout"
        }
      ]
    },
    {
      "cell_type": "code",
      "metadata": {
        "id": "u_FxUju5AJjo"
      },
      "source": [
        "Mean       0.744        0.762      0.753      0.604\n",
        "Std        0.017        0.035      0.024      0.030"
      ],
      "execution_count": null,
      "outputs": []
    },
    {
      "cell_type": "markdown",
      "metadata": {
        "id": "NhcFthqrxoi6"
      },
      "source": [
        "**KNN Method**"
      ]
    },
    {
      "cell_type": "code",
      "metadata": {
        "id": "r6ZkxOiBxsLq",
        "colab": {
          "base_uri": "https://localhost:8080/",
          "height": 190
        },
        "outputId": "7ec1359e-6167-48ea-a484-7ffcd4299851"
      },
      "source": [
        "from sklearn.neighbors import KNeighborsClassifier\n",
        "clf = KNeighborsClassifier(n_neighbors=3)\n",
        "scores = cross_validate(clf,Features, Labels, cv=5, scoring=scoring)\n",
        "print_cv(scores)"
      ],
      "execution_count": null,
      "outputs": [
        {
          "output_type": "stream",
          "text": [
            "         Precision     Recall       f1       jaccard\n",
            "Fold  1    0.649        0.665      0.653      0.513\n",
            "Fold  2    0.659        0.717      0.683      0.540\n",
            "Fold  3    0.682        0.674      0.663      0.540\n",
            "Fold  4    0.659        0.726      0.688      0.544\n",
            "Fold  5    0.683        0.696      0.676      0.528\n",
            "------------------------------------------------------------------------------------------------------------------------------------------------------------------------------------------------------------------------------------------------------------------------------------------------------------------------------------------------------------------------------------------------------------------------------------------------------------------------------------------------------------------------------------------------------------------------------------------------------------------------\n",
            "Mean       0.666        0.696      0.673      0.533\n",
            "Std        0.014        0.024      0.013      0.012\n"
          ],
          "name": "stdout"
        }
      ]
    },
    {
      "cell_type": "code",
      "metadata": {
        "id": "lgprQTXcAOYL"
      },
      "source": [
        "Mean       0.708        0.756      0.731      0.576\n",
        "Std        0.019        0.016      0.009      0.011"
      ],
      "execution_count": null,
      "outputs": []
    },
    {
      "cell_type": "markdown",
      "metadata": {
        "id": "O3nSQSy72BJl"
      },
      "source": [
        "## **Colaborative Filtering** "
      ]
    },
    {
      "cell_type": "code",
      "metadata": {
        "id": "vnI6KHqNho-s"
      },
      "source": [
        "!pip install surprise"
      ],
      "execution_count": null,
      "outputs": []
    },
    {
      "cell_type": "code",
      "metadata": {
        "id": "zGd6CY22L36Y"
      },
      "source": [
        "from surprise import NormalPredictor\n",
        "from surprise import Dataset\n",
        "from surprise import Reader\n",
        "from surprise.model_selection import cross_validate\n",
        "from surprise import SVD\n",
        "from surprise import accuracy\n",
        "from surprise.model_selection import train_test_split\n",
        "from surprise import KNNBasic\n",
        "from surprise.model_selection import KFold\n",
        "from sklearn.metrics import precision_score\n",
        "from sklearn.metrics import recall_score\n",
        "from sklearn.metrics import f1_score"
      ],
      "execution_count": null,
      "outputs": []
    },
    {
      "cell_type": "code",
      "metadata": {
        "id": "bb_-fdizMXB2"
      },
      "source": [
        "def df_to_nx(df):\n",
        "\n",
        "    ######\n",
        "    df_len=df.shape[0]\n",
        "    df_fe=df.shape[1]\n",
        "    zip_list=[]\n",
        "    ######\n",
        "    for e in range(df_len):\n",
        "        zip_obj=zip(np.full(df_fe,e+1, dtype='i'),df.iloc[e,:].keys(),df.iloc[e,:].values)\n",
        "        for obj in zip_obj:\n",
        "            zip_list.append(obj)\n",
        "    ######\n",
        "    nx_df=pd.DataFrame(zip_list, columns = ['userID','itemID','rating'])\n",
        "    ######\n",
        "\n",
        "    return (nx_df)"
      ],
      "execution_count": null,
      "outputs": []
    },
    {
      "cell_type": "code",
      "metadata": {
        "id": "f3ffdyaRMwwv",
        "colab": {
          "base_uri": "https://localhost:8080/",
          "height": 275
        },
        "outputId": "80ea847e-64ab-48f6-c8ba-da1f1f70a4c6"
      },
      "source": [
        "act.head()"
      ],
      "execution_count": null,
      "outputs": [
        {
          "output_type": "execute_result",
          "data": {
            "text/html": [
              "<div>\n",
              "<style scoped>\n",
              "    .dataframe tbody tr th:only-of-type {\n",
              "        vertical-align: middle;\n",
              "    }\n",
              "\n",
              "    .dataframe tbody tr th {\n",
              "        vertical-align: top;\n",
              "    }\n",
              "\n",
              "    .dataframe thead th {\n",
              "        text-align: right;\n",
              "    }\n",
              "</style>\n",
              "<table border=\"1\" class=\"dataframe\">\n",
              "  <thead>\n",
              "    <tr style=\"text-align: right;\">\n",
              "      <th></th>\n",
              "      <th>Historical Sites</th>\n",
              "      <th>Cinema</th>\n",
              "      <th>Theater</th>\n",
              "      <th>Musems</th>\n",
              "      <th>Holy Sites</th>\n",
              "      <th>Mosques and Churches</th>\n",
              "      <th>Sport Events</th>\n",
              "      <th>Sport Activities</th>\n",
              "      <th>Exhibitions (Art and Book)</th>\n",
              "      <th>Music Events</th>\n",
              "      <th>Mall</th>\n",
              "      <th>Public Gardens and Parks</th>\n",
              "      <th>Restaurants</th>\n",
              "      <th>Cafe</th>\n",
              "      <th>Zoo</th>\n",
              "      <th>Rural Places</th>\n",
              "      <th>Waterfalls and Rivers</th>\n",
              "      <th>Mountains</th>\n",
              "    </tr>\n",
              "  </thead>\n",
              "  <tbody>\n",
              "    <tr>\n",
              "      <th>0</th>\n",
              "      <td>1</td>\n",
              "      <td>0</td>\n",
              "      <td>1</td>\n",
              "      <td>1</td>\n",
              "      <td>0</td>\n",
              "      <td>0</td>\n",
              "      <td>0</td>\n",
              "      <td>0</td>\n",
              "      <td>1</td>\n",
              "      <td>0</td>\n",
              "      <td>0</td>\n",
              "      <td>0</td>\n",
              "      <td>0</td>\n",
              "      <td>0</td>\n",
              "      <td>0</td>\n",
              "      <td>1</td>\n",
              "      <td>1</td>\n",
              "      <td>1</td>\n",
              "    </tr>\n",
              "    <tr>\n",
              "      <th>1</th>\n",
              "      <td>1</td>\n",
              "      <td>1</td>\n",
              "      <td>1</td>\n",
              "      <td>0</td>\n",
              "      <td>0</td>\n",
              "      <td>1</td>\n",
              "      <td>0</td>\n",
              "      <td>1</td>\n",
              "      <td>0</td>\n",
              "      <td>1</td>\n",
              "      <td>1</td>\n",
              "      <td>1</td>\n",
              "      <td>1</td>\n",
              "      <td>1</td>\n",
              "      <td>0</td>\n",
              "      <td>1</td>\n",
              "      <td>1</td>\n",
              "      <td>1</td>\n",
              "    </tr>\n",
              "    <tr>\n",
              "      <th>2</th>\n",
              "      <td>1</td>\n",
              "      <td>0</td>\n",
              "      <td>1</td>\n",
              "      <td>0</td>\n",
              "      <td>1</td>\n",
              "      <td>1</td>\n",
              "      <td>1</td>\n",
              "      <td>1</td>\n",
              "      <td>0</td>\n",
              "      <td>0</td>\n",
              "      <td>1</td>\n",
              "      <td>1</td>\n",
              "      <td>1</td>\n",
              "      <td>0</td>\n",
              "      <td>0</td>\n",
              "      <td>1</td>\n",
              "      <td>1</td>\n",
              "      <td>1</td>\n",
              "    </tr>\n",
              "    <tr>\n",
              "      <th>3</th>\n",
              "      <td>1</td>\n",
              "      <td>1</td>\n",
              "      <td>1</td>\n",
              "      <td>0</td>\n",
              "      <td>1</td>\n",
              "      <td>1</td>\n",
              "      <td>1</td>\n",
              "      <td>0</td>\n",
              "      <td>0</td>\n",
              "      <td>1</td>\n",
              "      <td>1</td>\n",
              "      <td>1</td>\n",
              "      <td>1</td>\n",
              "      <td>1</td>\n",
              "      <td>1</td>\n",
              "      <td>1</td>\n",
              "      <td>1</td>\n",
              "      <td>0</td>\n",
              "    </tr>\n",
              "    <tr>\n",
              "      <th>4</th>\n",
              "      <td>1</td>\n",
              "      <td>0</td>\n",
              "      <td>0</td>\n",
              "      <td>0</td>\n",
              "      <td>0</td>\n",
              "      <td>0</td>\n",
              "      <td>1</td>\n",
              "      <td>0</td>\n",
              "      <td>0</td>\n",
              "      <td>1</td>\n",
              "      <td>0</td>\n",
              "      <td>1</td>\n",
              "      <td>0</td>\n",
              "      <td>1</td>\n",
              "      <td>0</td>\n",
              "      <td>0</td>\n",
              "      <td>1</td>\n",
              "      <td>0</td>\n",
              "    </tr>\n",
              "  </tbody>\n",
              "</table>\n",
              "</div>"
            ],
            "text/plain": [
              "   Historical Sites  Cinema  ...  Waterfalls and Rivers  Mountains\n",
              "0                 1       0  ...                      1          1\n",
              "1                 1       1  ...                      1          1\n",
              "2                 1       0  ...                      1          1\n",
              "3                 1       1  ...                      1          0\n",
              "4                 1       0  ...                      1          0\n",
              "\n",
              "[5 rows x 18 columns]"
            ]
          },
          "metadata": {
            "tags": []
          },
          "execution_count": 41
        }
      ]
    },
    {
      "cell_type": "code",
      "metadata": {
        "id": "kStt4_lWMjm3"
      },
      "source": [
        "data=df_to_nx(act)"
      ],
      "execution_count": null,
      "outputs": []
    },
    {
      "cell_type": "code",
      "metadata": {
        "id": "LQB93YuAM7B_",
        "colab": {
          "base_uri": "https://localhost:8080/",
          "height": 419
        },
        "outputId": "15fdf443-b1b5-423e-cd4e-11b49f99fb60"
      },
      "source": [
        "data"
      ],
      "execution_count": null,
      "outputs": [
        {
          "output_type": "execute_result",
          "data": {
            "text/html": [
              "<div>\n",
              "<style scoped>\n",
              "    .dataframe tbody tr th:only-of-type {\n",
              "        vertical-align: middle;\n",
              "    }\n",
              "\n",
              "    .dataframe tbody tr th {\n",
              "        vertical-align: top;\n",
              "    }\n",
              "\n",
              "    .dataframe thead th {\n",
              "        text-align: right;\n",
              "    }\n",
              "</style>\n",
              "<table border=\"1\" class=\"dataframe\">\n",
              "  <thead>\n",
              "    <tr style=\"text-align: right;\">\n",
              "      <th></th>\n",
              "      <th>userID</th>\n",
              "      <th>itemID</th>\n",
              "      <th>rating</th>\n",
              "    </tr>\n",
              "  </thead>\n",
              "  <tbody>\n",
              "    <tr>\n",
              "      <th>0</th>\n",
              "      <td>1</td>\n",
              "      <td>Historical Sites</td>\n",
              "      <td>1</td>\n",
              "    </tr>\n",
              "    <tr>\n",
              "      <th>1</th>\n",
              "      <td>1</td>\n",
              "      <td>Cinema</td>\n",
              "      <td>0</td>\n",
              "    </tr>\n",
              "    <tr>\n",
              "      <th>2</th>\n",
              "      <td>1</td>\n",
              "      <td>Theater</td>\n",
              "      <td>1</td>\n",
              "    </tr>\n",
              "    <tr>\n",
              "      <th>3</th>\n",
              "      <td>1</td>\n",
              "      <td>Musems</td>\n",
              "      <td>1</td>\n",
              "    </tr>\n",
              "    <tr>\n",
              "      <th>4</th>\n",
              "      <td>1</td>\n",
              "      <td>Holy Sites</td>\n",
              "      <td>0</td>\n",
              "    </tr>\n",
              "    <tr>\n",
              "      <th>...</th>\n",
              "      <td>...</td>\n",
              "      <td>...</td>\n",
              "      <td>...</td>\n",
              "    </tr>\n",
              "    <tr>\n",
              "      <th>4351</th>\n",
              "      <td>242</td>\n",
              "      <td>Cafe</td>\n",
              "      <td>1</td>\n",
              "    </tr>\n",
              "    <tr>\n",
              "      <th>4352</th>\n",
              "      <td>242</td>\n",
              "      <td>Zoo</td>\n",
              "      <td>1</td>\n",
              "    </tr>\n",
              "    <tr>\n",
              "      <th>4353</th>\n",
              "      <td>242</td>\n",
              "      <td>Rural Places</td>\n",
              "      <td>1</td>\n",
              "    </tr>\n",
              "    <tr>\n",
              "      <th>4354</th>\n",
              "      <td>242</td>\n",
              "      <td>Waterfalls and Rivers</td>\n",
              "      <td>1</td>\n",
              "    </tr>\n",
              "    <tr>\n",
              "      <th>4355</th>\n",
              "      <td>242</td>\n",
              "      <td>Mountains</td>\n",
              "      <td>1</td>\n",
              "    </tr>\n",
              "  </tbody>\n",
              "</table>\n",
              "<p>4356 rows × 3 columns</p>\n",
              "</div>"
            ],
            "text/plain": [
              "      userID                 itemID  rating\n",
              "0          1       Historical Sites       1\n",
              "1          1                 Cinema       0\n",
              "2          1                Theater       1\n",
              "3          1                 Musems       1\n",
              "4          1             Holy Sites       0\n",
              "...      ...                    ...     ...\n",
              "4351     242                   Cafe       1\n",
              "4352     242                    Zoo       1\n",
              "4353     242           Rural Places       1\n",
              "4354     242  Waterfalls and Rivers       1\n",
              "4355     242              Mountains       1\n",
              "\n",
              "[4356 rows x 3 columns]"
            ]
          },
          "metadata": {
            "tags": []
          },
          "execution_count": 43
        }
      ]
    },
    {
      "cell_type": "code",
      "metadata": {
        "id": "tHm3MDPmM8HW"
      },
      "source": [
        "reader = Reader(rating_scale=(0, 1))\n",
        "data = Dataset.load_from_df(data[['userID', 'itemID', 'rating']], reader)"
      ],
      "execution_count": null,
      "outputs": []
    },
    {
      "cell_type": "code",
      "metadata": {
        "id": "Kw3yFzxING9O",
        "colab": {
          "base_uri": "https://localhost:8080/",
          "height": 34
        },
        "outputId": "73419c42-dcca-409e-e79a-423a1748af37"
      },
      "source": [
        "data"
      ],
      "execution_count": null,
      "outputs": [
        {
          "output_type": "execute_result",
          "data": {
            "text/plain": [
              "<surprise.dataset.DatasetAutoFolds at 0x7f1c245d7e48>"
            ]
          },
          "metadata": {
            "tags": []
          },
          "execution_count": 45
        }
      ]
    },
    {
      "cell_type": "code",
      "metadata": {
        "id": "VqFjWKwPNIqf"
      },
      "source": [
        "kf = KFold(n_splits=5)"
      ],
      "execution_count": null,
      "outputs": []
    },
    {
      "cell_type": "code",
      "metadata": {
        "id": "JfI-o_1OiNfr"
      },
      "source": [
        "algo = SVD()"
      ],
      "execution_count": null,
      "outputs": []
    },
    {
      "cell_type": "code",
      "metadata": {
        "id": "VuEHI6FeA6hv",
        "colab": {
          "base_uri": "https://localhost:8080/",
          "height": 697
        },
        "outputId": "4193ca95-539f-44b1-b5a8-d360ced9205d"
      },
      "source": [
        "for thr in [0.25,0.3,0.35,0.4,0.45,0.50,0.55,0.60,0.65,0.70]:\n",
        "    print(str(thr),'----------------')\n",
        "    pre=[]\n",
        "    rec=[]\n",
        "    fscore=[]\n",
        "    np.random.seed(42)\n",
        "    for trainset, testset in kf.split(data):\n",
        "        y=[]\n",
        "        yt=[]\n",
        "        algo.fit(trainset)\n",
        "        predictions = algo.test(testset)\n",
        "        for e in range(len(predictions)):\n",
        "            y.append(predictions[e][2])\n",
        "            if predictions[e][3]>thr:\n",
        "                yt.append(1.0)\n",
        "            else:\n",
        "                yt.append(0.0)\n",
        "        pre.append(precision_score(y,yt,average='macro'))\n",
        "        rec.append(recall_score(y,yt,average='macro'))\n",
        "        fscore.append(f1_score(y,yt,average='macro'))\n",
        "    print('Precision  ',np.mean(pre))\n",
        "    print('Recall  ',np.mean(rec))\n",
        "    print('F1-Score  ',np.mean(fscore))\n",
        "    # print('F1-Score',f1_score(y,yt,average='micro'))\n",
        "    # print('precison',precision_score(y,yt))\n",
        "    # print('Recall',recall_score(y,yt))"
      ],
      "execution_count": null,
      "outputs": [
        {
          "output_type": "stream",
          "text": [
            "0.25 ----------------\n",
            "Precision   0.6940061775598384\n",
            "Recall   0.5866494981820484\n",
            "F1-Score   0.5352516874268769\n",
            "0.3 ----------------\n",
            "Precision   0.684926587486509\n",
            "Recall   0.6080886664033314\n",
            "F1-Score   0.575801763759886\n",
            "0.35 ----------------\n",
            "Precision   0.6866168083776995\n",
            "Recall   0.6341859627586097\n",
            "F1-Score   0.6173615038366045\n",
            "0.4 ----------------\n",
            "Precision   0.6976917822372043\n",
            "Recall   0.6660333737818489\n",
            "F1-Score   0.6601593366402092\n",
            "0.45 ----------------\n",
            "Precision   0.693912180809843\n",
            "Recall   0.6800043604001191\n",
            "F1-Score   0.6790700753219945\n",
            "0.5 ----------------\n",
            "Precision   0.6948156846049187\n",
            "Recall   0.6924592587318567\n",
            "F1-Score   0.692893696175259\n",
            "0.55 ----------------\n",
            "Precision   0.6980161821838108\n",
            "Recall   0.6988481992505952\n",
            "F1-Score   0.6969269927679337\n",
            "0.6 ----------------\n",
            "Precision   0.7039619362543308\n",
            "Recall   0.6986337340212909\n",
            "F1-Score   0.6905866821859556\n",
            "0.65 ----------------\n",
            "Precision   0.699132691579193\n",
            "Recall   0.6787055162675028\n",
            "F1-Score   0.6606015890593392\n",
            "0.7 ----------------\n",
            "Precision   0.6971845970180301\n",
            "Recall   0.6579060940890801\n",
            "F1-Score   0.627773014907207\n"
          ],
          "name": "stdout"
        }
      ]
    },
    {
      "cell_type": "code",
      "metadata": {
        "id": "m20FBcLO0Sl-"
      },
      "source": [
        "algo = KNNBasic()"
      ],
      "execution_count": null,
      "outputs": []
    },
    {
      "cell_type": "code",
      "metadata": {
        "id": "1kGgMTIs0VDj",
        "colab": {
          "base_uri": "https://localhost:8080/",
          "height": 1000
        },
        "outputId": "c3359db4-5e59-4b81-f47e-8d6830060969"
      },
      "source": [
        "for thr in [0.25,0.3,0.35,0.4,0.45,0.50,0.55,0.60,0.65,0.70]:\n",
        "    print(str(thr),'----------------')\n",
        "    pre=[]\n",
        "    rec=[]\n",
        "    fscore=[]\n",
        "    np.random.seed(42)\n",
        "    for trainset, testset in kf.split(data):\n",
        "        y=[]\n",
        "        yt=[]\n",
        "        algo.fit(trainset)\n",
        "        predictions = algo.test(testset)\n",
        "        for e in range(len(predictions)):\n",
        "            y.append(predictions[e][2])\n",
        "            if predictions[e][3]>thr:\n",
        "                yt.append(1.0)\n",
        "            else:\n",
        "                yt.append(0.0)\n",
        "        pre.append(precision_score(y,yt,average='macro'))\n",
        "        rec.append(recall_score(y,yt,average='macro'))\n",
        "        fscore.append(f1_score(y,yt,average='macro'))\n",
        "    print('Precision  ',np.mean(pre))\n",
        "    print('Recall  ',np.mean(rec))\n",
        "    print('F1-Score  ',np.mean(fscore))"
      ],
      "execution_count": null,
      "outputs": [
        {
          "output_type": "stream",
          "text": [
            "0.25 ----------------\n",
            "Computing the msd similarity matrix...\n",
            "Done computing similarity matrix.\n",
            "Computing the msd similarity matrix...\n",
            "Done computing similarity matrix.\n",
            "Computing the msd similarity matrix...\n",
            "Done computing similarity matrix.\n",
            "Computing the msd similarity matrix...\n",
            "Done computing similarity matrix.\n",
            "Computing the msd similarity matrix...\n",
            "Done computing similarity matrix.\n",
            "Precision   0.7371313796432929\n",
            "Recall   0.6186745854454605\n",
            "F1-Score   0.5790342989168624\n",
            "0.3 ----------------\n",
            "Computing the msd similarity matrix...\n",
            "Done computing similarity matrix.\n",
            "Computing the msd similarity matrix...\n",
            "Done computing similarity matrix.\n",
            "Computing the msd similarity matrix...\n",
            "Done computing similarity matrix.\n",
            "Computing the msd similarity matrix...\n",
            "Done computing similarity matrix.\n",
            "Computing the msd similarity matrix...\n",
            "Done computing similarity matrix.\n",
            "Precision   0.7361828216399765\n",
            "Recall   0.6508108172731093\n",
            "F1-Score   0.6290379361876937\n",
            "0.35 ----------------\n",
            "Computing the msd similarity matrix...\n",
            "Done computing similarity matrix.\n",
            "Computing the msd similarity matrix...\n",
            "Done computing similarity matrix.\n",
            "Computing the msd similarity matrix...\n",
            "Done computing similarity matrix.\n",
            "Computing the msd similarity matrix...\n",
            "Done computing similarity matrix.\n",
            "Computing the msd similarity matrix...\n",
            "Done computing similarity matrix.\n",
            "Precision   0.7329242680484926\n",
            "Recall   0.6820675319383757\n",
            "F1-Score   0.6736508496765651\n",
            "0.4 ----------------\n",
            "Computing the msd similarity matrix...\n",
            "Done computing similarity matrix.\n",
            "Computing the msd similarity matrix...\n",
            "Done computing similarity matrix.\n",
            "Computing the msd similarity matrix...\n",
            "Done computing similarity matrix.\n",
            "Computing the msd similarity matrix...\n",
            "Done computing similarity matrix.\n",
            "Computing the msd similarity matrix...\n",
            "Done computing similarity matrix.\n",
            "Precision   0.7422156553418666\n",
            "Recall   0.7123193293420502\n",
            "F1-Score   0.710506909504649\n",
            "0.45 ----------------\n",
            "Computing the msd similarity matrix...\n",
            "Done computing similarity matrix.\n",
            "Computing the msd similarity matrix...\n",
            "Done computing similarity matrix.\n",
            "Computing the msd similarity matrix...\n",
            "Done computing similarity matrix.\n",
            "Computing the msd similarity matrix...\n",
            "Done computing similarity matrix.\n",
            "Computing the msd similarity matrix...\n",
            "Done computing similarity matrix.\n",
            "Precision   0.7338984000700721\n",
            "Recall   0.722693074101928\n",
            "F1-Score   0.7233449977057551\n",
            "0.5 ----------------\n",
            "Computing the msd similarity matrix...\n",
            "Done computing similarity matrix.\n",
            "Computing the msd similarity matrix...\n",
            "Done computing similarity matrix.\n",
            "Computing the msd similarity matrix...\n",
            "Done computing similarity matrix.\n",
            "Computing the msd similarity matrix...\n",
            "Done computing similarity matrix.\n",
            "Computing the msd similarity matrix...\n",
            "Done computing similarity matrix.\n",
            "Precision   0.7293907005725885\n",
            "Recall   0.7276049323581883\n",
            "F1-Score   0.7279831504605806\n",
            "0.55 ----------------\n",
            "Computing the msd similarity matrix...\n",
            "Done computing similarity matrix.\n",
            "Computing the msd similarity matrix...\n",
            "Done computing similarity matrix.\n",
            "Computing the msd similarity matrix...\n",
            "Done computing similarity matrix.\n",
            "Computing the msd similarity matrix...\n",
            "Done computing similarity matrix.\n",
            "Computing the msd similarity matrix...\n",
            "Done computing similarity matrix.\n",
            "Precision   0.7290703846573706\n",
            "Recall   0.7300196463724864\n",
            "F1-Score   0.7279410814041503\n",
            "0.6 ----------------\n",
            "Computing the msd similarity matrix...\n",
            "Done computing similarity matrix.\n",
            "Computing the msd similarity matrix...\n",
            "Done computing similarity matrix.\n",
            "Computing the msd similarity matrix...\n",
            "Done computing similarity matrix.\n",
            "Computing the msd similarity matrix...\n",
            "Done computing similarity matrix.\n",
            "Computing the msd similarity matrix...\n",
            "Done computing similarity matrix.\n",
            "Precision   0.7276788189010345\n",
            "Recall   0.7249170567476679\n",
            "F1-Score   0.7189636201507115\n",
            "0.65 ----------------\n",
            "Computing the msd similarity matrix...\n",
            "Done computing similarity matrix.\n",
            "Computing the msd similarity matrix...\n",
            "Done computing similarity matrix.\n",
            "Computing the msd similarity matrix...\n",
            "Done computing similarity matrix.\n",
            "Computing the msd similarity matrix...\n",
            "Done computing similarity matrix.\n",
            "Computing the msd similarity matrix...\n",
            "Done computing similarity matrix.\n",
            "Precision   0.7273760970439661\n",
            "Recall   0.7162922017601254\n",
            "F1-Score   0.7051488113818917\n",
            "0.7 ----------------\n",
            "Computing the msd similarity matrix...\n",
            "Done computing similarity matrix.\n",
            "Computing the msd similarity matrix...\n",
            "Done computing similarity matrix.\n",
            "Computing the msd similarity matrix...\n",
            "Done computing similarity matrix.\n",
            "Computing the msd similarity matrix...\n",
            "Done computing similarity matrix.\n",
            "Computing the msd similarity matrix...\n",
            "Done computing similarity matrix.\n",
            "Precision   0.7265104888959566\n",
            "Recall   0.7018038277088616\n",
            "F1-Score   0.6833115574293582\n"
          ],
          "name": "stdout"
        }
      ]
    },
    {
      "cell_type": "code",
      "metadata": {
        "id": "II06OQsW0VJt"
      },
      "source": [
        ""
      ],
      "execution_count": null,
      "outputs": []
    },
    {
      "cell_type": "code",
      "metadata": {
        "id": "pMBDqL0i0VIA"
      },
      "source": [
        ""
      ],
      "execution_count": null,
      "outputs": []
    },
    {
      "cell_type": "code",
      "metadata": {
        "id": "A3F9aK5q1Cyv"
      },
      "source": [
        ""
      ],
      "execution_count": null,
      "outputs": []
    },
    {
      "cell_type": "code",
      "metadata": {
        "id": "4eQ7Q_4M1C3P"
      },
      "source": [
        ""
      ],
      "execution_count": null,
      "outputs": []
    },
    {
      "cell_type": "code",
      "metadata": {
        "id": "VNU_hN-36W7E",
        "colab": {
          "base_uri": "https://localhost:8080/",
          "height": 221
        },
        "outputId": "e57cca51-c734-47d3-de95-1e094096e0a5"
      },
      "source": [
        "def print_metrics(labels, scores):\n",
        "    metrics = sklm.precision_recall_fscore_support(labels, scores)\n",
        "    conf = sklm.confusion_matrix(labels, scores)\n",
        "    print('                 Confusion matrix')\n",
        "    print('                 Score positive    Score negative')\n",
        "    print('Actual positive    %6d' % conf[0,0] + '             %5d' % conf[0,1])\n",
        "    print('Actual negative    %6d' % conf[1,0] + '             %5d' % conf[1,1])\n",
        "    print('')\n",
        "    print('Accuracy  %0.2f' % sklm.accuracy_score(labels, scores))\n",
        "    print(' ')\n",
        "    print('           Positive      Negative')\n",
        "    print('Num case   %6d' % metrics[3][0] + '        %6d' % metrics[3][1])\n",
        "    print('Precision  %6.2f' % metrics[0][0] + '        %6.2f' % metrics[0][1])\n",
        "    print('Recall     %6.2f' % metrics[1][0] + '        %6.2f' % metrics[1][1])\n",
        "    print('F1         %6.2f' % metrics[2][0] + '        %6.2f' % metrics[2][1])\n",
        "\n",
        "\n",
        "    \n",
        "print_metrics(y, yt)    "
      ],
      "execution_count": null,
      "outputs": [
        {
          "output_type": "stream",
          "text": [
            "                 Confusion matrix\n",
            "                 Score positive    Score negative\n",
            "Actual positive       387                14\n",
            "Actual negative       364               106\n",
            "\n",
            "Accuracy  0.57\n",
            " \n",
            "           Positive      Negative\n",
            "Num case      401           470\n",
            "Precision    0.52          0.88\n",
            "Recall       0.97          0.23\n",
            "F1           0.67          0.36\n"
          ],
          "name": "stdout"
        }
      ]
    },
    {
      "cell_type": "code",
      "metadata": {
        "id": "kVDeZKLHRyhb",
        "colab": {
          "base_uri": "https://localhost:8080/",
          "height": 34
        },
        "outputId": "e1cf35fa-dfac-42b8-ae8f-99950e74ea52"
      },
      "source": [
        "f1_score(y,yt,average='micro')"
      ],
      "execution_count": null,
      "outputs": [
        {
          "output_type": "execute_result",
          "data": {
            "text/plain": [
              "0.56601607347876"
            ]
          },
          "metadata": {
            "tags": []
          },
          "execution_count": 23
        }
      ]
    },
    {
      "cell_type": "code",
      "metadata": {
        "id": "EsMlsKxFzVya",
        "colab": {
          "base_uri": "https://localhost:8080/",
          "height": 34
        },
        "outputId": "3b712610-8e19-42e2-9683-a1970a6d8374"
      },
      "source": [
        "precision_score(y,yt,average='micro')"
      ],
      "execution_count": null,
      "outputs": [
        {
          "output_type": "execute_result",
          "data": {
            "text/plain": [
              "0.56601607347876"
            ]
          },
          "metadata": {
            "tags": []
          },
          "execution_count": 24
        }
      ]
    },
    {
      "cell_type": "code",
      "metadata": {
        "id": "ZwmR5egrzbpM",
        "colab": {
          "base_uri": "https://localhost:8080/",
          "height": 34
        },
        "outputId": "598e6f1b-ebab-40f3-f422-55c1a4f5d745"
      },
      "source": [
        "recall_score(y,yt,average='micro')"
      ],
      "execution_count": null,
      "outputs": [
        {
          "output_type": "execute_result",
          "data": {
            "text/plain": [
              "0.56601607347876"
            ]
          },
          "metadata": {
            "tags": []
          },
          "execution_count": 25
        }
      ]
    },
    {
      "cell_type": "code",
      "metadata": {
        "id": "Vvwj6wZZ8OiM"
      },
      "source": [
        ""
      ],
      "execution_count": null,
      "outputs": []
    }
  ]
}